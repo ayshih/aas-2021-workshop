{
 "cells": [
  {
   "cell_type": "markdown",
   "id": "8b36dd99",
   "metadata": {
    "slideshow": {
     "slide_type": "slide"
    }
   },
   "source": [
    "Searching and Downloading Data with Sunpy\n",
    "=========================================\n",
    "\n",
    "In this notebook we will look at how sunpy can be used to search and download solar physics data. Here is what this notebook contains:\n",
    "\n",
    "1. Overview of Fido\n",
    "2. Attributes of Fido\n",
    "3. Constructing a data search query\n",
    "4. Inspecting data search query\n",
    "5. More complex queries\n",
    "6. Using Fido to query the HEK\n",
    "7. Downloading data\n",
    "8. Extending Fido : New clients and use for your own packages <img src=\"https://raw.githubusercontent.com/sunpy/sunpy.org/main/_static/img/sunpy_icon.svg\" alt=\"logo\" width=\"100\" align=\"right\"/>"
   ]
  },
  {
   "cell_type": "markdown",
   "id": "6007ebb7",
   "metadata": {
    "slideshow": {
     "slide_type": "slide"
    }
   },
   "source": [
    "\n",
    "Fido Unified Downloader\n",
    "====================\n",
    "\n",
    "## 1. Overview of Fido\n",
    "\n",
    "\n",
    "\n",
    "* Fido is sunpy's interface for searching and downloading solar physics data.\n",
    "\n",
    "\n",
    "* It offers a unified interface for searching and fetching data irrespective of the underlying client or webservice from where the data is obtained.\n",
    "\n",
    "\n",
    "* Offers a way to search and accesses multiple instruments and all available data providers in a single query.\n",
    "\n",
    "\n",
    "* It supplies a single, easy, consistent and *extendable* way to get most forms of solar physics data the community need \n",
    "\n",
    "Fido offers access to data available through:\n",
    "\n",
    " * **VSO**\n",
    " * **JSOC** (through `drms`)\n",
    " * **Individual data providers** from web accessible sources (http, ftp, etc)\n",
    " * **HEK**\n",
    " * **HELIO**\n",
    " \n",
    "Lets first import `Fido` and the `attrs` submodule, and inspect Fido. \n",
    "As described here Fido provides access to many sources of data through different `clients`, these clients can be defined inside sunpy or in other packages. Lets print the current list of available clients within sunpy."
   ]
  },
  {
   "cell_type": "code",
   "execution_count": 1,
   "id": "c6596d6f",
   "metadata": {},
   "outputs": [],
   "source": [
    "from sunpy.net import Fido, attrs as a"
   ]
  },
  {
   "cell_type": "code",
   "execution_count": 2,
   "id": "05c7100b",
   "metadata": {},
   "outputs": [
    {
     "data": {
      "text/html": [
       "<p>sunpy.net.Fido</p>\n",
       "<p>\n",
       "Fido is a unified data search and retrieval tool.\n",
       "\n",
       "It provides simultaneous access to a variety of online data sources, some\n",
       "cover multiple instruments and data products like the Virtual Solar\n",
       "Observatory and some are specific to a single source.\n",
       "\n",
       "For details of using `~sunpy.net.Fido` see :ref:`fido_guide`.\n",
       "\n",
       "</p>\n",
       "<table id=\"table5493848864\">\n",
       "<thead><tr><th>Client</th><th>Description</th></tr></thead>\n",
       "<tr><td>EVEClient</td><td>Provides access to Level 0C Extreme ultraviolet Variability Experiment (EVE) data.</td></tr>\n",
       "<tr><td>GBMClient</td><td>Provides access to data from the Gamma-Ray Burst Monitor (GBM) instrument on board the Fermi satellite.</td></tr>\n",
       "<tr><td>XRSClient</td><td>Provides access to the GOES XRS fits files archive.</td></tr>\n",
       "<tr><td>SUVIClient</td><td>Provides access to data from the GOES Solar Ultraviolet Imager (SUVI).</td></tr>\n",
       "<tr><td>GONGClient</td><td>Provides access to the Magnetogram products of NSO-GONG synoptic Maps.</td></tr>\n",
       "<tr><td>...</td><td>...</td></tr>\n",
       "<tr><td>NoRHClient</td><td>Provides access to the Nobeyama RadioHeliograph (NoRH) averaged correlation time series data.</td></tr>\n",
       "<tr><td>RHESSIClient</td><td>Provides access to the RHESSI observing summary time series data.</td></tr>\n",
       "<tr><td>HEKClient</td><td>Provides access to the Heliophysics Event Knowledgebase (HEK).</td></tr>\n",
       "<tr><td>HECClient</td><td>Provides access to the HELIO webservices.</td></tr>\n",
       "<tr><td>JSOCClient</td><td>Provides access to the JSOC Data Export service.</td></tr>\n",
       "<tr><td>VSOClient</td><td>Provides access to query and download from Virtual Solar Observatory (VSO).</td></tr>\n",
       "</table>\n",
       "Length = 15 rows"
      ],
      "text/plain": [
       "<sunpy.net.fido_factory.UnifiedDownloaderFactory object at 0x1477ca370>\n",
       "sunpy.net.Fido\n",
       "\n",
       "Fido is a unified data search and retrieval tool.\n",
       "\n",
       "It provides simultaneous access to a variety of online data sources, some\n",
       "cover multiple instruments and data products like the Virtual Solar\n",
       "Observatory and some are specific to a single source.\n",
       "\n",
       "For details of using `~sunpy.net.Fido` see :ref:`fido_guide`.\n",
       "\n",
       "\n",
       "   Client    ...\n",
       "------------ ...\n",
       "EVEClient    ...\n",
       "GBMClient    ...\n",
       "XRSClient    ...\n",
       "SUVIClient   ...\n",
       "GONGClient   ...\n",
       "...          ...\n",
       "NoRHClient   ...\n",
       "RHESSIClient ...\n",
       "HEKClient    ...\n",
       "HECClient    ...\n",
       "JSOCClient   ...\n",
       "VSOClient    ...\n",
       "Length = 15 rows"
      ]
     },
     "execution_count": 2,
     "metadata": {},
     "output_type": "execute_result"
    }
   ],
   "source": [
    "Fido"
   ]
  },
  {
   "cell_type": "markdown",
   "id": "eabc9a77",
   "metadata": {},
   "source": [
    "## 2. Using attributes to search for data with Fido\n",
    "\n",
    "Sunpy uses specified *attributes* to search for data using Fido. The range of these attributes is located in the `attrs` submodule. These `attr` parameters can be combined together to construct data search queries, such as searching over a certain time period, for data from a certain instrument with a certain wavelength etc.\n",
    "\n",
    "Different clients and provides will have client-specific attributes, but the core attributes are:\n",
    "\n",
    "* `a.Time`\n",
    "* `a.Instrument`\n",
    "* `a.Wavelength`\n",
    "\n",
    "\n",
    "Lets look at how these attributes work in more detail.\n",
    "\n",
    "First we can look at a.Time, which is used to specify the timerange of a query."
   ]
  },
  {
   "cell_type": "code",
   "execution_count": 3,
   "id": "82e5945e",
   "metadata": {},
   "outputs": [
    {
     "data": {
      "text/plain": [
       "<sunpy.net.attrs.Time(2021-05-23 02:00:00.000, 2021-05-23 04:00:00.000)>"
      ]
     },
     "execution_count": 3,
     "metadata": {},
     "output_type": "execute_result"
    }
   ],
   "source": [
    "a.Time(\"2021-05-23 02:00\", \"2021-05-23 04:00\")"
   ]
  },
  {
   "cell_type": "markdown",
   "id": "8be2a838",
   "metadata": {},
   "source": [
    "We can inspect the instrument attribute to see what instrument `attrs` are currently supported through sunpy. Here we can see the instrument name (i.e. the name to be passed to the `a.Instrument` attribute, the client from which the data is available to access, and the full name of the instrument."
   ]
  },
  {
   "cell_type": "code",
   "execution_count": 4,
   "id": "13fdc573",
   "metadata": {},
   "outputs": [
    {
     "data": {
      "text/html": [
       "<p>sunpy.net.attrs.Instrument</p>\n",
       "<p>\n",
       "Specifies the Instrument name for the search.\n",
       "</p>\n",
       "<table id=\"table5494146336\">\n",
       "<thead><tr><th>Attribute Name</th><th>Client</th><th>Full Name</th><th>Description</th></tr></thead>\n",
       "<tr><td>aia</td><td>VSO</td><td>AIA</td><td>Atmospheric Imaging Assembly</td></tr>\n",
       "<tr><td>bbi</td><td>VSO</td><td>BBI</td><td>None</td></tr>\n",
       "<tr><td>bcs</td><td>VSO</td><td>BCS</td><td>Bragg Crystal Spectrometer</td></tr>\n",
       "<tr><td>be_continuum</td><td>VSO</td><td>BE-Continuum</td><td>INAF-OACT Barra Equatoriale Continuum Instrument</td></tr>\n",
       "<tr><td>be_halpha</td><td>VSO</td><td>BE-Halpha</td><td>INAF-OACT Barra Equatoriale Hα Instrument</td></tr>\n",
       "<tr><td>bic_hifi</td><td>VSO</td><td>BIC-HIFI</td><td>None</td></tr>\n",
       "<tr><td>bigbear</td><td>VSO</td><td>Big Bear</td><td>Big Bear Solar Observatory, California TON and GONG+ sites</td></tr>\n",
       "<tr><td>caii</td><td>VSO</td><td>CAII</td><td>Kanzelhöhe Ca II k Instrument</td></tr>\n",
       "<tr><td>cds</td><td>VSO</td><td>CDS</td><td>Coronal Diagnostic Spectrometer</td></tr>\n",
       "<tr><td>celias</td><td>VSO</td><td>CELIAS</td><td>Charge, Element, and Isotope Analysis System</td></tr>\n",
       "<tr><td>cerrotololo</td><td>VSO</td><td>Cerro Tololo</td><td>Cerro Tololo, Chile GONG+ site</td></tr>\n",
       "<tr><td>chp</td><td>VSO</td><td>chp</td><td>Chromospheric Helium-I Imaging Photometer</td></tr>\n",
       "<tr><td>chrotel</td><td>VSO</td><td>ChroTel</td><td>Chromospheric Telescope</td></tr>\n",
       "<tr><td>climso</td><td>VSO</td><td>CLIMSO</td><td>Christian Latouche IMageur SOlaire</td></tr>\n",
       "<tr><td>cooke</td><td>VSO</td><td>Cooke</td><td>None</td></tr>\n",
       "<tr><td>costep</td><td>VSO</td><td>COSTEP</td><td>Comprehensive Suprathermal and Energetic Particle Analyzer</td></tr>\n",
       "<tr><td>cp</td><td>VSO</td><td>cp</td><td>Coronagraph/Polarimeter</td></tr>\n",
       "<tr><td>dpm</td><td>VSO</td><td>dpm</td><td>Digital Prominence Monitor</td></tr>\n",
       "<tr><td>eis</td><td>VSO</td><td>EIS</td><td>EUV Imaging Spectrometer</td></tr>\n",
       "<tr><td>eit</td><td>VSO</td><td>EIT</td><td>Extreme ultraviolet Imaging Telescope</td></tr>\n",
       "<tr><td>elteide</td><td>VSO</td><td>El Teide</td><td>Canary Islands GONG+ site</td></tr>\n",
       "<tr><td>erne</td><td>VSO</td><td>ERNE</td><td>Energetic and Relativistic Nuclei and Electron experiment</td></tr>\n",
       "<tr><td>eve</td><td>EVE</td><td>EVE</td><td>Extreme ultraviolet Variability Experiment, which is part of the NASA Solar D...</td></tr>\n",
       "<tr><td>eve</td><td>VSO</td><td>EVE</td><td>Extreme Ultraviolet Variability Experiment</td></tr>\n",
       "<tr><td>film</td><td>VSO</td><td>FILM</td><td>Kanzelhöhe Hα Film Camera</td></tr>\n",
       "<tr><td>five_12_channelmagnetograph</td><td>VSO</td><td>512-channel magnetograph</td><td>512-channel Magnetograph</td></tr>\n",
       "<tr><td>foxsi</td><td>VSO</td><td>FOXSI</td><td>Focusing Optics X-ray Solar Imager</td></tr>\n",
       "<tr><td>gbm</td><td>GBM</td><td>GBM</td><td>Gamma-Ray Burst Monitor on board the Fermi satellite.</td></tr>\n",
       "<tr><td>gfpi</td><td>VSO</td><td>GFPI</td><td>None</td></tr>\n",
       "<tr><td>goes</td><td>XRS</td><td>GOES</td><td>The Geostationary Operational Environmental Satellite Program.</td></tr>\n",
       "<tr><td>golf</td><td>VSO</td><td>GOLF</td><td>Global Oscillations at Low Frequencies</td></tr>\n",
       "<tr><td>gong</td><td>GONG</td><td>GONG</td><td>Global Oscillation Network Group.</td></tr>\n",
       "<tr><td>gris</td><td>VSO</td><td>GRIS</td><td>None</td></tr>\n",
       "<tr><td>ha2</td><td>VSO</td><td>HA2</td><td>Kanzelhöhe Hα Patrol Instrument</td></tr>\n",
       "<tr><td>hi_c</td><td>VSO</td><td>Hi-C</td><td>High Resolution Coronal Imager (193 A)</td></tr>\n",
       "<tr><td>hi_c21</td><td>VSO</td><td>Hi-C21</td><td>High Resolution Coronal Imager 2.1 (172 A)</td></tr>\n",
       "<tr><td>hmi</td><td>VSO</td><td>HMI</td><td>Helioseismic and Magnetic Imager</td></tr>\n",
       "<tr><td>hxeclipse</td><td>VSO</td><td>HXECLIPSE</td><td>UCAR HAO Historical Eclipse Archive</td></tr>\n",
       "<tr><td>hxt</td><td>VSO</td><td>HXT</td><td>Hard X-Ray Telescope</td></tr>\n",
       "<tr><td>imax</td><td>VSO</td><td>IMaX</td><td>None</td></tr>\n",
       "<tr><td>impact</td><td>VSO</td><td>IMPACT</td><td>In-situ Measurements of Particles and CME Transients</td></tr>\n",
       "<tr><td>iris</td><td>VSO</td><td>IRIS</td><td>Interface Region Imaging Spectrograph</td></tr>\n",
       "<tr><td>isoon</td><td>VSO</td><td>ISOON</td><td>Improved Solar Observing Optical Network</td></tr>\n",
       "<tr><td>iss</td><td>VSO</td><td>ISS</td><td>None</td></tr>\n",
       "<tr><td>ivm</td><td>VSO</td><td>IVM</td><td>None</td></tr>\n",
       "<tr><td>k_cor</td><td>VSO</td><td>K-Cor</td><td>None</td></tr>\n",
       "<tr><td>kpdc</td><td>VSO</td><td>KPDC</td><td>Kanzelhöhe Photosphere Digital Camera</td></tr>\n",
       "<tr><td>lasco</td><td>VSO</td><td>LASCO</td><td>Large Angle and Spectrometric Coronagraph</td></tr>\n",
       "<tr><td>learmonth</td><td>VSO</td><td>Learmonth</td><td>Australian GONG+ site</td></tr>\n",
       "<tr><td>longwave_lobe_06</td><td>VSO</td><td>LONGWAVE-LOBE-06</td><td>Full longwave EUV observation of Sun with EUNIS (2006 flight)</td></tr>\n",
       "<tr><td>longwave_lobe_07</td><td>VSO</td><td>LONGWAVE-LOBE-07</td><td>Full longwave EUV observation of Sun with EUNIS (2007 flight)</td></tr>\n",
       "<tr><td>longwave_slit_06</td><td>VSO</td><td>LONGWAVE-SLIT-06</td><td>Full longwave EUV observation of Sun with EUNIS (trimmed/2006 flight)</td></tr>\n",
       "<tr><td>longwave_slit_07</td><td>VSO</td><td>LONGWAVE-SLIT-07</td><td>Full longwave EUV observation of Sun with EUNIS (trimmed/2007 flight)</td></tr>\n",
       "<tr><td>lyra</td><td>LYRA</td><td>LYRA</td><td>Lyman Alpha Radiometer is the solar UV radiometer on board Proba-2.</td></tr>\n",
       "<tr><td>maunaloa</td><td>VSO</td><td>Mauna Loa</td><td>Hawai&apos;ian GONG+ site</td></tr>\n",
       "<tr><td>mdi</td><td>VSO</td><td>MDI</td><td>Michelson Doppler Imager</td></tr>\n",
       "<tr><td>mees</td><td>VSO</td><td>MEES</td><td>Mees Solar Observatory Imaging Spectrograph on Haleakala, Maui</td></tr>\n",
       "<tr><td>mergedgong</td><td>VSO</td><td>MERGED GONG</td><td>None</td></tr>\n",
       "<tr><td>meudonspectroheliograph</td><td>VSO</td><td>Meudon Spectroheliograph</td><td>None</td></tr>\n",
       "<tr><td>mk4</td><td>VSO</td><td>mk4</td><td>Mk. IV coronagraph</td></tr>\n",
       "<tr><td>noaa_indices</td><td>NOAAIndices</td><td>NOAA-Indices</td><td>Recent Solar Indices of Observed Monthly Mean Values</td></tr>\n",
       "<tr><td>noaa_predict</td><td>NOAAPredict</td><td>NOAA-Predict</td><td>Predicted Sunspot Number And Radio Flux Values With Expected Ranges.</td></tr>\n",
       "<tr><td>norh</td><td>NoRH</td><td>NORH</td><td>Nobeyama Radio Heliograph is an imaging radio telescope at 17 or 34GHz locate...</td></tr>\n",
       "<tr><td>ovsa</td><td>VSO</td><td>OVSA</td><td>Owens Valley Solar Array</td></tr>\n",
       "<tr><td>phoenix</td><td>VSO</td><td>PHOENIX</td><td>PHOENIX detector on flight #3 of FOXSI</td></tr>\n",
       "<tr><td>phoka</td><td>VSO</td><td>PHOKA</td><td>Kanzelhöhe Photoheliograph</td></tr>\n",
       "<tr><td>plastic</td><td>VSO</td><td>PLASTIC</td><td>PLasma And SupraThermal Ion Composition</td></tr>\n",
       "<tr><td>ptmc</td><td>VSO</td><td>PTMC</td><td>None</td></tr>\n",
       "<tr><td>rhessi</td><td>RHESSI</td><td>RHESSI</td><td>Reuven Ramaty High Energy Solar Spectroscopic Imager.</td></tr>\n",
       "<tr><td>rhessi</td><td>VSO</td><td>RHESSI</td><td>Reuven Ramaty High Energy Solar Spectroscopic Imager</td></tr>\n",
       "<tr><td>secchi</td><td>VSO</td><td>SECCHI</td><td>Sun Earth Connection Coronal and Heliospheric Investigation</td></tr>\n",
       "<tr><td>shortwave_lobe_06</td><td>VSO</td><td>SHORTWAVE-LOBE-06</td><td>Shortwave EUV observation of Sun with EUNIS (2006 flight)</td></tr>\n",
       "<tr><td>shortwave_lobe_07</td><td>VSO</td><td>SHORTWAVE-LOBE-07</td><td>Shortwave EUV observation of Sun with EUNIS (2007 flight)</td></tr>\n",
       "<tr><td>shortwave_slit_06</td><td>VSO</td><td>SHORTWAVE-SLIT-06</td><td>Shortwave EUV observation of Sun with EUNIS (trimmed/2006 flight)</td></tr>\n",
       "<tr><td>shortwave_slit_07</td><td>VSO</td><td>SHORTWAVE-SLIT-07</td><td>Shortwave EUV observation of Sun with EUNIS (trimmed/2007 flight)</td></tr>\n",
       "<tr><td>six_0_ftshg</td><td>VSO</td><td>60-ft SHG</td><td>60-foot Tower Spectroheliograph</td></tr>\n",
       "<tr><td>sj</td><td>VSO</td><td>SJ</td><td>Slit-Jaw</td></tr>\n",
       "<tr><td>solarftsspectrometer</td><td>VSO</td><td>solar fts spectrometer</td><td>Solar FTS Spectrometer</td></tr>\n",
       "<tr><td>soon</td><td>SRS</td><td>SOON</td><td>Solar Region Summary.</td></tr>\n",
       "<tr><td>sot</td><td>VSO</td><td>SOT</td><td>Solar Optical Telescope</td></tr>\n",
       "<tr><td>sp1</td><td>VSO</td><td>SP1</td><td>Spectropolarimeter1</td></tr>\n",
       "<tr><td>sp2</td><td>VSO</td><td>SP2</td><td>Spectropolarimeter2</td></tr>\n",
       "<tr><td>spectroheliograph</td><td>VSO</td><td>spectroheliograph</td><td>SpectroHeliograph</td></tr>\n",
       "<tr><td>spectromagnetograph</td><td>VSO</td><td>spectromagnetograph</td><td>SpectroMagnetograph</td></tr>\n",
       "<tr><td>srs_table</td><td>SRS</td><td>SRS-Table</td><td>Solar Region Summary.</td></tr>\n",
       "<tr><td>sumer</td><td>VSO</td><td>SUMER</td><td>Solar Ultraviolet Measurements of Emitted Radiation</td></tr>\n",
       "<tr><td>suvi</td><td>SUVI</td><td>SUVI</td><td>GOES Solar Ultraviolet Imager.</td></tr>\n",
       "<tr><td>suvi</td><td>VSO</td><td>SUVI</td><td>GOES-R Series Solar Ultraviolet Imager</td></tr>\n",
       "<tr><td>swan</td><td>VSO</td><td>SWAN</td><td>Solar Wind Anisotropies</td></tr>\n",
       "<tr><td>swap</td><td>VSO</td><td>SWAP</td><td>Sun Watcher using Active pixel system detector and image Processing</td></tr>\n",
       "<tr><td>swaves</td><td>VSO</td><td>SWAVES</td><td>STEREO/WAVES</td></tr>\n",
       "<tr><td>sxi_0</td><td>VSO</td><td>SXI-0</td><td>Solar X-ray Imager</td></tr>\n",
       "<tr><td>sxt</td><td>VSO</td><td>SXT</td><td>Soft X-Ray Telescope</td></tr>\n",
       "<tr><td>tm_1001</td><td>VSO</td><td>TM-1001</td><td>Kanzelhöhe Hα Pulnix TM-1001 Camera</td></tr>\n",
       "<tr><td>tm_1010</td><td>VSO</td><td>TM-1010</td><td>Kanzelhöhe Hα Pulnix TM-1010 Camera</td></tr>\n",
       "<tr><td>trace</td><td>VSO</td><td>TRACE</td><td>Transition Region And Coronal Explorer</td></tr>\n",
       "<tr><td>udaipur</td><td>VSO</td><td>Udaipur</td><td>Indian GONG+ site</td></tr>\n",
       "<tr><td>uvcs</td><td>VSO</td><td>UVCS</td><td>Ultraviolet Coronagraph Spectrometer</td></tr>\n",
       "<tr><td>vault_1999</td><td>VSO</td><td>VAULT-1999</td><td>Very High Angular Resolution Ultraviolet Telescope (1999 flight)</td></tr>\n",
       "<tr><td>vault_2002</td><td>VSO</td><td>VAULT-2002</td><td>Very High Angular Resolution Ultraviolet Telescope (2002 flight)</td></tr>\n",
       "<tr><td>vault_2014</td><td>VSO</td><td>VAULT-2014</td><td>Very High Angular Resolution Ultraviolet Telescope (2014 flight)</td></tr>\n",
       "<tr><td>virgo</td><td>VSO</td><td>VIRGO</td><td>Variability of Solar Irradiance and Gravity Oscillations</td></tr>\n",
       "<tr><td>vsm</td><td>VSO</td><td>vsm</td><td>Vector SpecroMagnetograph</td></tr>\n",
       "<tr><td>wbs</td><td>VSO</td><td>WBS</td><td>Wide Band Spectrometer</td></tr>\n",
       "<tr><td>wispr</td><td>VSO</td><td>WISPR</td><td>Wide-Field Imager for Solar Probe Plus</td></tr>\n",
       "<tr><td>x123</td><td>VSO</td><td>X123</td><td>X123 SXR Spectometer</td></tr>\n",
       "<tr><td>xrs</td><td>XRS</td><td>XRS</td><td>GOES X-ray Sensor</td></tr>\n",
       "<tr><td>xrt</td><td>VSO</td><td>XRT</td><td>X-Ray Telescope</td></tr>\n",
       "<tr><td>zimpol</td><td>VSO</td><td>ZIMPOL</td><td>None</td></tr>\n",
       "</table>"
      ],
      "text/plain": [
       "<class 'sunpy.net.attrs.Instrument'>\n",
       "sunpy.net.attrs.Instrument\n",
       "\n",
       "Specifies the Instrument name for the search.\n",
       "\n",
       "       Attribute Name       ...\n",
       "--------------------------- ...\n",
       "aia                         ...\n",
       "bbi                         ...\n",
       "bcs                         ...\n",
       "be_continuum                ...\n",
       "be_halpha                   ...\n",
       "bic_hifi                    ...\n",
       "bigbear                     ...\n",
       "caii                        ...\n",
       "cds                         ...\n",
       "celias                      ...\n",
       "cerrotololo                 ...\n",
       "chp                         ...\n",
       "chrotel                     ...\n",
       "climso                      ...\n",
       "cooke                       ...\n",
       "costep                      ...\n",
       "cp                          ...\n",
       "dpm                         ...\n",
       "eis                         ...\n",
       "eit                         ...\n",
       "elteide                     ...\n",
       "erne                        ...\n",
       "eve                         ...\n",
       "eve                         ...\n",
       "film                        ...\n",
       "five_12_channelmagnetograph ...\n",
       "foxsi                       ...\n",
       "gbm                         ...\n",
       "gfpi                        ...\n",
       "goes                        ...\n",
       "golf                        ...\n",
       "gong                        ...\n",
       "gris                        ...\n",
       "ha2                         ...\n",
       "hi_c                        ...\n",
       "hi_c21                      ...\n",
       "hmi                         ...\n",
       "hxeclipse                   ...\n",
       "hxt                         ...\n",
       "imax                        ...\n",
       "impact                      ...\n",
       "iris                        ...\n",
       "isoon                       ...\n",
       "iss                         ...\n",
       "ivm                         ...\n",
       "k_cor                       ...\n",
       "kpdc                        ...\n",
       "lasco                       ...\n",
       "learmonth                   ...\n",
       "longwave_lobe_06            ...\n",
       "longwave_lobe_07            ...\n",
       "longwave_slit_06            ...\n",
       "longwave_slit_07            ...\n",
       "lyra                        ...\n",
       "maunaloa                    ...\n",
       "mdi                         ...\n",
       "mees                        ...\n",
       "mergedgong                  ...\n",
       "meudonspectroheliograph     ...\n",
       "mk4                         ...\n",
       "noaa_indices                ...\n",
       "noaa_predict                ...\n",
       "norh                        ...\n",
       "ovsa                        ...\n",
       "phoenix                     ...\n",
       "phoka                       ...\n",
       "plastic                     ...\n",
       "ptmc                        ...\n",
       "rhessi                      ...\n",
       "rhessi                      ...\n",
       "secchi                      ...\n",
       "shortwave_lobe_06           ...\n",
       "shortwave_lobe_07           ...\n",
       "shortwave_slit_06           ...\n",
       "shortwave_slit_07           ...\n",
       "six_0_ftshg                 ...\n",
       "sj                          ...\n",
       "solarftsspectrometer        ...\n",
       "soon                        ...\n",
       "sot                         ...\n",
       "sp1                         ...\n",
       "sp2                         ...\n",
       "spectroheliograph           ...\n",
       "spectromagnetograph         ...\n",
       "srs_table                   ...\n",
       "sumer                       ...\n",
       "suvi                        ...\n",
       "suvi                        ...\n",
       "swan                        ...\n",
       "swap                        ...\n",
       "swaves                      ...\n",
       "sxi_0                       ...\n",
       "sxt                         ...\n",
       "tm_1001                     ...\n",
       "tm_1010                     ...\n",
       "trace                       ...\n",
       "udaipur                     ...\n",
       "uvcs                        ...\n",
       "vault_1999                  ...\n",
       "vault_2002                  ...\n",
       "vault_2014                  ...\n",
       "virgo                       ...\n",
       "vsm                         ...\n",
       "wbs                         ...\n",
       "wispr                       ...\n",
       "x123                        ...\n",
       "xrs                         ...\n",
       "xrt                         ...\n",
       "zimpol                      ..."
      ]
     },
     "execution_count": 4,
     "metadata": {},
     "output_type": "execute_result"
    }
   ],
   "source": [
    "a.Instrument"
   ]
  },
  {
   "cell_type": "markdown",
   "id": "f1e5dded",
   "metadata": {},
   "source": [
    "Sunpy also now provides tab completion to auto-fill the attribute name"
   ]
  },
  {
   "cell_type": "code",
   "execution_count": 5,
   "id": "705a3d84",
   "metadata": {},
   "outputs": [
    {
     "data": {
      "text/plain": [
       "<sunpy.net.attrs.Instrument(EIT: Extreme ultraviolet Imaging Telescope) object at 0x1477a0310>"
      ]
     },
     "execution_count": 5,
     "metadata": {},
     "output_type": "execute_result"
    }
   ],
   "source": [
    "a.Instrument.eit"
   ]
  },
  {
   "cell_type": "markdown",
   "id": "28a90a90",
   "metadata": {},
   "source": [
    "To search for certain wavelengths, we need to specify the input as an `astropy Quantity` which is a the combination of a value and an associated unit. This is something is universal in the sunpy stack - that every physical input/output is a `Quantity`."
   ]
  },
  {
   "cell_type": "code",
   "execution_count": 6,
   "id": "9436a819",
   "metadata": {},
   "outputs": [],
   "source": [
    "from astropy import units as u"
   ]
  },
  {
   "cell_type": "code",
   "execution_count": 7,
   "id": "d234fae7",
   "metadata": {},
   "outputs": [
    {
     "data": {
      "text/latex": [
       "$171 \\; \\mathrm{\\mathring{A}}$"
      ],
      "text/plain": [
       "<Quantity 171. Angstrom>"
      ]
     },
     "execution_count": 7,
     "metadata": {},
     "output_type": "execute_result"
    }
   ],
   "source": [
    "171*u.angstrom"
   ]
  },
  {
   "cell_type": "code",
   "execution_count": 8,
   "id": "ce1faff9",
   "metadata": {},
   "outputs": [
    {
     "data": {
      "text/plain": [
       "<sunpy.net.attrs.Wavelength(17.1, 17.1, 'Angstrom')>"
      ]
     },
     "execution_count": 8,
     "metadata": {},
     "output_type": "execute_result"
    }
   ],
   "source": [
    "a.Wavelength(17.1*u.angstrom)"
   ]
  },
  {
   "cell_type": "markdown",
   "id": "ede00dbf",
   "metadata": {},
   "source": [
    "## 3. Constructing a search query\n",
    " ### A simple query\n",
    "\n",
    "Lets create a simple query to search for data from AIA over a particular time period"
   ]
  },
  {
   "cell_type": "code",
   "execution_count": 9,
   "id": "1bd72a37",
   "metadata": {},
   "outputs": [
    {
     "name": "stderr",
     "output_type": "stream",
     "text": [
      "WARNING: SunpyUserWarning: VSO-C500 :soap:Server.Transport : 200 OK [sunpy.net.vso.vso]\n"
     ]
    }
   ],
   "source": [
    "result = Fido.search(a.Time(\"2021-05-23 11:00\", \"2021-05-23 11:20\"), \n",
    "                     a.Instrument(\"AIA\"))"
   ]
  },
  {
   "cell_type": "markdown",
   "id": "536c9dec",
   "metadata": {},
   "source": [
    "The `Fido.search` will return `UnifiedResponse` object with all the information available from the search that fit the criteria specified by the attrs. This `result` can then be passed to `Fido.fetch` to download the queried data (We will discuss this further below). Lets now inspect our `result` which holds the results of our query, if we print this we should see a summary of our query:"
   ]
  },
  {
   "cell_type": "code",
   "execution_count": 10,
   "id": "b7816751",
   "metadata": {},
   "outputs": [
    {
     "data": {
      "text/html": [
       "Results from 1 Provider:</br></br>801 Results from the VSOClient:</br><i>VSOQueryResponseTable length=801</i>\n",
       "<table id=\"table5499512480\" class=\"table-striped table-bordered table-condensed\">\n",
       "<thead><tr><th>Start Time</th><th>End Time</th><th>Source</th><th>Instrument</th><th>Wavelength [2]</th><th>Provider</th><th>Physobs</th><th>Wavetype</th><th>Extent Width</th><th>Extent Length</th><th>Extent Type</th><th>Size</th><th>Info</th></tr></thead>\n",
       "<thead><tr><th></th><th></th><th></th><th></th><th>Angstrom</th><th></th><th></th><th></th><th></th><th></th><th></th><th>Mibyte</th><th></th></tr></thead>\n",
       "<thead><tr><th>object</th><th>object</th><th>str3</th><th>str3</th><th>float64</th><th>str4</th><th>str9</th><th>str6</th><th>str4</th><th>str4</th><th>str8</th><th>float64</th><th>str57</th></tr></thead>\n",
       "<tr><td>2021-05-23 11:00:00.000</td><td>2021-05-23 11:00:01.000</td><td>SDO</td><td>AIA</td><td>335.0 .. 335.0</td><td>JSOC</td><td>intensity</td><td>NARROW</td><td>4096</td><td>4096</td><td>FULLDISK</td><td>64.64844</td><td>AIA level 1, 4096x4096 [2.901 exposure] [100.00 percentd]</td></tr>\n",
       "<tr><td>2021-05-23 11:00:04.000</td><td>2021-05-23 11:00:05.000</td><td>SDO</td><td>AIA</td><td>193.0 .. 193.0</td><td>JSOC</td><td>intensity</td><td>NARROW</td><td>4096</td><td>4096</td><td>FULLDISK</td><td>64.64844</td><td>AIA level 1, 4096x4096 [2.000 exposure] [100.00 percentd]</td></tr>\n",
       "<tr><td>2021-05-23 11:00:05.000</td><td>2021-05-23 11:00:06.000</td><td>SDO</td><td>AIA</td><td>304.0 .. 304.0</td><td>JSOC</td><td>intensity</td><td>NARROW</td><td>4096</td><td>4096</td><td>FULLDISK</td><td>64.64844</td><td>AIA level 1, 4096x4096 [2.902 exposure] [100.00 percentd]</td></tr>\n",
       "<tr><td>2021-05-23 11:00:05.000</td><td>2021-05-23 11:00:06.000</td><td>SDO</td><td>AIA</td><td>4500.0 .. 4500.0</td><td>JSOC</td><td>intensity</td><td>NARROW</td><td>4096</td><td>4096</td><td>FULLDISK</td><td>64.64844</td><td>AIA level 1, 4096x4096 [0.300 exposure] [100.00 percentd]</td></tr>\n",
       "<tr><td>2021-05-23 11:00:06.000</td><td>2021-05-23 11:00:07.000</td><td>SDO</td><td>AIA</td><td>131.0 .. 131.0</td><td>JSOC</td><td>intensity</td><td>NARROW</td><td>4096</td><td>4096</td><td>FULLDISK</td><td>64.64844</td><td>AIA level 1, 4096x4096 [2.901 exposure] [100.00 percentd]</td></tr>\n",
       "<tr><td>2021-05-23 11:00:09.000</td><td>2021-05-23 11:00:10.000</td><td>SDO</td><td>AIA</td><td>171.0 .. 171.0</td><td>JSOC</td><td>intensity</td><td>NARROW</td><td>4096</td><td>4096</td><td>FULLDISK</td><td>64.64844</td><td>AIA level 1, 4096x4096 [2.000 exposure] [100.00 percentd]</td></tr>\n",
       "<tr><td>2021-05-23 11:00:09.000</td><td>2021-05-23 11:00:10.000</td><td>SDO</td><td>AIA</td><td>211.0 .. 211.0</td><td>JSOC</td><td>intensity</td><td>NARROW</td><td>4096</td><td>4096</td><td>FULLDISK</td><td>64.64844</td><td>AIA level 1, 4096x4096 [2.901 exposure] [100.00 percentd]</td></tr>\n",
       "<tr><td>2021-05-23 11:00:11.000</td><td>2021-05-23 11:00:12.000</td><td>SDO</td><td>AIA</td><td>94.0 .. 94.0</td><td>JSOC</td><td>intensity</td><td>NARROW</td><td>4096</td><td>4096</td><td>FULLDISK</td><td>64.64844</td><td>AIA level 1, 4096x4096 [2.901 exposure] [100.00 percentd]</td></tr>\n",
       "<tr><td>2021-05-23 11:00:12.000</td><td>2021-05-23 11:00:13.000</td><td>SDO</td><td>AIA</td><td>335.0 .. 335.0</td><td>JSOC</td><td>intensity</td><td>NARROW</td><td>4096</td><td>4096</td><td>FULLDISK</td><td>64.64844</td><td>AIA level 1, 4096x4096 [2.901 exposure] [100.00 percentd]</td></tr>\n",
       "<tr><td>...</td><td>...</td><td>...</td><td>...</td><td>...</td><td>...</td><td>...</td><td>...</td><td>...</td><td>...</td><td>...</td><td>...</td><td>...</td></tr>\n",
       "<tr><td>2021-05-23 11:19:47.000</td><td>2021-05-23 11:19:48.000</td><td>SDO</td><td>AIA</td><td>94.0 .. 94.0</td><td>JSOC</td><td>intensity</td><td>NARROW</td><td>4096</td><td>4096</td><td>FULLDISK</td><td>64.64844</td><td>AIA level 1, 4096x4096 [2.901 exposure] [100.00 percentd]</td></tr>\n",
       "<tr><td>2021-05-23 11:19:48.000</td><td>2021-05-23 11:19:49.000</td><td>SDO</td><td>AIA</td><td>335.0 .. 335.0</td><td>JSOC</td><td>intensity</td><td>NARROW</td><td>4096</td><td>4096</td><td>FULLDISK</td><td>64.64844</td><td>AIA level 1, 4096x4096 [2.901 exposure] [100.00 percentd]</td></tr>\n",
       "<tr><td>2021-05-23 11:19:50.000</td><td>2021-05-23 11:19:51.000</td><td>SDO</td><td>AIA</td><td>1600.0 .. 1600.0</td><td>JSOC</td><td>intensity</td><td>NARROW</td><td>4096</td><td>4096</td><td>FULLDISK</td><td>64.64844</td><td>AIA level 1, 4096x4096 [2.901 exposure] [100.00 percentd]</td></tr>\n",
       "<tr><td>2021-05-23 11:19:52.000</td><td>2021-05-23 11:19:53.000</td><td>SDO</td><td>AIA</td><td>193.0 .. 193.0</td><td>JSOC</td><td>intensity</td><td>NARROW</td><td>4096</td><td>4096</td><td>FULLDISK</td><td>64.64844</td><td>AIA level 1, 4096x4096 [2.000 exposure] [100.00 percentd]</td></tr>\n",
       "<tr><td>2021-05-23 11:19:53.000</td><td>2021-05-23 11:19:54.000</td><td>SDO</td><td>AIA</td><td>304.0 .. 304.0</td><td>JSOC</td><td>intensity</td><td>NARROW</td><td>4096</td><td>4096</td><td>FULLDISK</td><td>64.64844</td><td>AIA level 1, 4096x4096 [2.902 exposure] [100.00 percentd]</td></tr>\n",
       "<tr><td>2021-05-23 11:19:54.000</td><td>2021-05-23 11:19:55.000</td><td>SDO</td><td>AIA</td><td>131.0 .. 131.0</td><td>JSOC</td><td>intensity</td><td>NARROW</td><td>4096</td><td>4096</td><td>FULLDISK</td><td>64.64844</td><td>AIA level 1, 4096x4096 [2.901 exposure] [100.00 percentd]</td></tr>\n",
       "<tr><td>2021-05-23 11:19:57.000</td><td>2021-05-23 11:19:58.000</td><td>SDO</td><td>AIA</td><td>171.0 .. 171.0</td><td>JSOC</td><td>intensity</td><td>NARROW</td><td>4096</td><td>4096</td><td>FULLDISK</td><td>64.64844</td><td>AIA level 1, 4096x4096 [2.000 exposure] [100.00 percentd]</td></tr>\n",
       "<tr><td>2021-05-23 11:19:57.000</td><td>2021-05-23 11:19:58.000</td><td>SDO</td><td>AIA</td><td>211.0 .. 211.0</td><td>JSOC</td><td>intensity</td><td>NARROW</td><td>4096</td><td>4096</td><td>FULLDISK</td><td>64.64844</td><td>AIA level 1, 4096x4096 [2.901 exposure] [100.00 percentd]</td></tr>\n",
       "<tr><td>2021-05-23 11:19:59.000</td><td>2021-05-23 11:20:00.000</td><td>SDO</td><td>AIA</td><td>94.0 .. 94.0</td><td>JSOC</td><td>intensity</td><td>NARROW</td><td>4096</td><td>4096</td><td>FULLDISK</td><td>64.64844</td><td>AIA level 1, 4096x4096 [2.901 exposure] [100.00 percentd]</td></tr>\n",
       "<tr><td>2021-05-23 11:20:00.000</td><td>2021-05-23 11:20:01.000</td><td>SDO</td><td>AIA</td><td>335.0 .. 335.0</td><td>JSOC</td><td>intensity</td><td>NARROW</td><td>4096</td><td>4096</td><td>FULLDISK</td><td>64.64844</td><td>AIA level 1, 4096x4096 [2.901 exposure] [100.00 percentd]</td></tr>\n",
       "</table></br>"
      ],
      "text/plain": [
       "<sunpy.net.fido_factory.UnifiedResponse object at 0x1477ca910>\n",
       "Results from 1 Provider:\n",
       "\n",
       "801 Results from the VSOClient:\n",
       "       Start Time       ...\n",
       "                        ...\n",
       "----------------------- ...\n",
       "2021-05-23 11:00:00.000 ...\n",
       "2021-05-23 11:00:04.000 ...\n",
       "2021-05-23 11:00:05.000 ...\n",
       "2021-05-23 11:00:05.000 ...\n",
       "2021-05-23 11:00:06.000 ...\n",
       "2021-05-23 11:00:09.000 ...\n",
       "2021-05-23 11:00:09.000 ...\n",
       "2021-05-23 11:00:11.000 ...\n",
       "2021-05-23 11:00:12.000 ...\n",
       "2021-05-23 11:00:14.000 ...\n",
       "                    ... ...\n",
       "2021-05-23 11:19:47.000 ...\n",
       "2021-05-23 11:19:48.000 ...\n",
       "2021-05-23 11:19:50.000 ...\n",
       "2021-05-23 11:19:52.000 ...\n",
       "2021-05-23 11:19:53.000 ...\n",
       "2021-05-23 11:19:54.000 ...\n",
       "2021-05-23 11:19:57.000 ...\n",
       "2021-05-23 11:19:57.000 ...\n",
       "2021-05-23 11:19:59.000 ...\n",
       "2021-05-23 11:20:00.000 ...\n",
       "Length = 801 rows\n"
      ]
     },
     "execution_count": 10,
     "metadata": {},
     "output_type": "execute_result"
    }
   ],
   "source": [
    "result"
   ]
  },
  {
   "cell_type": "markdown",
   "id": "1f213a9f",
   "metadata": {},
   "source": [
    "Now lets make our query a bit more specific, say, say we only want one wavelength band from AIA. This can be achieved by specifying the `Wavelength` attribute within the search. The `Wavelength` attribute is passed as an astropy Quantity:"
   ]
  },
  {
   "cell_type": "code",
   "execution_count": 11,
   "id": "abfbe41d",
   "metadata": {},
   "outputs": [
    {
     "name": "stderr",
     "output_type": "stream",
     "text": [
      "WARNING: SunpyUserWarning: VSO-C500 :soap:Server.Transport : 200 OK [sunpy.net.vso.vso]\n"
     ]
    }
   ],
   "source": [
    "result = Fido.search(a.Time(\"2021-05-23 11:00\", \"2021-05-23 11:20\"), \n",
    "                     a.Instrument(\"AIA\"), \n",
    "                     a.Wavelength(171*u.angstrom))"
   ]
  },
  {
   "cell_type": "code",
   "execution_count": 12,
   "id": "1475b4ce",
   "metadata": {},
   "outputs": [
    {
     "data": {
      "text/html": [
       "Results from 1 Provider:</br></br>100 Results from the VSOClient:</br><i>VSOQueryResponseTable length=100</i>\n",
       "<table id=\"table5502599472\" class=\"table-striped table-bordered table-condensed\">\n",
       "<thead><tr><th>Start Time</th><th>End Time</th><th>Source</th><th>Instrument</th><th>Wavelength [2]</th><th>Provider</th><th>Physobs</th><th>Wavetype</th><th>Extent Width</th><th>Extent Length</th><th>Extent Type</th><th>Size</th><th>Info</th></tr></thead>\n",
       "<thead><tr><th></th><th></th><th></th><th></th><th>Angstrom</th><th></th><th></th><th></th><th></th><th></th><th></th><th>Mibyte</th><th></th></tr></thead>\n",
       "<thead><tr><th>object</th><th>object</th><th>str3</th><th>str3</th><th>float64</th><th>str4</th><th>str9</th><th>str6</th><th>str4</th><th>str4</th><th>str8</th><th>float64</th><th>str57</th></tr></thead>\n",
       "<tr><td>2021-05-23 11:00:09.000</td><td>2021-05-23 11:00:10.000</td><td>SDO</td><td>AIA</td><td>171.0 .. 171.0</td><td>JSOC</td><td>intensity</td><td>NARROW</td><td>4096</td><td>4096</td><td>FULLDISK</td><td>64.64844</td><td>AIA level 1, 4096x4096 [2.000 exposure] [100.00 percentd]</td></tr>\n",
       "<tr><td>2021-05-23 11:00:21.000</td><td>2021-05-23 11:00:22.000</td><td>SDO</td><td>AIA</td><td>171.0 .. 171.0</td><td>JSOC</td><td>intensity</td><td>NARROW</td><td>4096</td><td>4096</td><td>FULLDISK</td><td>64.64844</td><td>AIA level 1, 4096x4096 [2.000 exposure] [100.00 percentd]</td></tr>\n",
       "<tr><td>2021-05-23 11:00:33.000</td><td>2021-05-23 11:00:34.000</td><td>SDO</td><td>AIA</td><td>171.0 .. 171.0</td><td>JSOC</td><td>intensity</td><td>NARROW</td><td>4096</td><td>4096</td><td>FULLDISK</td><td>64.64844</td><td>AIA level 1, 4096x4096 [2.000 exposure] [100.00 percentd]</td></tr>\n",
       "<tr><td>2021-05-23 11:00:45.000</td><td>2021-05-23 11:00:46.000</td><td>SDO</td><td>AIA</td><td>171.0 .. 171.0</td><td>JSOC</td><td>intensity</td><td>NARROW</td><td>4096</td><td>4096</td><td>FULLDISK</td><td>64.64844</td><td>AIA level 1, 4096x4096 [2.000 exposure] [100.00 percentd]</td></tr>\n",
       "<tr><td>2021-05-23 11:00:57.000</td><td>2021-05-23 11:00:58.000</td><td>SDO</td><td>AIA</td><td>171.0 .. 171.0</td><td>JSOC</td><td>intensity</td><td>NARROW</td><td>4096</td><td>4096</td><td>FULLDISK</td><td>64.64844</td><td>AIA level 1, 4096x4096 [2.000 exposure] [100.00 percentd]</td></tr>\n",
       "<tr><td>2021-05-23 11:01:09.000</td><td>2021-05-23 11:01:10.000</td><td>SDO</td><td>AIA</td><td>171.0 .. 171.0</td><td>JSOC</td><td>intensity</td><td>NARROW</td><td>4096</td><td>4096</td><td>FULLDISK</td><td>64.64844</td><td>AIA level 1, 4096x4096 [2.000 exposure] [100.00 percentd]</td></tr>\n",
       "<tr><td>2021-05-23 11:01:21.000</td><td>2021-05-23 11:01:22.000</td><td>SDO</td><td>AIA</td><td>171.0 .. 171.0</td><td>JSOC</td><td>intensity</td><td>NARROW</td><td>4096</td><td>4096</td><td>FULLDISK</td><td>64.64844</td><td>AIA level 1, 4096x4096 [2.000 exposure] [100.00 percentd]</td></tr>\n",
       "<tr><td>2021-05-23 11:01:33.000</td><td>2021-05-23 11:01:34.000</td><td>SDO</td><td>AIA</td><td>171.0 .. 171.0</td><td>JSOC</td><td>intensity</td><td>NARROW</td><td>4096</td><td>4096</td><td>FULLDISK</td><td>64.64844</td><td>AIA level 1, 4096x4096 [2.000 exposure] [100.00 percentd]</td></tr>\n",
       "<tr><td>2021-05-23 11:01:45.000</td><td>2021-05-23 11:01:46.000</td><td>SDO</td><td>AIA</td><td>171.0 .. 171.0</td><td>JSOC</td><td>intensity</td><td>NARROW</td><td>4096</td><td>4096</td><td>FULLDISK</td><td>64.64844</td><td>AIA level 1, 4096x4096 [2.000 exposure] [100.00 percentd]</td></tr>\n",
       "<tr><td>...</td><td>...</td><td>...</td><td>...</td><td>...</td><td>...</td><td>...</td><td>...</td><td>...</td><td>...</td><td>...</td><td>...</td><td>...</td></tr>\n",
       "<tr><td>2021-05-23 11:18:09.000</td><td>2021-05-23 11:18:10.000</td><td>SDO</td><td>AIA</td><td>171.0 .. 171.0</td><td>JSOC</td><td>intensity</td><td>NARROW</td><td>4096</td><td>4096</td><td>FULLDISK</td><td>64.64844</td><td>AIA level 1, 4096x4096 [2.000 exposure] [100.00 percentd]</td></tr>\n",
       "<tr><td>2021-05-23 11:18:21.000</td><td>2021-05-23 11:18:22.000</td><td>SDO</td><td>AIA</td><td>171.0 .. 171.0</td><td>JSOC</td><td>intensity</td><td>NARROW</td><td>4096</td><td>4096</td><td>FULLDISK</td><td>64.64844</td><td>AIA level 1, 4096x4096 [2.000 exposure] [100.00 percentd]</td></tr>\n",
       "<tr><td>2021-05-23 11:18:33.000</td><td>2021-05-23 11:18:34.000</td><td>SDO</td><td>AIA</td><td>171.0 .. 171.0</td><td>JSOC</td><td>intensity</td><td>NARROW</td><td>4096</td><td>4096</td><td>FULLDISK</td><td>64.64844</td><td>AIA level 1, 4096x4096 [2.000 exposure] [100.00 percentd]</td></tr>\n",
       "<tr><td>2021-05-23 11:18:45.000</td><td>2021-05-23 11:18:46.000</td><td>SDO</td><td>AIA</td><td>171.0 .. 171.0</td><td>JSOC</td><td>intensity</td><td>NARROW</td><td>4096</td><td>4096</td><td>FULLDISK</td><td>64.64844</td><td>AIA level 1, 4096x4096 [2.000 exposure] [100.00 percentd]</td></tr>\n",
       "<tr><td>2021-05-23 11:18:57.000</td><td>2021-05-23 11:18:58.000</td><td>SDO</td><td>AIA</td><td>171.0 .. 171.0</td><td>JSOC</td><td>intensity</td><td>NARROW</td><td>4096</td><td>4096</td><td>FULLDISK</td><td>64.64844</td><td>AIA level 1, 4096x4096 [2.000 exposure] [100.00 percentd]</td></tr>\n",
       "<tr><td>2021-05-23 11:19:09.000</td><td>2021-05-23 11:19:10.000</td><td>SDO</td><td>AIA</td><td>171.0 .. 171.0</td><td>JSOC</td><td>intensity</td><td>NARROW</td><td>4096</td><td>4096</td><td>FULLDISK</td><td>64.64844</td><td>AIA level 1, 4096x4096 [2.000 exposure] [100.00 percentd]</td></tr>\n",
       "<tr><td>2021-05-23 11:19:21.000</td><td>2021-05-23 11:19:22.000</td><td>SDO</td><td>AIA</td><td>171.0 .. 171.0</td><td>JSOC</td><td>intensity</td><td>NARROW</td><td>4096</td><td>4096</td><td>FULLDISK</td><td>64.64844</td><td>AIA level 1, 4096x4096 [2.000 exposure] [100.00 percentd]</td></tr>\n",
       "<tr><td>2021-05-23 11:19:33.000</td><td>2021-05-23 11:19:34.000</td><td>SDO</td><td>AIA</td><td>171.0 .. 171.0</td><td>JSOC</td><td>intensity</td><td>NARROW</td><td>4096</td><td>4096</td><td>FULLDISK</td><td>64.64844</td><td>AIA level 1, 4096x4096 [2.000 exposure] [100.00 percentd]</td></tr>\n",
       "<tr><td>2021-05-23 11:19:45.000</td><td>2021-05-23 11:19:46.000</td><td>SDO</td><td>AIA</td><td>171.0 .. 171.0</td><td>JSOC</td><td>intensity</td><td>NARROW</td><td>4096</td><td>4096</td><td>FULLDISK</td><td>64.64844</td><td>AIA level 1, 4096x4096 [2.000 exposure] [100.00 percentd]</td></tr>\n",
       "<tr><td>2021-05-23 11:19:57.000</td><td>2021-05-23 11:19:58.000</td><td>SDO</td><td>AIA</td><td>171.0 .. 171.0</td><td>JSOC</td><td>intensity</td><td>NARROW</td><td>4096</td><td>4096</td><td>FULLDISK</td><td>64.64844</td><td>AIA level 1, 4096x4096 [2.000 exposure] [100.00 percentd]</td></tr>\n",
       "</table></br>"
      ],
      "text/plain": [
       "<sunpy.net.fido_factory.UnifiedResponse object at 0x1480662b0>\n",
       "Results from 1 Provider:\n",
       "\n",
       "100 Results from the VSOClient:\n",
       "       Start Time       ...\n",
       "                        ...\n",
       "----------------------- ...\n",
       "2021-05-23 11:00:09.000 ...\n",
       "2021-05-23 11:00:21.000 ...\n",
       "2021-05-23 11:00:33.000 ...\n",
       "2021-05-23 11:00:45.000 ...\n",
       "2021-05-23 11:00:57.000 ...\n",
       "2021-05-23 11:01:09.000 ...\n",
       "2021-05-23 11:01:21.000 ...\n",
       "2021-05-23 11:01:33.000 ...\n",
       "2021-05-23 11:01:45.000 ...\n",
       "2021-05-23 11:01:57.000 ...\n",
       "                    ... ...\n",
       "2021-05-23 11:18:09.000 ...\n",
       "2021-05-23 11:18:21.000 ...\n",
       "2021-05-23 11:18:33.000 ...\n",
       "2021-05-23 11:18:45.000 ...\n",
       "2021-05-23 11:18:57.000 ...\n",
       "2021-05-23 11:19:09.000 ...\n",
       "2021-05-23 11:19:21.000 ...\n",
       "2021-05-23 11:19:33.000 ...\n",
       "2021-05-23 11:19:45.000 ...\n",
       "2021-05-23 11:19:57.000 ...\n",
       "Length = 100 rows\n"
      ]
     },
     "execution_count": 12,
     "metadata": {},
     "output_type": "execute_result"
    }
   ],
   "source": [
    "result"
   ]
  },
  {
   "cell_type": "markdown",
   "id": "414f2640",
   "metadata": {},
   "source": [
    "We can further specify this query by choosing the cadence (time-sampling) of the data we want to search for and download. This can be achieved by using the `Sample` attribute. Similar to the `Wavelength` attributes, this needs to be an `astropy Quantity`. Lets further specify the search above to only search for data with a cadence of 2 minutes."
   ]
  },
  {
   "cell_type": "code",
   "execution_count": 13,
   "id": "5fb4038b",
   "metadata": {},
   "outputs": [
    {
     "name": "stderr",
     "output_type": "stream",
     "text": [
      "WARNING: SunpyUserWarning: VSO-C500 :soap:Server.Transport : 200 OK [sunpy.net.vso.vso]\n"
     ]
    }
   ],
   "source": [
    "result = Fido.search(a.Time(\"2021-05-23 11:00\", \"2021-05-23 11:20\"), \n",
    "                     a.Instrument(\"AIA\"), \n",
    "                     a.Wavelength(171*u.angstrom),\n",
    "                     a.Sample(2*u.min))"
   ]
  },
  {
   "cell_type": "code",
   "execution_count": 14,
   "id": "e8a81bc5",
   "metadata": {},
   "outputs": [
    {
     "data": {
      "text/html": [
       "Results from 1 Provider:</br></br>10 Results from the VSOClient:</br><i>VSOQueryResponseTable length=10</i>\n",
       "<table id=\"table5503520672\" class=\"table-striped table-bordered table-condensed\">\n",
       "<thead><tr><th>Start Time</th><th>End Time</th><th>Source</th><th>Instrument</th><th>Wavelength [2]</th><th>Provider</th><th>Physobs</th><th>Wavetype</th><th>Extent Width</th><th>Extent Length</th><th>Extent Type</th><th>Size</th><th>Info</th></tr></thead>\n",
       "<thead><tr><th></th><th></th><th></th><th></th><th>Angstrom</th><th></th><th></th><th></th><th></th><th></th><th></th><th>Mibyte</th><th></th></tr></thead>\n",
       "<thead><tr><th>object</th><th>object</th><th>str3</th><th>str3</th><th>float64</th><th>str4</th><th>str9</th><th>str6</th><th>str4</th><th>str4</th><th>str8</th><th>float64</th><th>str57</th></tr></thead>\n",
       "<tr><td>2021-05-23 11:00:09.000</td><td>2021-05-23 11:00:10.000</td><td>SDO</td><td>AIA</td><td>171.0 .. 171.0</td><td>JSOC</td><td>intensity</td><td>NARROW</td><td>4096</td><td>4096</td><td>FULLDISK</td><td>64.64844</td><td>AIA level 1, 4096x4096 [2.000 exposure] [100.00 percentd]</td></tr>\n",
       "<tr><td>2021-05-23 11:02:09.000</td><td>2021-05-23 11:02:10.000</td><td>SDO</td><td>AIA</td><td>171.0 .. 171.0</td><td>JSOC</td><td>intensity</td><td>NARROW</td><td>4096</td><td>4096</td><td>FULLDISK</td><td>64.64844</td><td>AIA level 1, 4096x4096 [2.000 exposure] [100.00 percentd]</td></tr>\n",
       "<tr><td>2021-05-23 11:04:09.000</td><td>2021-05-23 11:04:10.000</td><td>SDO</td><td>AIA</td><td>171.0 .. 171.0</td><td>JSOC</td><td>intensity</td><td>NARROW</td><td>4096</td><td>4096</td><td>FULLDISK</td><td>64.64844</td><td>AIA level 1, 4096x4096 [2.000 exposure] [100.00 percentd]</td></tr>\n",
       "<tr><td>2021-05-23 11:06:09.000</td><td>2021-05-23 11:06:10.000</td><td>SDO</td><td>AIA</td><td>171.0 .. 171.0</td><td>JSOC</td><td>intensity</td><td>NARROW</td><td>4096</td><td>4096</td><td>FULLDISK</td><td>64.64844</td><td>AIA level 1, 4096x4096 [2.000 exposure] [100.00 percentd]</td></tr>\n",
       "<tr><td>2021-05-23 11:08:09.000</td><td>2021-05-23 11:08:10.000</td><td>SDO</td><td>AIA</td><td>171.0 .. 171.0</td><td>JSOC</td><td>intensity</td><td>NARROW</td><td>4096</td><td>4096</td><td>FULLDISK</td><td>64.64844</td><td>AIA level 1, 4096x4096 [2.000 exposure] [100.00 percentd]</td></tr>\n",
       "<tr><td>2021-05-23 11:10:09.000</td><td>2021-05-23 11:10:10.000</td><td>SDO</td><td>AIA</td><td>171.0 .. 171.0</td><td>JSOC</td><td>intensity</td><td>NARROW</td><td>4096</td><td>4096</td><td>FULLDISK</td><td>64.64844</td><td>AIA level 1, 4096x4096 [2.000 exposure] [100.00 percentd]</td></tr>\n",
       "<tr><td>2021-05-23 11:12:09.000</td><td>2021-05-23 11:12:10.000</td><td>SDO</td><td>AIA</td><td>171.0 .. 171.0</td><td>JSOC</td><td>intensity</td><td>NARROW</td><td>4096</td><td>4096</td><td>FULLDISK</td><td>64.64844</td><td>AIA level 1, 4096x4096 [2.000 exposure] [100.00 percentd]</td></tr>\n",
       "<tr><td>2021-05-23 11:14:09.000</td><td>2021-05-23 11:14:10.000</td><td>SDO</td><td>AIA</td><td>171.0 .. 171.0</td><td>JSOC</td><td>intensity</td><td>NARROW</td><td>4096</td><td>4096</td><td>FULLDISK</td><td>64.64844</td><td>AIA level 1, 4096x4096 [2.000 exposure] [100.00 percentd]</td></tr>\n",
       "<tr><td>2021-05-23 11:16:09.000</td><td>2021-05-23 11:16:10.000</td><td>SDO</td><td>AIA</td><td>171.0 .. 171.0</td><td>JSOC</td><td>intensity</td><td>NARROW</td><td>4096</td><td>4096</td><td>FULLDISK</td><td>64.64844</td><td>AIA level 1, 4096x4096 [2.000 exposure] [100.00 percentd]</td></tr>\n",
       "<tr><td>2021-05-23 11:18:09.000</td><td>2021-05-23 11:18:10.000</td><td>SDO</td><td>AIA</td><td>171.0 .. 171.0</td><td>JSOC</td><td>intensity</td><td>NARROW</td><td>4096</td><td>4096</td><td>FULLDISK</td><td>64.64844</td><td>AIA level 1, 4096x4096 [2.000 exposure] [100.00 percentd]</td></tr>\n",
       "</table></br>"
      ],
      "text/plain": [
       "<sunpy.net.fido_factory.UnifiedResponse object at 0x147cbe100>\n",
       "Results from 1 Provider:\n",
       "\n",
       "10 Results from the VSOClient:\n",
       "       Start Time       ...\n",
       "                        ...\n",
       "----------------------- ...\n",
       "2021-05-23 11:00:09.000 ...\n",
       "2021-05-23 11:02:09.000 ...\n",
       "2021-05-23 11:04:09.000 ...\n",
       "2021-05-23 11:06:09.000 ...\n",
       "2021-05-23 11:08:09.000 ...\n",
       "2021-05-23 11:10:09.000 ...\n",
       "2021-05-23 11:12:09.000 ...\n",
       "2021-05-23 11:14:09.000 ...\n",
       "2021-05-23 11:16:09.000 ...\n",
       "2021-05-23 11:18:09.000 ...\n"
      ]
     },
     "execution_count": 14,
     "metadata": {},
     "output_type": "execute_result"
    }
   ],
   "source": [
    "result"
   ]
  },
  {
   "cell_type": "markdown",
   "id": "7c0a5c3e",
   "metadata": {},
   "source": [
    "## 4. Dealing with search results and the `UnifiedResponse`\n",
    "\n",
    "So far we have shown how queries can be constructed and returned as a `UnifiedResponse` object. This object can then be passed to `fido.fetch` to download the data. However lets first inspect the `UnifiedResponse` object to get a better idea of what it consists of. \n",
    "\n",
    "From above, we can see that what is returned from a `Fido.search` is the `UnifiedResponse` object that consists of a one record (for a simple query) or multiple records depending on the search. These records (stored as tables) can be accessed by indexing the `UnifiedResponse` object. It acts both like a two dimensional array, where the first dimension is the response index and the second index is the row index, and a dictionary where you can index the responses by the name of the client. \n",
    "\n",
    "\n",
    "In this case here, we only have one query returned as it was a simple query for AIA data"
   ]
  },
  {
   "cell_type": "code",
   "execution_count": 15,
   "id": "375011d9",
   "metadata": {},
   "outputs": [
    {
     "data": {
      "text/plain": [
       "10"
      ]
     },
     "execution_count": 15,
     "metadata": {},
     "output_type": "execute_result"
    }
   ],
   "source": [
    "result.file_num"
   ]
  },
  {
   "cell_type": "markdown",
   "id": "38f8a5aa",
   "metadata": {},
   "source": [
    "As mentioned above the first index is the response index, and the second is the row, so we can pull out the individual rows. In this example, there is only one response (a simple query)\n",
    "\n",
    "So we can index to get the first row of the query results"
   ]
  },
  {
   "cell_type": "code",
   "execution_count": 16,
   "id": "8606b1fe",
   "metadata": {},
   "outputs": [
    {
     "data": {
      "text/html": [
       "<i>QueryResponseRow index=0</i>\n",
       "<table id=\"table5502949984\">\n",
       "<thead><tr><th>Start Time</th><th>End Time</th><th>Source</th><th>Instrument</th><th>Wavelength [2]</th><th>Provider</th><th>Physobs</th><th>Wavetype</th><th>Extent Width</th><th>Extent Length</th><th>Extent Type</th><th>Size</th><th>Info</th><th>fileid</th></tr></thead>\n",
       "<thead><tr><th></th><th></th><th></th><th></th><th>Angstrom</th><th></th><th></th><th></th><th></th><th></th><th></th><th>Mibyte</th><th></th><th></th></tr></thead>\n",
       "<thead><tr><th>object</th><th>object</th><th>str3</th><th>str3</th><th>float64</th><th>str4</th><th>str9</th><th>str6</th><th>str4</th><th>str4</th><th>str8</th><th>float64</th><th>str57</th><th>str24</th></tr></thead>\n",
       "<tr><td>2021-05-23 11:00:09.000</td><td>2021-05-23 11:00:10.000</td><td>SDO</td><td>AIA</td><td>171.0 .. 171.0</td><td>JSOC</td><td>intensity</td><td>NARROW</td><td>4096</td><td>4096</td><td>FULLDISK</td><td>64.64844</td><td>AIA level 1, 4096x4096 [2.000 exposure] [100.00 percentd]</td><td>aia__lev1:171:1400842847</td></tr>\n",
       "</table>"
      ],
      "text/plain": [
       "<QueryResponseRow index=0>\n",
       "       Start Time               End Time        Source Instrument Wavelength [2] Provider  Physobs  Wavetype Extent Width Extent Length Extent Type   Size                              Info                                    fileid         \n",
       "                                                                     Angstrom                                                                        Mibyte                                                                                    \n",
       "         object                  object          str3     str3       float64       str4      str9     str6       str4          str4         str8    float64                            str57                                    str24          \n",
       "----------------------- ----------------------- ------ ---------- -------------- -------- --------- -------- ------------ ------------- ----------- -------- --------------------------------------------------------- ------------------------\n",
       "2021-05-23 11:00:09.000 2021-05-23 11:00:10.000    SDO        AIA 171.0 .. 171.0     JSOC intensity   NARROW         4096          4096    FULLDISK 64.64844 AIA level 1, 4096x4096 [2.000 exposure] [100.00 percentd] aia__lev1:171:1400842847"
      ]
     },
     "execution_count": 16,
     "metadata": {},
     "output_type": "execute_result"
    }
   ],
   "source": [
    "result[0, 0]"
   ]
  },
  {
   "cell_type": "markdown",
   "id": "96c16560",
   "metadata": {},
   "source": [
    "The normal slices operations that work with other Python sequences will also work here (i.e. result[0, ::5] will return every fifth row etc"
   ]
  },
  {
   "cell_type": "code",
   "execution_count": 17,
   "id": "87d437b3",
   "metadata": {},
   "outputs": [
    {
     "data": {
      "text/html": [
       "<i>VSOQueryResponseTable length=1</i>\n",
       "<table id=\"table5503781376\" class=\"table-striped table-bordered table-condensed\">\n",
       "<thead><tr><th>Start Time</th><th>End Time</th><th>Source</th><th>Instrument</th><th>Wavelength [2]</th><th>Provider</th><th>Physobs</th><th>Wavetype</th><th>Extent Width</th><th>Extent Length</th><th>Extent Type</th><th>Size</th><th>Info</th></tr></thead>\n",
       "<thead><tr><th></th><th></th><th></th><th></th><th>Angstrom</th><th></th><th></th><th></th><th></th><th></th><th></th><th>Mibyte</th><th></th></tr></thead>\n",
       "<thead><tr><th>object</th><th>object</th><th>str3</th><th>str3</th><th>float64</th><th>str4</th><th>str9</th><th>str6</th><th>str4</th><th>str4</th><th>str8</th><th>float64</th><th>str57</th></tr></thead>\n",
       "<tr><td>2021-05-23 11:00:09.000</td><td>2021-05-23 11:00:10.000</td><td>SDO</td><td>AIA</td><td>171.0 .. 171.0</td><td>JSOC</td><td>intensity</td><td>NARROW</td><td>4096</td><td>4096</td><td>FULLDISK</td><td>64.64844</td><td>AIA level 1, 4096x4096 [2.000 exposure] [100.00 percentd]</td></tr>\n",
       "</table>"
      ],
      "text/plain": [
       "<sunpy.net.vso.table_response.VSOQueryResponseTable object at 0x1480c64f0>\n",
       "       Start Time       ...\n",
       "                        ...\n",
       "----------------------- ...\n",
       "2021-05-23 11:00:09.000 ..."
      ]
     },
     "execution_count": 17,
     "metadata": {},
     "output_type": "execute_result"
    }
   ],
   "source": [
    "result[0,::50]"
   ]
  },
  {
   "cell_type": "markdown",
   "id": "d20dc0ff",
   "metadata": {},
   "source": [
    "### Inspecting the result tables\n",
    "\n",
    "Each of these tables indexed from the `UnifiedResponse` object are `QueryResponseTable` objects which are just `astropy.table` objects that can easily interacted with (e.g. indexed, filtered etc).\n",
    "\n",
    "This is particularly handy when the results that are searched for are from metadata tables such as the HEK! But lets first look at how we can interact with the results table, and filter etc. Lets first look at how we can play around with each table"
   ]
  },
  {
   "cell_type": "code",
   "execution_count": 18,
   "id": "33c8b73f",
   "metadata": {},
   "outputs": [
    {
     "data": {
      "text/plain": [
       "['Start Time',\n",
       " 'End Time',\n",
       " 'Source',\n",
       " 'Instrument',\n",
       " 'Wavelength',\n",
       " 'Provider',\n",
       " 'Physobs',\n",
       " 'Wavetype',\n",
       " 'Extent Width',\n",
       " 'Extent Length',\n",
       " 'Extent Type',\n",
       " 'Size',\n",
       " 'Info',\n",
       " 'fileid']"
      ]
     },
     "execution_count": 18,
     "metadata": {},
     "output_type": "execute_result"
    }
   ],
   "source": [
    "result[0].colnames"
   ]
  },
  {
   "cell_type": "code",
   "execution_count": 19,
   "id": "5c2c8023",
   "metadata": {},
   "outputs": [
    {
     "data": {
      "text/plain": [
       "<Time object: scale='utc' format='iso' value=['2021-05-23 11:00:09.000' '2021-05-23 11:02:09.000'\n",
       " '2021-05-23 11:04:09.000' '2021-05-23 11:06:09.000'\n",
       " '2021-05-23 11:08:09.000' '2021-05-23 11:10:09.000'\n",
       " '2021-05-23 11:12:09.000' '2021-05-23 11:14:09.000'\n",
       " '2021-05-23 11:16:09.000' '2021-05-23 11:18:09.000']>"
      ]
     },
     "execution_count": 19,
     "metadata": {},
     "output_type": "execute_result"
    }
   ],
   "source": [
    "result[0][\"Start Time\"]"
   ]
  },
  {
   "cell_type": "markdown",
   "id": "e466c8d0",
   "metadata": {},
   "source": [
    "The responses can also be indexed like a dictionary (useful for more complex searches)"
   ]
  },
  {
   "cell_type": "code",
   "execution_count": 20,
   "id": "a52d2ee9",
   "metadata": {},
   "outputs": [
    {
     "data": {
      "text/html": [
       "<i>VSOQueryResponseTable length=2</i>\n",
       "<table id=\"table5500419424\" class=\"table-striped table-bordered table-condensed\">\n",
       "<thead><tr><th>Start Time</th><th>End Time</th><th>Source</th><th>Instrument</th><th>Wavelength [2]</th><th>Provider</th><th>Physobs</th><th>Wavetype</th><th>Extent Width</th><th>Extent Length</th><th>Extent Type</th><th>Size</th><th>Info</th></tr></thead>\n",
       "<thead><tr><th></th><th></th><th></th><th></th><th>Angstrom</th><th></th><th></th><th></th><th></th><th></th><th></th><th>Mibyte</th><th></th></tr></thead>\n",
       "<thead><tr><th>object</th><th>object</th><th>str3</th><th>str3</th><th>float64</th><th>str4</th><th>str9</th><th>str6</th><th>str4</th><th>str4</th><th>str8</th><th>float64</th><th>str57</th></tr></thead>\n",
       "<tr><td>2021-05-23 11:00:09.000</td><td>2021-05-23 11:00:10.000</td><td>SDO</td><td>AIA</td><td>171.0 .. 171.0</td><td>JSOC</td><td>intensity</td><td>NARROW</td><td>4096</td><td>4096</td><td>FULLDISK</td><td>64.64844</td><td>AIA level 1, 4096x4096 [2.000 exposure] [100.00 percentd]</td></tr>\n",
       "<tr><td>2021-05-23 11:10:09.000</td><td>2021-05-23 11:10:10.000</td><td>SDO</td><td>AIA</td><td>171.0 .. 171.0</td><td>JSOC</td><td>intensity</td><td>NARROW</td><td>4096</td><td>4096</td><td>FULLDISK</td><td>64.64844</td><td>AIA level 1, 4096x4096 [2.000 exposure] [100.00 percentd]</td></tr>\n",
       "</table>"
      ],
      "text/plain": [
       "<sunpy.net.vso.table_response.VSOQueryResponseTable object at 0x111cae640>\n",
       "       Start Time       ...\n",
       "                        ...\n",
       "----------------------- ...\n",
       "2021-05-23 11:00:09.000 ...\n",
       "2021-05-23 11:10:09.000 ..."
      ]
     },
     "execution_count": 20,
     "metadata": {},
     "output_type": "execute_result"
    }
   ],
   "source": [
    "result[\"VSO\", ::5]"
   ]
  },
  {
   "cell_type": "markdown",
   "id": "b48c80e5",
   "metadata": {},
   "source": [
    "## 5.  More complex queries\n",
    "\n",
    "In addition to making a query to one client for one instrument, Fido allows the flexibility to search for data from multiple instruments, wavelengths, times etc, even when the data is being obtained through different clients.\n",
    "\n",
    "This query can be constructed by using the pipe `|` operator, which joins queries together just like the `OR` operator.\n",
    "\n",
    "Lets now make a query that searches for both GOES/XRS and Fermi/GBM data over a particular time period"
   ]
  },
  {
   "cell_type": "code",
   "execution_count": 21,
   "id": "69883556",
   "metadata": {},
   "outputs": [
    {
     "name": "stderr",
     "output_type": "stream",
     "text": [
      "/Users/laurahayes/opt/miniconda3/lib/python3.9/site-packages/astropy/table/table.py:3197: FutureWarning: elementwise == comparison failed and returning scalar instead; this will raise an error or perform elementwise comparison in the future.\n",
      "  result = self.as_array() == other\n"
     ]
    }
   ],
   "source": [
    "result = Fido.search(a.Time(\"2013-10-28 01:30\", \"2013-10-28 02:00\"), \n",
    "                     a.Instrument.xrs  | a.Instrument.gbm)"
   ]
  },
  {
   "cell_type": "code",
   "execution_count": 22,
   "id": "9adc006f",
   "metadata": {},
   "outputs": [
    {
     "data": {
      "text/html": [
       "Results from 2 Providers:</br></br>2 Results from the XRSClient:</br><i>QueryResponse length=2</i>\n",
       "<table id=\"table5499645808\" class=\"table-striped table-bordered table-condensed\">\n",
       "<thead><tr><th>Start Time</th><th>End Time</th><th>Instrument</th><th>SatelliteNumber</th><th>Physobs</th><th>Source</th><th>Provider</th></tr></thead>\n",
       "<thead><tr><th>object</th><th>object</th><th>str3</th><th>int64</th><th>str10</th><th>str4</th><th>str4</th></tr></thead>\n",
       "<tr><td>2013-10-28 00:00:00.000</td><td>2013-10-28 23:59:59.999</td><td>XRS</td><td>13</td><td>irradiance</td><td>GOES</td><td>NOAA</td></tr>\n",
       "<tr><td>2013-10-28 00:00:00.000</td><td>2013-10-28 23:59:59.999</td><td>XRS</td><td>15</td><td>irradiance</td><td>GOES</td><td>NOAA</td></tr>\n",
       "</table></br>20 Results from the GBMClient:</br><i>QueryResponse length=20</i>\n",
       "<table id=\"table5499642784\" class=\"table-striped table-bordered table-condensed\">\n",
       "<thead><tr><th>Start Time</th><th>End Time</th><th>Instrument</th><th>Physobs</th><th>Source</th><th>Provider</th><th>Resolution</th><th>Detector</th></tr></thead>\n",
       "<thead><tr><th>object</th><th>object</th><th>str3</th><th>str4</th><th>str5</th><th>str4</th><th>str5</th><th>str2</th></tr></thead>\n",
       "<tr><td>2013-10-28 00:00:00.000</td><td>2013-10-28 23:59:59.999</td><td>GBM</td><td>flux</td><td>FERMI</td><td>NASA</td><td>cspec</td><td>n0</td></tr>\n",
       "<tr><td>2013-10-28 00:00:00.000</td><td>2013-10-28 23:59:59.999</td><td>GBM</td><td>flux</td><td>FERMI</td><td>NASA</td><td>cspec</td><td>n1</td></tr>\n",
       "<tr><td>2013-10-28 00:00:00.000</td><td>2013-10-28 23:59:59.999</td><td>GBM</td><td>flux</td><td>FERMI</td><td>NASA</td><td>cspec</td><td>n2</td></tr>\n",
       "<tr><td>2013-10-28 00:00:00.000</td><td>2013-10-28 23:59:59.999</td><td>GBM</td><td>flux</td><td>FERMI</td><td>NASA</td><td>cspec</td><td>n3</td></tr>\n",
       "<tr><td>2013-10-28 00:00:00.000</td><td>2013-10-28 23:59:59.999</td><td>GBM</td><td>flux</td><td>FERMI</td><td>NASA</td><td>cspec</td><td>n4</td></tr>\n",
       "<tr><td>2013-10-28 00:00:00.000</td><td>2013-10-28 23:59:59.999</td><td>GBM</td><td>flux</td><td>FERMI</td><td>NASA</td><td>cspec</td><td>n5</td></tr>\n",
       "<tr><td>2013-10-28 00:00:00.000</td><td>2013-10-28 23:59:59.999</td><td>GBM</td><td>flux</td><td>FERMI</td><td>NASA</td><td>cspec</td><td>n6</td></tr>\n",
       "<tr><td>2013-10-28 00:00:00.000</td><td>2013-10-28 23:59:59.999</td><td>GBM</td><td>flux</td><td>FERMI</td><td>NASA</td><td>cspec</td><td>n7</td></tr>\n",
       "<tr><td>2013-10-28 00:00:00.000</td><td>2013-10-28 23:59:59.999</td><td>GBM</td><td>flux</td><td>FERMI</td><td>NASA</td><td>cspec</td><td>n8</td></tr>\n",
       "<tr><td>2013-10-28 00:00:00.000</td><td>2013-10-28 23:59:59.999</td><td>GBM</td><td>flux</td><td>FERMI</td><td>NASA</td><td>cspec</td><td>n9</td></tr>\n",
       "<tr><td>2013-10-28 00:00:00.000</td><td>2013-10-28 23:59:59.999</td><td>GBM</td><td>flux</td><td>FERMI</td><td>NASA</td><td>ctime</td><td>n0</td></tr>\n",
       "<tr><td>2013-10-28 00:00:00.000</td><td>2013-10-28 23:59:59.999</td><td>GBM</td><td>flux</td><td>FERMI</td><td>NASA</td><td>ctime</td><td>n1</td></tr>\n",
       "<tr><td>2013-10-28 00:00:00.000</td><td>2013-10-28 23:59:59.999</td><td>GBM</td><td>flux</td><td>FERMI</td><td>NASA</td><td>ctime</td><td>n2</td></tr>\n",
       "<tr><td>2013-10-28 00:00:00.000</td><td>2013-10-28 23:59:59.999</td><td>GBM</td><td>flux</td><td>FERMI</td><td>NASA</td><td>ctime</td><td>n3</td></tr>\n",
       "<tr><td>2013-10-28 00:00:00.000</td><td>2013-10-28 23:59:59.999</td><td>GBM</td><td>flux</td><td>FERMI</td><td>NASA</td><td>ctime</td><td>n4</td></tr>\n",
       "<tr><td>2013-10-28 00:00:00.000</td><td>2013-10-28 23:59:59.999</td><td>GBM</td><td>flux</td><td>FERMI</td><td>NASA</td><td>ctime</td><td>n5</td></tr>\n",
       "<tr><td>2013-10-28 00:00:00.000</td><td>2013-10-28 23:59:59.999</td><td>GBM</td><td>flux</td><td>FERMI</td><td>NASA</td><td>ctime</td><td>n6</td></tr>\n",
       "<tr><td>2013-10-28 00:00:00.000</td><td>2013-10-28 23:59:59.999</td><td>GBM</td><td>flux</td><td>FERMI</td><td>NASA</td><td>ctime</td><td>n7</td></tr>\n",
       "<tr><td>2013-10-28 00:00:00.000</td><td>2013-10-28 23:59:59.999</td><td>GBM</td><td>flux</td><td>FERMI</td><td>NASA</td><td>ctime</td><td>n8</td></tr>\n",
       "<tr><td>2013-10-28 00:00:00.000</td><td>2013-10-28 23:59:59.999</td><td>GBM</td><td>flux</td><td>FERMI</td><td>NASA</td><td>ctime</td><td>n9</td></tr>\n",
       "</table></br>"
      ],
      "text/plain": [
       "<sunpy.net.fido_factory.UnifiedResponse object at 0x147f3aa30>\n",
       "Results from 2 Providers:\n",
       "\n",
       "2 Results from the XRSClient:\n",
       "       Start Time               End Time        Instrument ... Source Provider\n",
       "----------------------- ----------------------- ---------- ... ------ --------\n",
       "2013-10-28 00:00:00.000 2013-10-28 23:59:59.999        XRS ...   GOES     NOAA\n",
       "2013-10-28 00:00:00.000 2013-10-28 23:59:59.999        XRS ...   GOES     NOAA\n",
       "\n",
       "20 Results from the GBMClient:\n",
       "       Start Time               End Time        ... Resolution Detector\n",
       "----------------------- ----------------------- ... ---------- --------\n",
       "2013-10-28 00:00:00.000 2013-10-28 23:59:59.999 ...      cspec       n0\n",
       "2013-10-28 00:00:00.000 2013-10-28 23:59:59.999 ...      cspec       n1\n",
       "2013-10-28 00:00:00.000 2013-10-28 23:59:59.999 ...      cspec       n2\n",
       "2013-10-28 00:00:00.000 2013-10-28 23:59:59.999 ...      cspec       n3\n",
       "2013-10-28 00:00:00.000 2013-10-28 23:59:59.999 ...      cspec       n4\n",
       "2013-10-28 00:00:00.000 2013-10-28 23:59:59.999 ...      cspec       n5\n",
       "2013-10-28 00:00:00.000 2013-10-28 23:59:59.999 ...      cspec       n6\n",
       "2013-10-28 00:00:00.000 2013-10-28 23:59:59.999 ...      cspec       n7\n",
       "2013-10-28 00:00:00.000 2013-10-28 23:59:59.999 ...      cspec       n8\n",
       "2013-10-28 00:00:00.000 2013-10-28 23:59:59.999 ...      cspec       n9\n",
       "2013-10-28 00:00:00.000 2013-10-28 23:59:59.999 ...      ctime       n0\n",
       "2013-10-28 00:00:00.000 2013-10-28 23:59:59.999 ...      ctime       n1\n",
       "2013-10-28 00:00:00.000 2013-10-28 23:59:59.999 ...      ctime       n2\n",
       "2013-10-28 00:00:00.000 2013-10-28 23:59:59.999 ...      ctime       n3\n",
       "2013-10-28 00:00:00.000 2013-10-28 23:59:59.999 ...      ctime       n4\n",
       "2013-10-28 00:00:00.000 2013-10-28 23:59:59.999 ...      ctime       n5\n",
       "2013-10-28 00:00:00.000 2013-10-28 23:59:59.999 ...      ctime       n6\n",
       "2013-10-28 00:00:00.000 2013-10-28 23:59:59.999 ...      ctime       n7\n",
       "2013-10-28 00:00:00.000 2013-10-28 23:59:59.999 ...      ctime       n8\n",
       "2013-10-28 00:00:00.000 2013-10-28 23:59:59.999 ...      ctime       n9\n"
      ]
     },
     "execution_count": 22,
     "metadata": {},
     "output_type": "execute_result"
    }
   ],
   "source": [
    "result"
   ]
  },
  {
   "cell_type": "markdown",
   "id": "5d7e0c01",
   "metadata": {},
   "source": [
    "If we then want to further specify our search for each instrument, e.g. lets only search for data from the GOES 15 satellite and for detector n5 for GBM, this can be achieved by using the `&` operator "
   ]
  },
  {
   "cell_type": "code",
   "execution_count": 23,
   "id": "3c9dd3ff",
   "metadata": {},
   "outputs": [
    {
     "name": "stderr",
     "output_type": "stream",
     "text": [
      "/Users/laurahayes/opt/miniconda3/lib/python3.9/site-packages/astropy/table/table.py:3197: FutureWarning: elementwise == comparison failed and returning scalar instead; this will raise an error or perform elementwise comparison in the future.\n",
      "  result = self.as_array() == other\n"
     ]
    }
   ],
   "source": [
    "result = Fido.search(a.Time(\"2013-10-28 01:00\", \"2013-10-28 03:00\"), \n",
    "                     a.Instrument.xrs & a.goes.SatelliteNumber(15) | a.Instrument.gbm & a.Detector(\"n5\"))"
   ]
  },
  {
   "cell_type": "code",
   "execution_count": 24,
   "id": "08bbc7ee",
   "metadata": {},
   "outputs": [
    {
     "data": {
      "text/html": [
       "Results from 2 Providers:</br></br>1 Results from the XRSClient:</br><i>QueryResponse length=1</i>\n",
       "<table id=\"table5502448784\" class=\"table-striped table-bordered table-condensed\">\n",
       "<thead><tr><th>Start Time</th><th>End Time</th><th>Instrument</th><th>SatelliteNumber</th><th>Physobs</th><th>Source</th><th>Provider</th></tr></thead>\n",
       "<thead><tr><th>object</th><th>object</th><th>str3</th><th>int64</th><th>str10</th><th>str4</th><th>str4</th></tr></thead>\n",
       "<tr><td>2013-10-28 00:00:00.000</td><td>2013-10-28 23:59:59.999</td><td>XRS</td><td>15</td><td>irradiance</td><td>GOES</td><td>NOAA</td></tr>\n",
       "</table></br>2 Results from the GBMClient:</br><i>QueryResponse length=2</i>\n",
       "<table id=\"table5501552384\" class=\"table-striped table-bordered table-condensed\">\n",
       "<thead><tr><th>Start Time</th><th>End Time</th><th>Instrument</th><th>Physobs</th><th>Source</th><th>Provider</th><th>Resolution</th><th>Detector</th></tr></thead>\n",
       "<thead><tr><th>object</th><th>object</th><th>str3</th><th>str4</th><th>str5</th><th>str4</th><th>str5</th><th>str2</th></tr></thead>\n",
       "<tr><td>2013-10-28 00:00:00.000</td><td>2013-10-28 23:59:59.999</td><td>GBM</td><td>flux</td><td>FERMI</td><td>NASA</td><td>cspec</td><td>n5</td></tr>\n",
       "<tr><td>2013-10-28 00:00:00.000</td><td>2013-10-28 23:59:59.999</td><td>GBM</td><td>flux</td><td>FERMI</td><td>NASA</td><td>ctime</td><td>n5</td></tr>\n",
       "</table></br>"
      ],
      "text/plain": [
       "<sunpy.net.fido_factory.UnifiedResponse object at 0x147ff9520>\n",
       "Results from 2 Providers:\n",
       "\n",
       "1 Results from the XRSClient:\n",
       "       Start Time               End Time        Instrument ... Source Provider\n",
       "----------------------- ----------------------- ---------- ... ------ --------\n",
       "2013-10-28 00:00:00.000 2013-10-28 23:59:59.999        XRS ...   GOES     NOAA\n",
       "\n",
       "2 Results from the GBMClient:\n",
       "       Start Time               End Time        ... Resolution Detector\n",
       "----------------------- ----------------------- ... ---------- --------\n",
       "2013-10-28 00:00:00.000 2013-10-28 23:59:59.999 ...      cspec       n5\n",
       "2013-10-28 00:00:00.000 2013-10-28 23:59:59.999 ...      ctime       n5\n"
      ]
     },
     "execution_count": 24,
     "metadata": {},
     "output_type": "execute_result"
    }
   ],
   "source": [
    "result"
   ]
  },
  {
   "cell_type": "markdown",
   "id": "66bc943f",
   "metadata": {},
   "source": [
    "### Dealing with `UnifiedResponse` query results for complex queries"
   ]
  },
  {
   "cell_type": "code",
   "execution_count": 25,
   "id": "8d3bcfe8",
   "metadata": {},
   "outputs": [
    {
     "data": {
      "text/plain": [
       "2"
      ]
     },
     "execution_count": 25,
     "metadata": {},
     "output_type": "execute_result"
    }
   ],
   "source": [
    "len(result)"
   ]
  },
  {
   "cell_type": "code",
   "execution_count": 26,
   "id": "449e1c2b",
   "metadata": {},
   "outputs": [
    {
     "data": {
      "text/html": [
       "<i>QueryResponse length=1</i>\n",
       "<table id=\"table5502399392\" class=\"table-striped table-bordered table-condensed\">\n",
       "<thead><tr><th>Start Time</th><th>End Time</th><th>Instrument</th><th>SatelliteNumber</th><th>Physobs</th><th>Source</th><th>Provider</th></tr></thead>\n",
       "<thead><tr><th>object</th><th>object</th><th>str3</th><th>int64</th><th>str10</th><th>str4</th><th>str4</th></tr></thead>\n",
       "<tr><td>2013-10-28 00:00:00.000</td><td>2013-10-28 23:59:59.999</td><td>XRS</td><td>15</td><td>irradiance</td><td>GOES</td><td>NOAA</td></tr>\n",
       "</table>"
      ],
      "text/plain": [
       "<sunpy.net.dataretriever.client.QueryResponse object at 0x147ce9e20>\n",
       "       Start Time               End Time        Instrument ... Source Provider\n",
       "----------------------- ----------------------- ---------- ... ------ --------\n",
       "2013-10-28 00:00:00.000 2013-10-28 23:59:59.999        XRS ...   GOES     NOAA"
      ]
     },
     "execution_count": 26,
     "metadata": {},
     "output_type": "execute_result"
    }
   ],
   "source": [
    "result[0]"
   ]
  },
  {
   "cell_type": "code",
   "execution_count": 27,
   "id": "733b146d",
   "metadata": {},
   "outputs": [
    {
     "data": {
      "text/html": [
       "<i>QueryResponse length=2</i>\n",
       "<table id=\"table5501567904\" class=\"table-striped table-bordered table-condensed\">\n",
       "<thead><tr><th>Start Time</th><th>End Time</th><th>Instrument</th><th>Physobs</th><th>Source</th><th>Provider</th><th>Resolution</th><th>Detector</th></tr></thead>\n",
       "<thead><tr><th>object</th><th>object</th><th>str3</th><th>str4</th><th>str5</th><th>str4</th><th>str5</th><th>str2</th></tr></thead>\n",
       "<tr><td>2013-10-28 00:00:00.000</td><td>2013-10-28 23:59:59.999</td><td>GBM</td><td>flux</td><td>FERMI</td><td>NASA</td><td>cspec</td><td>n5</td></tr>\n",
       "<tr><td>2013-10-28 00:00:00.000</td><td>2013-10-28 23:59:59.999</td><td>GBM</td><td>flux</td><td>FERMI</td><td>NASA</td><td>ctime</td><td>n5</td></tr>\n",
       "</table>"
      ],
      "text/plain": [
       "<sunpy.net.dataretriever.client.QueryResponse object at 0x148345730>\n",
       "       Start Time               End Time        ... Resolution Detector\n",
       "----------------------- ----------------------- ... ---------- --------\n",
       "2013-10-28 00:00:00.000 2013-10-28 23:59:59.999 ...      cspec       n5\n",
       "2013-10-28 00:00:00.000 2013-10-28 23:59:59.999 ...      ctime       n5"
      ]
     },
     "execution_count": 27,
     "metadata": {},
     "output_type": "execute_result"
    }
   ],
   "source": [
    "result[1]"
   ]
  },
  {
   "cell_type": "code",
   "execution_count": 28,
   "id": "b7c6cb5b",
   "metadata": {},
   "outputs": [
    {
     "data": {
      "text/html": [
       "<i>QueryResponse length=1</i>\n",
       "<table id=\"table5501556960\" class=\"table-striped table-bordered table-condensed\">\n",
       "<thead><tr><th>Start Time</th><th>End Time</th><th>Instrument</th><th>SatelliteNumber</th><th>Physobs</th><th>Source</th><th>Provider</th></tr></thead>\n",
       "<thead><tr><th>object</th><th>object</th><th>str3</th><th>int64</th><th>str10</th><th>str4</th><th>str4</th></tr></thead>\n",
       "<tr><td>2013-10-28 00:00:00.000</td><td>2013-10-28 23:59:59.999</td><td>XRS</td><td>15</td><td>irradiance</td><td>GOES</td><td>NOAA</td></tr>\n",
       "</table>"
      ],
      "text/plain": [
       "<sunpy.net.dataretriever.client.QueryResponse object at 0x147ce9e20>\n",
       "       Start Time               End Time        Instrument ... Source Provider\n",
       "----------------------- ----------------------- ---------- ... ------ --------\n",
       "2013-10-28 00:00:00.000 2013-10-28 23:59:59.999        XRS ...   GOES     NOAA"
      ]
     },
     "execution_count": 28,
     "metadata": {},
     "output_type": "execute_result"
    }
   ],
   "source": [
    "result[\"XRS\"]"
   ]
  },
  {
   "cell_type": "code",
   "execution_count": 29,
   "id": "6056dd17",
   "metadata": {},
   "outputs": [
    {
     "data": {
      "text/html": [
       "<i>QueryResponse length=2</i>\n",
       "<table id=\"table5501557392\" class=\"table-striped table-bordered table-condensed\">\n",
       "<thead><tr><th>Start Time</th><th>End Time</th><th>Instrument</th><th>Physobs</th><th>Source</th><th>Provider</th><th>Resolution</th><th>Detector</th></tr></thead>\n",
       "<thead><tr><th>object</th><th>object</th><th>str3</th><th>str4</th><th>str5</th><th>str4</th><th>str5</th><th>str2</th></tr></thead>\n",
       "<tr><td>2013-10-28 00:00:00.000</td><td>2013-10-28 23:59:59.999</td><td>GBM</td><td>flux</td><td>FERMI</td><td>NASA</td><td>cspec</td><td>n5</td></tr>\n",
       "<tr><td>2013-10-28 00:00:00.000</td><td>2013-10-28 23:59:59.999</td><td>GBM</td><td>flux</td><td>FERMI</td><td>NASA</td><td>ctime</td><td>n5</td></tr>\n",
       "</table>"
      ],
      "text/plain": [
       "<sunpy.net.dataretriever.client.QueryResponse object at 0x148345730>\n",
       "       Start Time               End Time        ... Resolution Detector\n",
       "----------------------- ----------------------- ... ---------- --------\n",
       "2013-10-28 00:00:00.000 2013-10-28 23:59:59.999 ...      cspec       n5\n",
       "2013-10-28 00:00:00.000 2013-10-28 23:59:59.999 ...      ctime       n5"
      ]
     },
     "execution_count": 29,
     "metadata": {},
     "output_type": "execute_result"
    }
   ],
   "source": [
    "result[\"GBM\"]"
   ]
  },
  {
   "cell_type": "markdown",
   "id": "6e40634a",
   "metadata": {},
   "source": [
    "Similarly, as mentioned above the first index is the response index, and the second is the row, so we can pull out  the individual rows. For example, say we only want the first file from the Fermi/GBM data"
   ]
  },
  {
   "cell_type": "code",
   "execution_count": 30,
   "id": "c869f098",
   "metadata": {},
   "outputs": [
    {
     "data": {
      "text/html": [
       "<i>QueryResponseRow index=0</i>\n",
       "<table id=\"table5506357040\">\n",
       "<thead><tr><th>Start Time</th><th>End Time</th><th>Instrument</th><th>Physobs</th><th>Source</th><th>Provider</th><th>Resolution</th><th>Detector</th><th>url</th></tr></thead>\n",
       "<thead><tr><th>object</th><th>object</th><th>str3</th><th>str4</th><th>str5</th><th>str4</th><th>str5</th><th>str2</th><th>str101</th></tr></thead>\n",
       "<tr><td>2013-10-28 00:00:00.000</td><td>2013-10-28 23:59:59.999</td><td>GBM</td><td>flux</td><td>FERMI</td><td>NASA</td><td>cspec</td><td>n5</td><td>https://heasarc.gsfc.nasa.gov/FTP/fermi/data/gbm/daily/2013/10/28/current/glg_cspec_n5_131028_v00.pha</td></tr>\n",
       "</table>"
      ],
      "text/plain": [
       "<QueryResponseRow index=0>\n",
       "       Start Time               End Time        Instrument Physobs Source Provider Resolution Detector                                                  url                                                 \n",
       "         object                  object            str3      str4   str5    str4      str5      str2                                                   str101                                               \n",
       "----------------------- ----------------------- ---------- ------- ------ -------- ---------- -------- -----------------------------------------------------------------------------------------------------\n",
       "2013-10-28 00:00:00.000 2013-10-28 23:59:59.999        GBM    flux  FERMI     NASA      cspec       n5 https://heasarc.gsfc.nasa.gov/FTP/fermi/data/gbm/daily/2013/10/28/current/glg_cspec_n5_131028_v00.pha"
      ]
     },
     "execution_count": 30,
     "metadata": {},
     "output_type": "execute_result"
    }
   ],
   "source": [
    "result[\"GBM\", 0]"
   ]
  },
  {
   "cell_type": "code",
   "execution_count": 31,
   "id": "3f4f525a",
   "metadata": {},
   "outputs": [
    {
     "data": {
      "text/plain": [
       "['End Time',\n",
       " 'Instrument',\n",
       " 'Physobs',\n",
       " 'Provider',\n",
       " 'SatelliteNumber',\n",
       " 'Source',\n",
       " 'Start Time',\n",
       " 'url']"
      ]
     },
     "execution_count": 31,
     "metadata": {},
     "output_type": "execute_result"
    }
   ],
   "source": [
    "result.all_colnames"
   ]
  },
  {
   "cell_type": "code",
   "execution_count": 32,
   "id": "669ded00",
   "metadata": {
    "scrolled": true
   },
   "outputs": [
    {
     "data": {
      "text/html": [
       "&lt;QueryResponseColumn name=&apos;url&apos; dtype=&apos;str101&apos; length=2&gt;\n",
       "<table>\n",
       "<tr><td>https://heasarc.gsfc.nasa.gov/FTP/fermi/data/gbm/daily/2013/10/28/current/glg_cspec_n5_131028_v00.pha</td></tr>\n",
       "<tr><td>https://heasarc.gsfc.nasa.gov/FTP/fermi/data/gbm/daily/2013/10/28/current/glg_ctime_n5_131028_v00.pha</td></tr>\n",
       "</table>"
      ],
      "text/plain": [
       "<QueryResponseColumn name='url' dtype='str101' length=2>\n",
       "https://heasarc.gsfc.nasa.gov/FTP/fermi/data/gbm/daily/2013/10/28/current/glg_cspec_n5_131028_v00.pha\n",
       "https://heasarc.gsfc.nasa.gov/FTP/fermi/data/gbm/daily/2013/10/28/current/glg_ctime_n5_131028_v00.pha"
      ]
     },
     "execution_count": 32,
     "metadata": {},
     "output_type": "execute_result"
    }
   ],
   "source": [
    "result[1][\"url\"]"
   ]
  },
  {
   "cell_type": "markdown",
   "id": "682e2a8f",
   "metadata": {},
   "source": [
    "## 6. Downloading the data\n",
    "\n",
    "Now we can show how data that is queried above can be downloaded. Once the data you have searched for (and filtered etc) is constructed into a query using `Fido.search`, you can then easily download them using `Fido.fetch`.\n",
    "\n",
    "The data is downloaded via asynchronous and parallel download streams (via `parfive`), and also allows for failed data downloads to be recognized so that files can be re-requested if not downloaded. \n",
    "\n",
    "Lets now look at how a `UnifiedResponse` from a `Fido.search` can be passed to `Fido.fetch` to download the data"
   ]
  },
  {
   "cell_type": "code",
   "execution_count": 33,
   "id": "b879658a",
   "metadata": {},
   "outputs": [
    {
     "name": "stderr",
     "output_type": "stream",
     "text": [
      "WARNING: SunpyUserWarning: VSO-C500 :soap:Server.Transport : 200 OK [sunpy.net.vso.vso]\n"
     ]
    }
   ],
   "source": [
    "result = Fido.search(a.Time(\"2021-05-23 11:00\", \"2021-05-23 11:20\"), \n",
    "                     a.Instrument(\"AIA\"), \n",
    "                     a.Wavelength(171*u.angstrom),\n",
    "                     a.Sample(2*u.min))"
   ]
  },
  {
   "cell_type": "code",
   "execution_count": 34,
   "id": "177aedcf",
   "metadata": {},
   "outputs": [
    {
     "data": {
      "application/vnd.jupyter.widget-view+json": {
       "model_id": "162a6ea5630a4d47aad04f6f9c860c29",
       "version_major": 2,
       "version_minor": 0
      },
      "text/plain": [
       "Files Downloaded:   0%|          | 0/10 [00:00<?, ?file/s]"
      ]
     },
     "metadata": {},
     "output_type": "display_data"
    }
   ],
   "source": [
    "files = Fido.fetch(result)"
   ]
  },
  {
   "cell_type": "markdown",
   "id": "70e84059",
   "metadata": {},
   "source": [
    "These files are downloaded to a local location set in the sunpy.config.file, which by default is `~/sunpy/data/`. `Fido.fetch` returns a `parfile.Results` object which gives the path to where the files are downloaded to "
   ]
  },
  {
   "cell_type": "code",
   "execution_count": 35,
   "id": "ba124d99",
   "metadata": {},
   "outputs": [
    {
     "name": "stdout",
     "output_type": "stream",
     "text": [
      "['/Users/laurahayes/sunpy/data/aia_lev1_171a_2021_05_23t11_00_09_35z_image_lev1.fits', '/Users/laurahayes/sunpy/data/aia_lev1_171a_2021_05_23t11_08_09_35z_image_lev1.fits', '/Users/laurahayes/sunpy/data/aia_lev1_171a_2021_05_23t11_12_09_35z_image_lev1.fits', '/Users/laurahayes/sunpy/data/aia_lev1_171a_2021_05_23t11_04_09_35z_image_lev1.fits', '/Users/laurahayes/sunpy/data/aia_lev1_171a_2021_05_23t11_16_09_35z_image_lev1.fits', '/Users/laurahayes/sunpy/data/aia_lev1_171a_2021_05_23t11_06_09_35z_image_lev1.fits', '/Users/laurahayes/sunpy/data/aia_lev1_171a_2021_05_23t11_14_09_35z_image_lev1.fits', '/Users/laurahayes/sunpy/data/aia_lev1_171a_2021_05_23t11_02_09_35z_image_lev1.fits', '/Users/laurahayes/sunpy/data/aia_lev1_171a_2021_05_23t11_18_09_35z_image_lev1.fits', '/Users/laurahayes/sunpy/data/aia_lev1_171a_2021_05_23t11_10_09_35z_image_lev1.fits']\n"
     ]
    }
   ],
   "source": [
    "print(files)"
   ]
  },
  {
   "cell_type": "markdown",
   "id": "df4bfe0a",
   "metadata": {},
   "source": [
    "You can also define what directory you want the files to be saved to by passing the directory path to the `path` keyword in Fido.fetch. For example, I want to download these files to a local directory `/Users/laurahayes/event_analysis/`"
   ]
  },
  {
   "cell_type": "code",
   "execution_count": 36,
   "id": "1bc5dc9d",
   "metadata": {},
   "outputs": [
    {
     "data": {
      "application/vnd.jupyter.widget-view+json": {
       "model_id": "7ae77d65be3d40bbb8aacb00c027b58b",
       "version_major": 2,
       "version_minor": 0
      },
      "text/plain": [
       "Files Downloaded:   0%|          | 0/10 [00:00<?, ?file/s]"
      ]
     },
     "metadata": {},
     "output_type": "display_data"
    }
   ],
   "source": [
    "files = Fido.fetch(result, path='./event_analysis/')"
   ]
  },
  {
   "cell_type": "code",
   "execution_count": 37,
   "id": "746ed71a",
   "metadata": {},
   "outputs": [
    {
     "name": "stdout",
     "output_type": "stream",
     "text": [
      "['event_analysis/aia_lev1_171a_2021_05_23t11_04_09_35z_image_lev1.fits', 'event_analysis/aia_lev1_171a_2021_05_23t11_06_09_35z_image_lev1.fits', 'event_analysis/aia_lev1_171a_2021_05_23t11_16_09_35z_image_lev1.fits', 'event_analysis/aia_lev1_171a_2021_05_23t11_02_09_35z_image_lev1.fits', 'event_analysis/aia_lev1_171a_2021_05_23t11_10_09_35z_image_lev1.fits', 'event_analysis/aia_lev1_171a_2021_05_23t11_00_09_35z_image_lev1.fits', 'event_analysis/aia_lev1_171a_2021_05_23t11_08_09_35z_image_lev1.fits', 'event_analysis/aia_lev1_171a_2021_05_23t11_18_09_35z_image_lev1.fits', 'event_analysis/aia_lev1_171a_2021_05_23t11_12_09_35z_image_lev1.fits', 'event_analysis/aia_lev1_171a_2021_05_23t11_14_09_35z_image_lev1.fits']\n"
     ]
    }
   ],
   "source": [
    "print(files)"
   ]
  },
  {
   "cell_type": "markdown",
   "id": "7335e8ad",
   "metadata": {},
   "source": [
    "You can also use the properties of the query to define the path to where to save the files, for example you can save them in a subdirectory named after the instrument of the queried files:"
   ]
  },
  {
   "cell_type": "code",
   "execution_count": 38,
   "id": "c969f967",
   "metadata": {},
   "outputs": [
    {
     "data": {
      "application/vnd.jupyter.widget-view+json": {
       "model_id": "430b15edded74966a1f63d2ae736fb2d",
       "version_major": 2,
       "version_minor": 0
      },
      "text/plain": [
       "Files Downloaded:   0%|          | 0/10 [00:00<?, ?file/s]"
      ]
     },
     "metadata": {},
     "output_type": "display_data"
    },
    {
     "data": {
      "application/vnd.jupyter.widget-view+json": {
       "model_id": "9cc7f989b702421282046bff7492af56",
       "version_major": 2,
       "version_minor": 0
      },
      "text/plain": [
       "aia_lev1_171a_2021_05_23t11_06_09_35z_image_lev1.fits:   0%|          | 0.00/11.6M [00:00<?, ?B/s]"
      ]
     },
     "metadata": {},
     "output_type": "display_data"
    },
    {
     "data": {
      "application/vnd.jupyter.widget-view+json": {
       "model_id": "3d83e75b03324e598c4780f2e2216db8",
       "version_major": 2,
       "version_minor": 0
      },
      "text/plain": [
       "aia_lev1_171a_2021_05_23t11_08_09_35z_image_lev1.fits:   0%|          | 0.00/11.6M [00:00<?, ?B/s]"
      ]
     },
     "metadata": {},
     "output_type": "display_data"
    },
    {
     "data": {
      "application/vnd.jupyter.widget-view+json": {
       "model_id": "8a07f6164758488d85a49c3a281fe740",
       "version_major": 2,
       "version_minor": 0
      },
      "text/plain": [
       "aia_lev1_171a_2021_05_23t11_02_09_35z_image_lev1.fits:   0%|          | 0.00/11.6M [00:00<?, ?B/s]"
      ]
     },
     "metadata": {},
     "output_type": "display_data"
    },
    {
     "data": {
      "application/vnd.jupyter.widget-view+json": {
       "model_id": "c3be3365a3a24e77bd1d32a437af3116",
       "version_major": 2,
       "version_minor": 0
      },
      "text/plain": [
       "aia_lev1_171a_2021_05_23t11_04_09_35z_image_lev1.fits:   0%|          | 0.00/11.6M [00:00<?, ?B/s]"
      ]
     },
     "metadata": {},
     "output_type": "display_data"
    },
    {
     "data": {
      "application/vnd.jupyter.widget-view+json": {
       "model_id": "31269eccf96f47b889a4809f54a3b8f7",
       "version_major": 2,
       "version_minor": 0
      },
      "text/plain": [
       "aia_lev1_171a_2021_05_23t11_00_09_35z_image_lev1.fits:   0%|          | 0.00/11.6M [00:00<?, ?B/s]"
      ]
     },
     "metadata": {},
     "output_type": "display_data"
    },
    {
     "data": {
      "application/vnd.jupyter.widget-view+json": {
       "model_id": "7e32b7c8c488403c8fb3c1ba2b1115c0",
       "version_major": 2,
       "version_minor": 0
      },
      "text/plain": [
       "aia_lev1_171a_2021_05_23t11_10_09_35z_image_lev1.fits:   0%|          | 0.00/11.6M [00:00<?, ?B/s]"
      ]
     },
     "metadata": {},
     "output_type": "display_data"
    },
    {
     "data": {
      "application/vnd.jupyter.widget-view+json": {
       "model_id": "502455574b0348918de923eab3d81dba",
       "version_major": 2,
       "version_minor": 0
      },
      "text/plain": [
       "aia_lev1_171a_2021_05_23t11_14_09_35z_image_lev1.fits:   0%|          | 0.00/11.6M [00:00<?, ?B/s]"
      ]
     },
     "metadata": {},
     "output_type": "display_data"
    },
    {
     "data": {
      "application/vnd.jupyter.widget-view+json": {
       "model_id": "4cbb05972ac741fe9c8d4270a15d6cd6",
       "version_major": 2,
       "version_minor": 0
      },
      "text/plain": [
       "aia_lev1_171a_2021_05_23t11_12_09_35z_image_lev1.fits:   0%|          | 0.00/11.6M [00:00<?, ?B/s]"
      ]
     },
     "metadata": {},
     "output_type": "display_data"
    },
    {
     "data": {
      "application/vnd.jupyter.widget-view+json": {
       "model_id": "64551c141e414c95b8348fb316c4f52f",
       "version_major": 2,
       "version_minor": 0
      },
      "text/plain": [
       "aia_lev1_171a_2021_05_23t11_16_09_35z_image_lev1.fits:   0%|          | 0.00/11.6M [00:00<?, ?B/s]"
      ]
     },
     "metadata": {},
     "output_type": "display_data"
    },
    {
     "data": {
      "application/vnd.jupyter.widget-view+json": {
       "model_id": "39947dd8a4ff49ea8f5073746466a02e",
       "version_major": 2,
       "version_minor": 0
      },
      "text/plain": [
       "aia_lev1_171a_2021_05_23t11_18_09_35z_image_lev1.fits:   0%|          | 0.00/11.6M [00:00<?, ?B/s]"
      ]
     },
     "metadata": {},
     "output_type": "display_data"
    }
   ],
   "source": [
    "files = Fido.fetch(result, path='./event_analysis/event_analysis/{instrument}/')"
   ]
  },
  {
   "cell_type": "code",
   "execution_count": 39,
   "id": "576d7978",
   "metadata": {},
   "outputs": [
    {
     "name": "stdout",
     "output_type": "stream",
     "text": [
      "event_analysis/event_analysis/AIA/aia_lev1_171a_2021_05_23t11_00_09_35z_image_lev1.fits\n"
     ]
    }
   ],
   "source": [
    "print(files[0])"
   ]
  },
  {
   "cell_type": "markdown",
   "id": "4a1c0d67",
   "metadata": {},
   "source": [
    "### Download errors\n",
    "The parfive.Results that is returned from `Fido.fetch` also contains information on the failed downloads and the error that is associated with them. These can be accessed by:"
   ]
  },
  {
   "cell_type": "code",
   "execution_count": 40,
   "id": "2bf51688",
   "metadata": {},
   "outputs": [
    {
     "data": {
      "text/plain": [
       "[]"
      ]
     },
     "execution_count": 40,
     "metadata": {},
     "output_type": "execute_result"
    }
   ],
   "source": [
    "files.errors"
   ]
  },
  {
   "cell_type": "markdown",
   "id": "ddc909d7",
   "metadata": {},
   "source": [
    "However for this example, there were no errors, but in the case that there was, this would list the errors. If there were failed downloads, the parfive.Results can be passed back into `Fido.fetch` to retry downloading the failed downloads e.g."
   ]
  },
  {
   "cell_type": "code",
   "execution_count": 41,
   "id": "5d1e626f",
   "metadata": {},
   "outputs": [
    {
     "data": {
      "application/vnd.jupyter.widget-view+json": {
       "model_id": "b59245f234fe4be0a2d14d87abc709bb",
       "version_major": 2,
       "version_minor": 0
      },
      "text/plain": [
       "Files Downloaded: 0file [00:00, ?file/s]"
      ]
     },
     "metadata": {},
     "output_type": "display_data"
    },
    {
     "data": {
      "text/plain": [
       "<parfive.results.Results object at 0x147ed20a0>\n",
       "['event_analysis/event_analysis/AIA/aia_lev1_171a_2021_05_23t11_00_09_35z_image_lev1.fits', 'event_analysis/event_analysis/AIA/aia_lev1_171a_2021_05_23t11_16_09_35z_image_lev1.fits', 'event_analysis/event_analysis/AIA/aia_lev1_171a_2021_05_23t11_08_09_35z_image_lev1.fits', 'event_analysis/event_analysis/AIA/aia_lev1_171a_2021_05_23t11_12_09_35z_image_lev1.fits', 'event_analysis/event_analysis/AIA/aia_lev1_171a_2021_05_23t11_10_09_35z_image_lev1.fits', 'event_analysis/event_analysis/AIA/aia_lev1_171a_2021_05_23t11_04_09_35z_image_lev1.fits', 'event_analysis/event_analysis/AIA/aia_lev1_171a_2021_05_23t11_06_09_35z_image_lev1.fits', 'event_analysis/event_analysis/AIA/aia_lev1_171a_2021_05_23t11_18_09_35z_image_lev1.fits', 'event_analysis/event_analysis/AIA/aia_lev1_171a_2021_05_23t11_02_09_35z_image_lev1.fits', 'event_analysis/event_analysis/AIA/aia_lev1_171a_2021_05_23t11_14_09_35z_image_lev1.fits']"
      ]
     },
     "execution_count": 41,
     "metadata": {},
     "output_type": "execute_result"
    }
   ],
   "source": [
    "Fido.fetch(files)"
   ]
  },
  {
   "cell_type": "markdown",
   "id": "6ffec2ed",
   "metadata": {},
   "source": [
    "Again as we had no failed file downloads this just returns to us the files downloaded."
   ]
  },
  {
   "cell_type": "markdown",
   "id": "6166b3ce",
   "metadata": {},
   "source": [
    "## 7. Metadata queries\n",
    "\n",
    "As well as Fido providing an interface to search for data files that can be downloaded, Fido also allows you to query metadata. Currently Fido supports metadata searching from the HEK, HELIO and JSOC. \n",
    "\n",
    "Similar to what we have seen so far, the search results of these clients are a UnifiedResponse object which can then be indexed and the QueryResponse table accessed like an astropy table. Lets look at an example of how we can use Fido to query the HEK.\n",
    "\n",
    "Lets query for the active regions defined by SWPC over the past month. This can be done by using the HEK client specific attributes `a.hek.attrs` "
   ]
  },
  {
   "cell_type": "code",
   "execution_count": 42,
   "id": "35c4c0c2",
   "metadata": {},
   "outputs": [],
   "source": [
    "result_hek = Fido.search(a.Time(\"2021-05-01\", \"2021-05-31\"), \n",
    "                         a.hek.AR, a.hek.FRM.Name==\"NOAA SWPC Observer\")"
   ]
  },
  {
   "cell_type": "code",
   "execution_count": 43,
   "id": "837fcfad",
   "metadata": {},
   "outputs": [
    {
     "data": {
      "text/html": [
       "Results from 1 Provider:</br></br>44 Results from the HEKClient:</br><i>HEKTable length=44</i>\n",
       "<table id=\"table5506552544\" class=\"table-striped table-bordered table-condensed\">\n",
       "<thead><tr><th>gs_thumburl</th><th>comment_count</th><th>hpc_bbox</th><th>meanphotoenergydensity</th><th>frm_humanflag</th><th>hgc_coord</th><th>ar_spotarearepruncert</th><th>event_coordsys</th><th>obs_levelnum</th><th>hpc_coord</th><th>event_npixels</th><th>gs_imageurl</th><th>ar_polarity</th><th>totalenergydensityunit</th><th>frm_paramset</th><th>hrc_coord</th><th>event_starttime</th><th>ar_mtwilsoncls</th><th>event_type</th><th>meantwistalpha</th><th>intensmin</th><th>obs_meanwavel</th><th>frm_url</th><th>bound_chaincode</th><th>totalphotoenergy</th><th>noposition</th><th>ar_spotarearepr</th><th>active</th><th>intensmax</th><th>frm_versionnumber</th><th>ar_pilcurvature</th><th>area_uncert</th><th>obs_dataprepurl</th><th>hpc_geom</th><th>hgc_bbox</th><th>intensmedian</th><th>chaincodetype</th><th>obs_channelid</th><th>ar_spotareareprunit</th><th>event_clippedspatial</th><th>ar_noaaclass</th><th>SOL_standard</th><th>event_avg_rating</th><th>eventtype</th><th>intensunit</th><th>hpc_boundcc</th><th>event_mapurl</th><th>frm_contact</th><th>meanvertcurrentdensity</th><th>ar_penumbracls</th><th>intensmean</th><th>bound_ccstartc1</th><th>frm_name</th><th>area_atdiskcenter</th><th>frm_identifier</th><th>obs_observatory</th><th>event_description</th><th>ar_spotarearaw</th><th>unsignedflux</th><th>boundbox_c2ur</th><th>magfluxunit</th><th>highshearareapercent</th><th>obs_firstprocessingdate</th><th>maxmagfieldstrengthunit</th><th>sharp_noaa_ars</th><th>boundbox_c2ll</th><th>frm_institute</th><th>hrc_bbox</th><th>refs_orig</th><th>meangradienthorz</th><th>gwill</th><th>ar_mcintoshcls</th><th>event_maskurl</th><th>bound_ccstartc2</th><th>ar_spotarearawunit</th><th>gs_movieurl</th><th>event_score</th><th>event_expires</th><th>hrc_boundcc</th><th>event_probability</th><th>intensvar</th><th>frm_daterun</th><th>currentdensityunit</th><th>highsheararea</th><th>event_coordunit</th><th>hpc_y</th><th>hpc_x</th><th>search_instrument</th><th>ar_numspots</th><th>kb_archivdate</th><th>kb_archivist</th><th>intenstotal</th><th>sum_overlap_scores</th><th>unsignedvertcurrent</th><th>hgs_boundcc</th><th>intensskew</th><th>obs_includesnrt</th><th>rasterscan</th><th>obs_wavelunit</th><th>kb_archivid</th><th>search_frm_name</th><th>meaninclinationgamma</th><th>currenthelicityunit</th><th>boundbox_c1ur</th><th>ar_noaanum</th><th>area_atdiskcenteruncert</th><th>boundbox_c1ll</th><th>absnetcurrenthelicity</th><th>meancurrenthelicity</th><th>event_importance_num_ratings</th><th>highshearareaunit</th><th>ar_compactnesscls</th><th>currentunit</th><th>event_testflag</th><th>maxmagfieldstrength</th><th>event_c2error</th><th>hrc_r</th><th>hgs_y</th><th>obs_title</th><th>hgs_x</th><th>hcr_checked</th><th>frm_specificid</th><th>totalphotoenergydensity</th><th>event_title</th><th>gwillunit</th><th>ar_sumnegsignedflux</th><th>obs_instrument</th><th>ar_neutrallength</th><th>event_c1error</th><th>revision</th><th>hpc_radius</th><th>meanshearangle</th><th>event_endtime</th><th>ar_spotarearawuncert</th><th>meanenergydensityunit</th><th>event_importance</th><th>meangradienttotal</th><th>event_coord2</th><th>event_coord3</th><th>event_coord1</th><th>search_observatory</th><th>ar_sumpossignedflux</th><th>area_raw</th><th>meangradientvert</th><th>concept</th><th>ar_axislength</th><th>event_pixelunit</th><th>hgc_boundcc</th><th>log_r_value</th><th>totalphotoenergyunit</th><th>hgc_x</th><th>hrc_a</th><th>hgc_y</th><th>gs_galleryid</th><th>twistunit</th><th>ar_lengthunit</th><th>hgs_coord</th><th>ar_zurichcls</th><th>bound_ccnsteps</th><th>intenskurt</th><th>event_clippedtemporal</th><th>gradientunit</th><th>rasterscantype</th><th>search_channelid</th><th>unsignedcurrenthelicity</th><th>hgs_bbox</th><th>area_unit</th><th>savncpp</th><th>obs_lastprocessingdate</th><th>refs [2]</th></tr></thead>\n",
       "<thead><tr><th>str1</th><th>str1</th><th>str129</th><th>object</th><th>str4</th><th>str22</th><th>object</th><th>str12</th><th>object</th><th>str30</th><th>object</th><th>str1</th><th>object</th><th>str1</th><th>str3</th><th>str41</th><th>str19</th><th>str10</th><th>str2</th><th>object</th><th>object</th><th>float64</th><th>str3</th><th>str1</th><th>object</th><th>str5</th><th>object</th><th>str4</th><th>object</th><th>object</th><th>object</th><th>object</th><th>str1</th><th>str186</th><th>str120</th><th>object</th><th>str1</th><th>str7</th><th>str1</th><th>str1</th><th>str1</th><th>str30</th><th>object</th><th>str1</th><th>str1</th><th>str1</th><th>str1</th><th>str25</th><th>object</th><th>str1</th><th>object</th><th>object</th><th>str18</th><th>int64</th><th>str9</th><th>str7</th><th>str95</th><th>object</th><th>object</th><th>float64</th><th>str1</th><th>object</th><th>str1</th><th>str1</th><th>str1</th><th>float64</th><th>str36</th><th>str110</th><th>str1</th><th>object</th><th>object</th><th>str3</th><th>str1</th><th>object</th><th>str1</th><th>str1</th><th>str22</th><th>str1</th><th>str1</th><th>int64</th><th>object</th><th>str19</th><th>str1</th><th>object</th><th>str7</th><th>float64</th><th>float64</th><th>str3</th><th>int64</th><th>str19</th><th>str9</th><th>object</th><th>str21</th><th>object</th><th>str1</th><th>object</th><th>str1</th><th>str1</th><th>str2</th><th>str82</th><th>str4</th><th>object</th><th>str1</th><th>float64</th><th>int64</th><th>object</th><th>float64</th><th>object</th><th>object</th><th>str1</th><th>str1</th><th>str1</th><th>str1</th><th>str5</th><th>object</th><th>float64</th><th>float64</th><th>int64</th><th>str1</th><th>int64</th><th>str5</th><th>str1</th><th>object</th><th>str1</th><th>str1</th><th>object</th><th>str7</th><th>object</th><th>float64</th><th>str1</th><th>str19</th><th>object</th><th>str19</th><th>object</th><th>str1</th><th>object</th><th>object</th><th>int64</th><th>object</th><th>int64</th><th>str3</th><th>object</th><th>object</th><th>object</th><th>str13</th><th>object</th><th>str1</th><th>str1</th><th>object</th><th>str1</th><th>float64</th><th>float64</th><th>int64</th><th>str1</th><th>str1</th><th>str1</th><th>str14</th><th>str1</th><th>object</th><th>object</th><th>str1</th><th>str1</th><th>str1</th><th>str7</th><th>object</th><th>str95</th><th>str3</th><th>object</th><th>str1</th><th>object</th></tr></thead>\n",
       "<tr><td></td><td>0</td><td>POLYGON((886.656 -343.374396,886.85976 -344.474778,890.54124 -334.898334,890.33688 -333.792666,886.656 -343.374396))</td><td>None</td><td>true</td><td>POINT(-132.51421 -21)</td><td>None</td><td>UTC-HGS-TOPO</td><td>None</td><td>POINT(888.64524 -339.139962)</td><td>None</td><td></td><td>None</td><td></td><td>N/A</td><td>POINT(0.99930064886026 249.111291875901)</td><td>2021-05-01T00:00:00</td><td>ALPHA</td><td>AR</td><td>None</td><td>None</td><td>5e-05</td><td>N/A</td><td></td><td>None</td><td>false</td><td>None</td><td>true</td><td>None</td><td>None</td><td>None</td><td>None</td><td></td><td>010300000001000000050000006891ED7C3FB58B400DFCA886FD7575C046D3D9C9E0B68B40C4EDD0B0988775C04C1AA37554D48B4028EE78935FEE74C0693524EEB1D28B406B2A8BC2AEDC74C06891ED7C3FB58B400DFCA886FD7575C0</td><td>POLYGON((-133.01421 -21.309396,-132.01421 -21.309396,-132.01421 -20.690604,-133.01421 -20.690604,-133.01421 -21.309396))</td><td>None</td><td></td><td>visible</td><td></td><td></td><td></td><td>SOL2021-05-01T00:00:00L228C111</td><td>None</td><td>1</td><td></td><td></td><td></td><td>http://www.swpc.noaa.gov/</td><td>None</td><td></td><td>None</td><td>None</td><td>NOAA SWPC Observer</td><td>91310264</td><td>NOAA SWPC</td><td>various</td><td>Note: Latitudinal extent not provided by SWPC and is calculated assuming area=lat_ext*long_ext.</td><td>None</td><td>None</td><td>-20.690603256225586</td><td></td><td>None</td><td></td><td></td><td></td><td>-21.309396743774414</td><td>NOAA Space Weather Prediction Center</td><td>POLYGON((0.998946 248.830158,0.999564 248.772794,0.999585 249.390649,0.998975 249.448675,0.998946 248.830158))</td><td></td><td>None</td><td>None</td><td>HSX</td><td></td><td>None</td><td></td><td></td><td>0.0109090910932962137</td><td></td><td></td><td>1</td><td>None</td><td>2021-05-01T15:00:40</td><td></td><td>None</td><td>deg deg</td><td>-339.139962</td><td>888.64524</td><td>nil</td><td>1</td><td>2021-05-01T15:00:43</td><td>swpc_swpc</td><td>None</td><td>0.0625701686362110793</td><td>None</td><td></td><td>None</td><td></td><td></td><td>cm</td><td>ivo://helio-informatics.org/AR_NOAASWPCObserver_20210501_150040_NOAA12821_20210501</td><td>SWPC</td><td>None</td><td></td><td>89.5</td><td>12821</td><td>None</td><td>88.5</td><td>None</td><td>None</td><td></td><td></td><td></td><td></td><td>false</td><td>None</td><td>0.30939701199531555</td><td>0.99930064886026</td><td>-21</td><td></td><td>89</td><td>true</td><td></td><td>None</td><td></td><td></td><td>None</td><td>various</td><td>None</td><td>0.5</td><td>1</td><td>951.160489297163167</td><td>None</td><td>2021-05-01T23:59:59</td><td>None</td><td></td><td>None</td><td>None</td><td>-21</td><td>None</td><td>89</td><td>nil</td><td>None</td><td>None</td><td>None</td><td>Active Region</td><td>None</td><td></td><td></td><td>None</td><td></td><td>-132.51421</td><td>249.111291875901</td><td>-21</td><td></td><td></td><td></td><td>POINT(89 -21)</td><td></td><td>None</td><td>None</td><td></td><td></td><td></td><td>visible</td><td>None</td><td>POLYGON((88.5 -21.309396,89.5 -21.309396,89.5 -20.690604,88.5 -20.690604,88.5 -21.309396))</td><td>km2</td><td>None</td><td></td><td>{&apos;ref_name&apos;: &apos;NASA Solar Monitor&apos;, &apos;ref_type&apos;: &apos;html&apos;, &apos;ref_url&apos;: &apos;http://www.solarmonitor.org/region.php?date=20210501%26region=12821&apos;} .. {&apos;ref_name&apos;: &apos;FRM_URL&apos;, &apos;ref_type&apos;: &apos;unknown&apos;, &apos;ref_url&apos;: &apos;N/A&apos;}</td></tr>\n",
       "<tr><td></td><td>0</td><td>POLYGON((807.60762 -330.435972,857.17248 -340.797114,857.42196 -340.158162,807.84282 -329.793552,807.60762 -330.435972))</td><td>None</td><td>true</td><td>POINT(-150.51421 -22)</td><td>None</td><td>UTC-HGS-TOPO</td><td>None</td><td>POINT(835.70448 -335.22015)</td><td>None</td><td></td><td>None</td><td></td><td>N/A</td><td>POINT(0.946002786208359 248.1431519182)</td><td>2021-05-01T00:00:00</td><td>BETA</td><td>AR</td><td>None</td><td>None</td><td>5e-05</td><td>N/A</td><td></td><td>None</td><td>false</td><td>None</td><td>true</td><td>None</td><td>None</td><td>None</td><td>None</td><td></td><td>010300000001000000050000002AE3DF67DC3C89408C9FC6BDF9A674C0B6B9313D61C98A40F1129CFAC04C75C0C381902C60CB8A408597E0D4874275C051836918BE3E8940CEFA9463B29C74C02AE3DF67DC3C89408C9FC6BDF9A674C0</td><td>POLYGON((-155.51421 -22.020626,-145.51421 -22.020626,-145.51421 -21.979374,-155.51421 -21.979374,-155.51421 -22.020626))</td><td>None</td><td></td><td>visible</td><td></td><td></td><td></td><td>SOL2021-05-01T00:00:00L210C112</td><td>None</td><td>1</td><td></td><td></td><td></td><td>http://www.swpc.noaa.gov/</td><td>None</td><td></td><td>None</td><td>None</td><td>NOAA SWPC Observer</td><td>60873508</td><td>NOAA SWPC</td><td>various</td><td>Note: Latitudinal extent not provided by SWPC and is calculated assuming area=lat_ext*long_ext.</td><td>None</td><td>None</td><td>-21.979373931884766</td><td></td><td>None</td><td></td><td></td><td></td><td>-22.020626068115234</td><td>NOAA Space Weather Prediction Center</td><td>POLYGON((0.916756 247.747875,0.969122 248.318078,0.969118 248.360683,0.91673 247.792765,0.916756 247.747875))</td><td></td><td>None</td><td>None</td><td>BXO</td><td></td><td>None</td><td></td><td></td><td>0.00727272723623376919</td><td></td><td></td><td>1</td><td>None</td><td>2021-05-01T15:00:38</td><td></td><td>None</td><td>deg deg</td><td>-335.22015</td><td>835.70448</td><td>nil</td><td>3</td><td>2021-05-01T15:00:40</td><td>swpc_swpc</td><td>None</td><td>0.0625701686362110376</td><td>None</td><td></td><td>None</td><td></td><td></td><td>cm</td><td>ivo://helio-informatics.org/AR_NOAASWPCObserver_20210501_150038_NOAA12820_20210501</td><td>SWPC</td><td>None</td><td></td><td>76.0</td><td>12820</td><td>None</td><td>66.0</td><td>None</td><td>None</td><td></td><td></td><td></td><td></td><td>false</td><td>None</td><td>0.020626500248908997</td><td>0.946002786208359</td><td>-22</td><td></td><td>71</td><td>true</td><td></td><td>None</td><td></td><td></td><td>None</td><td>various</td><td>None</td><td>5.0</td><td>1</td><td>900.430189885974983</td><td>None</td><td>2021-05-01T23:59:59</td><td>None</td><td></td><td>None</td><td>None</td><td>-22</td><td>None</td><td>71</td><td>nil</td><td>None</td><td>None</td><td>None</td><td>Active Region</td><td>None</td><td></td><td></td><td>None</td><td></td><td>-150.51421</td><td>248.1431519182</td><td>-22</td><td></td><td></td><td></td><td>POINT(71 -22)</td><td></td><td>None</td><td>None</td><td></td><td></td><td></td><td>visible</td><td>None</td><td>POLYGON((66 -22.020626,76 -22.020626,76 -21.979374,66 -21.979374,66 -22.020626))</td><td>km2</td><td>None</td><td></td><td>{&apos;ref_name&apos;: &apos;NASA Solar Monitor&apos;, &apos;ref_type&apos;: &apos;html&apos;, &apos;ref_url&apos;: &apos;http://www.solarmonitor.org/region.php?date=20210501%26region=12820&apos;} .. {&apos;ref_name&apos;: &apos;FRM_URL&apos;, &apos;ref_type&apos;: &apos;unknown&apos;, &apos;ref_url&apos;: &apos;N/A&apos;}</td></tr>\n",
       "<tr><td></td><td>0</td><td>POLYGON((839.7561 -238.874148,845.94048 -239.927472,847.68978 -233.293086,841.49274 -232.237104,839.7561 -238.874148))</td><td>None</td><td>true</td><td>POINT(-154.51421 -16)</td><td>None</td><td>UTC-HGS-TOPO</td><td>None</td><td>POINT(843.7575 -236.08353)</td><td>None</td><td></td><td>None</td><td></td><td>N/A</td><td>POINT(0.920507714052124 254.36836873635)</td><td>2021-05-01T00:00:00</td><td>ALPHA</td><td>AR</td><td>None</td><td>None</td><td>5e-05</td><td>N/A</td><td></td><td>None</td><td>false</td><td>None</td><td>true</td><td>None</td><td>None</td><td>None</td><td>None</td><td></td><td>010300000001000000050000000B24287E0C3E8A40A4FB3905F9DB6DC056D4601A866F8A40957EC2D9ADFD6DC07B6B60AB847D8A404B1DE4F560296DC0734BAB21F14B8A4006B8205B96076DC00B24287E0C3E8A40A4FB3905F9DB6DC0</td><td>POLYGON((-155.01421 -16.206264,-154.01421 -16.206264,-154.01421 -15.793736,-155.01421 -15.793736,-155.01421 -16.206264))</td><td>None</td><td></td><td>visible</td><td></td><td></td><td></td><td>SOL2021-05-01T00:00:00L206C106</td><td>None</td><td>1</td><td></td><td></td><td></td><td>http://www.swpc.noaa.gov/</td><td>None</td><td></td><td>None</td><td>None</td><td>NOAA SWPC Observer</td><td>60873508</td><td>NOAA SWPC</td><td>various</td><td>Note: Latitudinal extent not provided by SWPC and is calculated assuming area=lat_ext*long_ext.</td><td>None</td><td>None</td><td>-15.79373550415039</td><td></td><td>None</td><td></td><td></td><td></td><td>-16.20626449584961</td><td>NOAA Space Weather Prediction Center</td><td>POLYGON((0.917258 254.121249,0.92381 254.165488,0.923705 254.612539,0.917133 254.571437,0.917258 254.121249))</td><td></td><td>None</td><td>None</td><td>HSX</td><td></td><td>None</td><td></td><td></td><td>0.00727272723623376919</td><td></td><td></td><td>1</td><td>None</td><td>2021-05-01T15:00:36</td><td></td><td>None</td><td>deg deg</td><td>-236.08353</td><td>843.7575</td><td>nil</td><td>1</td><td>2021-05-01T15:00:38</td><td>swpc_swpc</td><td>None</td><td>0.0625701686362110654</td><td>None</td><td></td><td>None</td><td></td><td></td><td>cm</td><td>ivo://helio-informatics.org/AR_NOAASWPCObserver_20210501_150036_NOAA12818_20210501</td><td>SWPC</td><td>None</td><td></td><td>67.5</td><td>12818</td><td>None</td><td>66.5</td><td>None</td><td>None</td><td></td><td></td><td></td><td></td><td>false</td><td>None</td><td>0.20626500248908997</td><td>0.920507714052124</td><td>-16</td><td></td><td>67</td><td>true</td><td></td><td>None</td><td></td><td></td><td>None</td><td>various</td><td>None</td><td>0.5</td><td>1</td><td>876.163313511534284</td><td>None</td><td>2021-05-01T23:59:59</td><td>None</td><td></td><td>None</td><td>None</td><td>-16</td><td>None</td><td>67</td><td>nil</td><td>None</td><td>None</td><td>None</td><td>Active Region</td><td>None</td><td></td><td></td><td>None</td><td></td><td>-154.51421</td><td>254.36836873635</td><td>-16</td><td></td><td></td><td></td><td>POINT(67 -16)</td><td></td><td>None</td><td>None</td><td></td><td></td><td></td><td>visible</td><td>None</td><td>POLYGON((66.5 -16.206264,67.5 -16.206264,67.5 -15.793736,66.5 -15.793736,66.5 -16.206264))</td><td>km2</td><td>None</td><td></td><td>{&apos;ref_name&apos;: &apos;NASA Solar Monitor&apos;, &apos;ref_type&apos;: &apos;html&apos;, &apos;ref_url&apos;: &apos;http://www.solarmonitor.org/region.php?date=20210501%26region=12818&apos;} .. {&apos;ref_name&apos;: &apos;FRM_URL&apos;, &apos;ref_type&apos;: &apos;unknown&apos;, &apos;ref_url&apos;: &apos;N/A&apos;}</td></tr>\n",
       "<tr><td></td><td>0</td><td>POLYGON((899.74338 -251.66907,902.44794 -252.766584,903.37968 -249.46803,900.67236 -248.36913,899.74338 -251.66907))</td><td>None</td><td>true</td><td>POINT(-154.73076 -16)</td><td>None</td><td>UTC-HGS-TOPO</td><td>None</td><td>POINT(901.59672 -250.568208)</td><td>None</td><td></td><td>None</td><td></td><td>N/A</td><td>POINT(0.98338160861375 254.468533834868)</td><td>2021-05-02T00:00:00</td><td>ALPHA</td><td>AR</td><td>None</td><td>None</td><td>5e-05</td><td>N/A</td><td></td><td>None</td><td>false</td><td>None</td><td>true</td><td>None</td><td>None</td><td>None</td><td>None</td><td></td><td>0103000000010000000500000001A43671F21D8C4083177D0569756FC09014916195338C4061342BDB87986FC090F7AA95093B8C4080F10C1AFA2E6FC01C9947FE60258C401FBFB7E9CF0B6FC001A43671F21D8C4083177D0569756FC0</td><td>POLYGON((-155.23076 -16.103132,-154.23076 -16.103132,-154.23076 -15.896868,-155.23076 -15.896868,-155.23076 -16.103132))</td><td>None</td><td></td><td>visible</td><td></td><td></td><td></td><td>SOL2021-05-02T00:00:00L206C106</td><td>None</td><td>1</td><td></td><td></td><td></td><td>http://www.swpc.noaa.gov/</td><td>None</td><td></td><td>None</td><td>None</td><td>NOAA SWPC Observer</td><td>30436754</td><td>NOAA SWPC</td><td>various</td><td>Note: Latitudinal extent not provided by SWPC and is calculated assuming area=lat_ext*long_ext.</td><td>None</td><td>None</td><td>-15.896867752075195</td><td></td><td>None</td><td></td><td></td><td></td><td>-16.103132247924805</td><td>NOAA Space Weather Prediction Center</td><td>POLYGON((0.981816 254.373053,0.984864 254.352975,0.984879 254.562525,0.981829 254.58329,0.981816 254.373053))</td><td></td><td>None</td><td>None</td><td>AXX</td><td></td><td>None</td><td></td><td></td><td>0.00363636361811688459</td><td></td><td></td><td>1</td><td>None</td><td>2021-05-02T07:00:32</td><td></td><td>None</td><td>deg deg</td><td>-250.568208</td><td>901.59672</td><td>nil</td><td>1</td><td>2021-05-02T07:00:34</td><td>swpc_swpc</td><td>None</td><td>0.0872579543744719244</td><td>None</td><td></td><td>None</td><td></td><td></td><td>cm</td><td>ivo://helio-informatics.org/AR_NOAASWPCObserver_20210502_070032_NOAA12818_20210502</td><td>SWPC</td><td>None</td><td></td><td>80.5</td><td>12818</td><td>None</td><td>79.5</td><td>None</td><td>None</td><td></td><td></td><td></td><td></td><td>false</td><td>None</td><td>0.10313200205564499</td><td>0.98338160861375</td><td>-16</td><td></td><td>80</td><td>true</td><td></td><td>None</td><td></td><td></td><td>None</td><td>various</td><td>None</td><td>0.5</td><td>1</td><td>935.767638025107999</td><td>None</td><td>2021-05-02T23:59:59</td><td>None</td><td></td><td>None</td><td>None</td><td>-16</td><td>None</td><td>80</td><td>nil</td><td>None</td><td>None</td><td>None</td><td>Active Region</td><td>None</td><td></td><td></td><td>None</td><td></td><td>-154.73076</td><td>254.468533834868</td><td>-16</td><td></td><td></td><td></td><td>POINT(80 -16)</td><td></td><td>None</td><td>None</td><td></td><td></td><td></td><td>visible</td><td>None</td><td>POLYGON((79.5 -16.103132,80.5 -16.103132,80.5 -15.896868,79.5 -15.896868,79.5 -16.103132))</td><td>km2</td><td>None</td><td></td><td>{&apos;ref_name&apos;: &apos;NASA Solar Monitor&apos;, &apos;ref_type&apos;: &apos;html&apos;, &apos;ref_url&apos;: &apos;http://www.solarmonitor.org/region.php?date=20210502%26region=12818&apos;} .. {&apos;ref_name&apos;: &apos;FRM_URL&apos;, &apos;ref_type&apos;: &apos;unknown&apos;, &apos;ref_url&apos;: &apos;N/A&apos;}</td></tr>\n",
       "<tr><td></td><td>0</td><td>POLYGON((-862.14312 304.99866,-840.74442 308.659092,-837.54654 319.148832,-858.86478 315.499314,-862.14312 304.99866))</td><td>None</td><td>true</td><td>POINT(-24.045063 18)</td><td>None</td><td>UTC-HGS-TOPO</td><td>None</td><td>POINT(-850.3596 312.093192)</td><td>None</td><td></td><td>None</td><td></td><td>N/A</td><td>POINT(0.953335874931745 69.8461970169935)</td><td>2021-05-08T00:00:00</td><td>BETA</td><td>AR</td><td>None</td><td>None</td><td>5e-05</td><td>N/A</td><td></td><td>None</td><td>false</td><td>None</td><td>true</td><td>None</td><td>None</td><td>None</td><td>None</td><td></td><td>010300000001000000050000003A3B191C25F18AC02C7DE882FA0F7340E8137992F4458AC0E2900DA48B4A7340A60F5D505F2C8AC093C9A99D61F27340E1D1C611EBD68AC0F646AD30FDB773403A3B191C25F18AC02C7DE882FA0F7340</td><td>POLYGON((-26.045063 17.66482,-22.045063 17.66482,-22.045063 18.33518,-26.045063 18.33518,-26.045063 17.66482))</td><td>None</td><td></td><td>visible</td><td></td><td></td><td></td><td>SOL2021-05-08T00:00:00L336C072</td><td>None</td><td>1</td><td></td><td></td><td></td><td>http://www.swpc.noaa.gov/</td><td>None</td><td></td><td>None</td><td>None</td><td>NOAA SWPC Observer</td><td>395677824</td><td>NOAA SWPC</td><td>various</td><td>Note: Latitudinal extent not provided by SWPC and is calculated assuming area=lat_ext*long_ext.</td><td>None</td><td>None</td><td>18.335180282592773</td><td></td><td>None</td><td></td><td></td><td></td><td>17.664819717407227</td><td>NOAA Space Weather Prediction Center</td><td>POLYGON((0.962472 70.517849,0.942591 69.840504,0.943306 69.140555,0.962974 69.829466,0.962472 70.517849))</td><td></td><td>None</td><td>None</td><td>CSO</td><td></td><td>None</td><td></td><td></td><td>0.0472727296639206609</td><td></td><td></td><td>1</td><td>None</td><td>2021-05-08T07:00:32</td><td></td><td>None</td><td>deg deg</td><td>312.093192</td><td>-850.3596</td><td>nil</td><td>5</td><td>2021-05-08T07:00:34</td><td>swpc_swpc</td><td>None</td><td>0.662347067580639659</td><td>None</td><td></td><td>None</td><td></td><td></td><td>cm</td><td>ivo://helio-informatics.org/AR_NOAASWPCObserver_20210508_070032_NOAA12822_20210508</td><td>SWPC</td><td>None</td><td></td><td>-68.0</td><td>12822</td><td>None</td><td>-72.0</td><td>None</td><td>None</td><td></td><td></td><td></td><td></td><td>false</td><td>None</td><td>0.33518001437187195</td><td>0.953335874931745</td><td>18</td><td></td><td>-70</td><td>true</td><td></td><td>None</td><td></td><td></td><td>None</td><td>various</td><td>None</td><td>2.0</td><td>1</td><td>905.822062993007989</td><td>None</td><td>2021-05-08T23:59:59</td><td>None</td><td></td><td>None</td><td>None</td><td>18</td><td>None</td><td>-70</td><td>nil</td><td>None</td><td>None</td><td>None</td><td>Active Region</td><td>None</td><td></td><td></td><td>None</td><td></td><td>-24.045063</td><td>69.8461970169935</td><td>18</td><td></td><td></td><td></td><td>POINT(-70 18)</td><td></td><td>None</td><td>None</td><td></td><td></td><td></td><td>visible</td><td>None</td><td>POLYGON((-72 17.66482,-68 17.66482,-68 18.33518,-72 18.33518,-72 17.66482))</td><td>km2</td><td>None</td><td></td><td>{&apos;ref_name&apos;: &apos;NASA Solar Monitor&apos;, &apos;ref_type&apos;: &apos;html&apos;, &apos;ref_url&apos;: &apos;http://www.solarmonitor.org/region.php?date=20210508%26region=12822&apos;} .. {&apos;ref_name&apos;: &apos;FRM_URL&apos;, &apos;ref_type&apos;: &apos;unknown&apos;, &apos;ref_url&apos;: &apos;N/A&apos;}</td></tr>\n",
       "<tr><td></td><td>0</td><td>POLYGON((-781.73106 314.610294,-738.86106 318.575112,-735.74592 330.159228,-778.43622 326.207412,-781.73106 314.610294))</td><td>None</td><td>true</td><td>POINT(-24.26652 18)</td><td>None</td><td>UTC-HGS-TOPO</td><td>None</td><td>POINT(-759.43746 322.422564)</td><td>None</td><td></td><td>None</td><td></td><td>N/A</td><td>POINT(0.868529679094975 66.9961333245021)</td><td>2021-05-09T00:00:00</td><td>BETA</td><td>AR</td><td>None</td><td>None</td><td>5e-05</td><td>N/A</td><td></td><td>None</td><td>false</td><td>None</td><td>true</td><td>None</td><td>None</td><td>None</td><td>None</td><td></td><td>010300000001000000050000004F3BFC35D96D88C01F2FA4C3C3A9734026DF6C73E31687C098F8A3A833E9734075ABE7A4F7FD86C0B8C9A8328CA27440E44EE9607D5388C0C4CC3E8F516374404F3BFC35D96D88C01F2FA4C3C3A97340</td><td>POLYGON((-26.76652 17.628723,-21.76652 17.628723,-21.76652 18.371277,-26.76652 18.371277,-26.76652 17.628723))</td><td>None</td><td></td><td>visible</td><td></td><td></td><td></td><td>SOL2021-05-09T00:00:00L336C072</td><td>None</td><td>1</td><td></td><td></td><td></td><td>http://www.swpc.noaa.gov/</td><td>None</td><td></td><td>None</td><td>None</td><td>NOAA SWPC Observer</td><td>547861568</td><td>NOAA SWPC</td><td>various</td><td>Note: Latitudinal extent not provided by SWPC and is calculated assuming area=lat_ext*long_ext.</td><td>None</td><td>None</td><td>18.37127685546875</td><td></td><td>None</td><td></td><td></td><td></td><td>17.62872314453125</td><td>NOAA Space Weather Prediction Center</td><td>POLYGON((0.887076 68.077514,0.847022 66.675719,0.848931 65.832279,0.888506 67.263647,0.887076 68.077514))</td><td></td><td>None</td><td>None</td><td>CSI</td><td></td><td>None</td><td></td><td></td><td>0.0654545446482128063</td><td></td><td></td><td>1</td><td>None</td><td>2021-05-09T07:00:14</td><td></td><td>None</td><td>deg deg</td><td>322.422564</td><td>-759.43746</td><td>nil</td><td>7</td><td>2021-05-09T07:00:16</td><td>swpc_swpc</td><td>None</td><td>0.576164029557379997</td><td>None</td><td></td><td>None</td><td></td><td></td><td>cm</td><td>ivo://helio-informatics.org/AR_NOAASWPCObserver_20210509_070014_NOAA12822_20210509</td><td>SWPC</td><td>None</td><td></td><td>-54.5</td><td>12822</td><td>None</td><td>-59.5</td><td>None</td><td>None</td><td></td><td></td><td></td><td></td><td>false</td><td>None</td><td>0.37127700448036194</td><td>0.868529679094975</td><td>18</td><td></td><td>-57</td><td>true</td><td></td><td>None</td><td></td><td></td><td>None</td><td>various</td><td>None</td><td>2.5</td><td>1</td><td>825.046401984510112</td><td>None</td><td>2021-05-09T23:59:59</td><td>None</td><td></td><td>None</td><td>None</td><td>18</td><td>None</td><td>-57</td><td>nil</td><td>None</td><td>None</td><td>None</td><td>Active Region</td><td>None</td><td></td><td></td><td>None</td><td></td><td>-24.26652</td><td>66.9961333245021</td><td>18</td><td></td><td></td><td></td><td>POINT(-57 18)</td><td></td><td>None</td><td>None</td><td></td><td></td><td></td><td>visible</td><td>None</td><td>POLYGON((-59.5 17.628723,-54.5 17.628723,-54.5 18.371277,-59.5 18.371277,-59.5 17.628723))</td><td>km2</td><td>None</td><td></td><td>{&apos;ref_name&apos;: &apos;NASA Solar Monitor&apos;, &apos;ref_type&apos;: &apos;html&apos;, &apos;ref_url&apos;: &apos;http://www.solarmonitor.org/region.php?date=20210509%26region=12822&apos;} .. {&apos;ref_name&apos;: &apos;FRM_URL&apos;, &apos;ref_type&apos;: &apos;unknown&apos;, &apos;ref_url&apos;: &apos;N/A&apos;}</td></tr>\n",
       "<tr><td></td><td>0</td><td>POLYGON((-664.23402 321.399534,-619.54296 323.99301,-616.27752 338.444496,-660.7338 335.861568,-664.23402 321.399534))</td><td>None</td><td>true</td><td>POINT(-25.488636 18)</td><td>None</td><td>UTC-HGS-TOPO</td><td>None</td><td>POINT(-640.61196 329.95803)</td><td>None</td><td></td><td>None</td><td></td><td>N/A</td><td>POINT(0.758749724466544 62.7485021203288)</td><td>2021-05-10T00:00:00</td><td>BETA-GAMMA</td><td>AR</td><td>None</td><td>None</td><td>5e-05</td><td>N/A</td><td></td><td>None</td><td>false</td><td>None</td><td>true</td><td>None</td><td>None</td><td>None</td><td>None</td><td></td><td>01030000000100000005000000E1B4E045DFC184C03E7AC37D641674404A9869FB575C83C09E29745EE33F7440E3DF675C384283C03F73D6A71C27754070CE88D2DEA584C07BF486FBC8FD7440E1B4E045DFC184C03E7AC37D64167440</td><td>POLYGON((-27.488636 17.535904,-23.488636 17.535904,-23.488636 18.464096,-27.488636 18.464096,-27.488636 17.535904))</td><td>None</td><td></td><td>visible</td><td></td><td></td><td></td><td>SOL2021-05-10T00:00:00L335C072</td><td>None</td><td>1</td><td></td><td></td><td></td><td>http://www.swpc.noaa.gov/</td><td>None</td><td></td><td>None</td><td>None</td><td>NOAA SWPC Observer</td><td>547861568</td><td>NOAA SWPC</td><td>various</td><td>Note: Latitudinal extent not provided by SWPC and is calculated assuming area=lat_ext*long_ext.</td><td>None</td><td>None</td><td>18.464096069335938</td><td></td><td>None</td><td></td><td></td><td></td><td>17.535903930664062</td><td>NOAA Space Weather Prediction Center</td><td>POLYGON((0.776978 64.179289,0.736166 62.392463,0.740324 61.225489,0.780443 63.05504,0.776978 64.179289))</td><td></td><td>None</td><td>None</td><td>DSI</td><td></td><td>None</td><td></td><td></td><td>0.0654545446482128063</td><td></td><td></td><td>1</td><td>None</td><td>2021-05-10T07:00:19</td><td></td><td>None</td><td>deg deg</td><td>329.95803</td><td>-640.61196</td><td>nil</td><td>8</td><td>2021-05-10T07:00:21</td><td>swpc_swpc</td><td>None</td><td>0.409565616841224833</td><td>None</td><td></td><td>None</td><td></td><td></td><td>cm</td><td>ivo://helio-informatics.org/AR_NOAASWPCObserver_20210510_070019_NOAA12822_20210510</td><td>SWPC</td><td>None</td><td></td><td>-43.0</td><td>12822</td><td>None</td><td>-47.0</td><td>None</td><td>None</td><td></td><td></td><td></td><td></td><td>false</td><td>None</td><td>0.4640960097312927</td><td>0.758749724466544</td><td>18</td><td></td><td>-45</td><td>true</td><td></td><td>None</td><td></td><td></td><td>None</td><td>various</td><td>None</td><td>2.0</td><td>1</td><td>720.594188747399357</td><td>None</td><td>2021-05-10T23:59:59</td><td>None</td><td></td><td>None</td><td>None</td><td>18</td><td>None</td><td>-45</td><td>nil</td><td>None</td><td>None</td><td>None</td><td>Active Region</td><td>None</td><td></td><td></td><td>None</td><td></td><td>-25.488636</td><td>62.7485021203288</td><td>18</td><td></td><td></td><td></td><td>POINT(-45 18)</td><td></td><td>None</td><td>None</td><td></td><td></td><td></td><td>visible</td><td>None</td><td>POLYGON((-47 17.535904,-43 17.535904,-43 18.464096,-47 18.464096,-47 17.535904))</td><td>km2</td><td>None</td><td></td><td>{&apos;ref_name&apos;: &apos;NASA Solar Monitor&apos;, &apos;ref_type&apos;: &apos;html&apos;, &apos;ref_url&apos;: &apos;http://www.solarmonitor.org/region.php?date=20210510%26region=12822&apos;} .. {&apos;ref_name&apos;: &apos;FRM_URL&apos;, &apos;ref_type&apos;: &apos;unknown&apos;, &apos;ref_url&apos;: &apos;N/A&apos;}</td></tr>\n",
       "<tr><td></td><td>0</td><td>POLYGON((-527.020722 329.940462,-460.716138 332.354556,-459.310794 340.69185,-525.413466 338.28339,-527.020722 329.940462))</td><td>None</td><td>true</td><td>POINT(-26.7114009 18)</td><td>None</td><td>UTC-HGS-TOPO</td><td>None</td><td>POINT(-493.595676 335.36166)</td><td>None</td><td></td><td>None</td><td></td><td>N/A</td><td>POINT(0.628486533812405 55.806798794112)</td><td>2021-05-11T00:00:00</td><td>BETA-GAMMA</td><td>AR</td><td>None</td><td>None</td><td>5e-05</td><td>N/A</td><td></td><td>None</td><td>false</td><td>None</td><td>true</td><td>None</td><td>None</td><td>None</td><td>None</td><td></td><td>0103000000010000000500000076C24B702A7880C018D2E1210C9F7440C4961E4D75CB7CC09C89E942ACC57440B01C2103F9B47CC0CD3B4ED1114B7540102043C74E6B80C037E0F3C38824754076C24B702A7880C018D2E1210C9F7440</td><td>POLYGON((-29.211401 17.731856,-24.211401 17.731856,-24.211401 18.268144,-29.211401 18.268144,-29.211401 17.731856))</td><td>None</td><td></td><td>visible</td><td></td><td></td><td></td><td>SOL2021-05-11T00:00:00L334C072</td><td>None</td><td>1</td><td></td><td></td><td></td><td>http://www.swpc.noaa.gov/</td><td>None</td><td></td><td>None</td><td>None</td><td>NOAA SWPC Observer</td><td>395677824</td><td>NOAA SWPC</td><td>various</td><td>Note: Latitudinal extent not provided by SWPC and is calculated assuming area=lat_ext*long_ext.</td><td>None</td><td>None</td><td>18.268144607543945</td><td></td><td>None</td><td></td><td></td><td></td><td>17.731855392456055</td><td>NOAA Space Weather Prediction Center</td><td>POLYGON((0.654855 57.951443,0.598301 54.193816,0.602291 53.433979,0.658135 57.224854,0.654855 57.951443))</td><td></td><td>None</td><td>None</td><td>DAO</td><td></td><td>None</td><td></td><td></td><td>0.0472727296639206609</td><td></td><td></td><td>1</td><td>None</td><td>2021-05-11T07:00:20</td><td></td><td>None</td><td>deg deg</td><td>335.36166</td><td>-493.595676</td><td>nil</td><td>10</td><td>2021-05-11T07:00:22</td><td>swpc_swpc</td><td>None</td><td>0.228482302360258099</td><td>None</td><td></td><td>None</td><td></td><td></td><td>cm</td><td>ivo://helio-informatics.org/AR_NOAASWPCObserver_20210511_070020_NOAA12822_20210511</td><td>SWPC</td><td>None</td><td></td><td>-30.5</td><td>12822</td><td>None</td><td>-35.5</td><td>None</td><td>None</td><td></td><td></td><td></td><td></td><td>false</td><td>None</td><td>0.26814401149749756</td><td>0.628486533812405</td><td>18</td><td></td><td>-33</td><td>true</td><td></td><td>None</td><td></td><td></td><td>None</td><td>various</td><td>None</td><td>2.5</td><td>1</td><td>596.744614021653888</td><td>None</td><td>2021-05-11T23:59:59</td><td>None</td><td></td><td>None</td><td>None</td><td>18</td><td>None</td><td>-33</td><td>nil</td><td>None</td><td>None</td><td>None</td><td>Active Region</td><td>None</td><td></td><td></td><td>None</td><td></td><td>-26.7114009</td><td>55.806798794112</td><td>18</td><td></td><td></td><td></td><td>POINT(-33 18)</td><td></td><td>None</td><td>None</td><td></td><td></td><td></td><td>visible</td><td>None</td><td>POLYGON((-35.5 17.731856,-30.5 17.731856,-30.5 18.268144,-35.5 18.268144,-35.5 17.731856))</td><td>km2</td><td>None</td><td></td><td>{&apos;ref_name&apos;: &apos;NASA Solar Monitor&apos;, &apos;ref_type&apos;: &apos;html&apos;, &apos;ref_url&apos;: &apos;http://www.solarmonitor.org/region.php?date=20210511%26region=12822&apos;} .. {&apos;ref_name&apos;: &apos;FRM_URL&apos;, &apos;ref_type&apos;: &apos;unknown&apos;, &apos;ref_url&apos;: &apos;N/A&apos;}</td></tr>\n",
       "<tr><td></td><td>0</td><td>POLYGON((-577.09398 -306.299334,-541.017042 -304.750602,-542.017614 -300.417966,-578.161116 -301.970172,-577.09398 -306.299334))</td><td>None</td><td>true</td><td>POINT(-32.7114009 -21)</td><td>None</td><td>UTC-HGS-TOPO</td><td>None</td><td>POINT(-559.767798 -303.347922)</td><td>None</td><td></td><td>None</td><td></td><td>N/A</td><td>POINT(0.670544936564635 118.454035537576)</td><td>2021-05-11T00:00:00</td><td>BETA</td><td>AR</td><td>None</td><td>None</td><td>5e-05</td><td>N/A</td><td></td><td>None</td><td>false</td><td>None</td><td>true</td><td>None</td><td>None</td><td>None</td><td>None</td><td></td><td>01030000000100000005000000D3139678C00882C04BC97212CA2473C04485EAE622E880C0FF243E77020C73C09D0FCF1224F080C070CD1DFDAFC672C0E6762FF7491182C0EB3713D385DF72C0D3139678C00882C04BC97212CA2473C0</td><td>POLYGON((-34.211401 -21.137511,-31.211401 -21.137511,-31.211401 -20.862489,-34.211401 -20.862489,-34.211401 -21.137511))</td><td>None</td><td></td><td>visible</td><td></td><td></td><td></td><td>SOL2021-05-11T00:00:00L328C111</td><td>None</td><td>1</td><td></td><td></td><td></td><td>http://www.swpc.noaa.gov/</td><td>None</td><td></td><td>None</td><td>None</td><td>NOAA SWPC Observer</td><td>121747016</td><td>NOAA SWPC</td><td>various</td><td>Note: Latitudinal extent not provided by SWPC and is calculated assuming area=lat_ext*long_ext.</td><td>None</td><td>None</td><td>-20.862489700317383</td><td></td><td>None</td><td></td><td></td><td></td><td>-21.137510299682617</td><td>NOAA Space Weather Prediction Center</td><td>POLYGON((0.688095 117.957647,0.653974 119.392216,0.652668 118.997792,0.686966 117.577802,0.688095 117.957647))</td><td></td><td>None</td><td>None</td><td>CAO</td><td></td><td>None</td><td></td><td></td><td>0.0145454544724675384</td><td></td><td></td><td>1</td><td>None</td><td>2021-05-11T07:00:22</td><td></td><td>None</td><td>deg deg</td><td>-303.347922</td><td>-559.767798</td><td>nil</td><td>6</td><td>2021-05-11T07:00:24</td><td>swpc_swpc</td><td>None</td><td>0</td><td>None</td><td></td><td>None</td><td></td><td></td><td>cm</td><td>ivo://helio-informatics.org/AR_NOAASWPCObserver_20210511_070022_NOAA12823_20210511</td><td>SWPC</td><td>None</td><td></td><td>-37.5</td><td>12823</td><td>None</td><td>-40.5</td><td>None</td><td>None</td><td></td><td></td><td></td><td></td><td>false</td><td>None</td><td>0.1375100016593933</td><td>0.670544936564635</td><td>-21</td><td></td><td>-39</td><td>true</td><td></td><td>None</td><td></td><td></td><td>None</td><td>various</td><td>None</td><td>1.5</td><td>1</td><td>636.678843263608883</td><td>None</td><td>2021-05-11T23:59:59</td><td>None</td><td></td><td>None</td><td>None</td><td>-21</td><td>None</td><td>-39</td><td>nil</td><td>None</td><td>None</td><td>None</td><td>Active Region</td><td>None</td><td></td><td></td><td>None</td><td></td><td>-32.7114009</td><td>118.454035537576</td><td>-21</td><td></td><td></td><td></td><td>POINT(-39 -21)</td><td></td><td>None</td><td>None</td><td></td><td></td><td></td><td>visible</td><td>None</td><td>POLYGON((-40.5 -21.137511,-37.5 -21.137511,-37.5 -20.862489,-40.5 -20.862489,-40.5 -21.137511))</td><td>km2</td><td>None</td><td></td><td>{&apos;ref_name&apos;: &apos;NASA Solar Monitor&apos;, &apos;ref_type&apos;: &apos;html&apos;, &apos;ref_url&apos;: &apos;http://www.solarmonitor.org/region.php?date=20210511%26region=12823&apos;} .. {&apos;ref_name&apos;: &apos;FRM_URL&apos;, &apos;ref_type&apos;: &apos;unknown&apos;, &apos;ref_url&apos;: &apos;N/A&apos;}</td></tr>\n",
       "<tr><td></td><td>0</td><td>POLYGON((-310.888914 331.179204,-250.572246 332.238996,-249.177036 347.456514,-309.158016 346.401186,-310.888914 331.179204))</td><td>None</td><td>true</td><td>POINT(-24.9348 18)</td><td>None</td><td>UTC-HGS-TOPO</td><td>None</td><td>POINT(-280.13211 339.359916)</td><td>None</td><td></td><td>None</td><td></td><td>N/A</td><td>POINT(0.463555616558932 39.5387190850828)</td><td>2021-05-12T00:00:00</td><td>BETA-DELTA</td><td>AR</td><td>None</td><td>None</td><td>5e-05</td><td>N/A</td><td></td><td>None</td><td>false</td><td>None</td><td>true</td><td>None</td><td>None</td><td>None</td><td>None</td><td></td><td>010300000001000000050000004EEFE2FD386E73C000750305DEB274408AE8D7D64F526FC0FF3D78EDD2C37440DEC66647AA256FC0A9C29FE14DB77540EA03C93B875273C0CFD902426BA675404EEFE2FD386E73C000750305DEB27440</td><td>POLYGON((-26.9348 17.51012,-22.9348 17.51012,-22.9348 18.48988,-26.9348 18.48988,-26.9348 17.51012))</td><td>None</td><td></td><td>visible</td><td></td><td></td><td></td><td>SOL2021-05-12T00:00:00L336C072</td><td>None</td><td>1</td><td></td><td></td><td></td><td>http://www.swpc.noaa.gov/</td><td>None</td><td></td><td>None</td><td>None</td><td>NOAA SWPC Observer</td><td>578298368</td><td>NOAA SWPC</td><td>various</td><td>Note: Latitudinal extent not provided by SWPC and is calculated assuming area=lat_ext*long_ext.</td><td>None</td><td>None</td><td>18.489879608154297</td><td></td><td>None</td><td></td><td></td><td></td><td>17.510120391845703</td><td>NOAA Space Weather Prediction Center</td><td>POLYGON((0.478507 43.189972,0.43837 37.023334,0.450414 35.646046,0.489105 41.748447,0.478507 43.189972))</td><td></td><td>None</td><td>None</td><td>DAO</td><td></td><td>None</td><td></td><td></td><td>0.0690909137620775715</td><td></td><td></td><td>1</td><td>None</td><td>2021-05-12T07:00:16</td><td></td><td>None</td><td>deg deg</td><td>339.359916</td><td>-280.13211</td><td>nil</td><td>9</td><td>2021-05-12T07:00:18</td><td>swpc_swpc</td><td>None</td><td>1.16237751697448122</td><td>None</td><td></td><td>None</td><td></td><td></td><td>cm</td><td>ivo://helio-informatics.org/AR_NOAASWPCObserver_20210512_070016_NOAA12822_20210512</td><td>SWPC</td><td>None</td><td></td><td>-16.0</td><td>12822</td><td>None</td><td>-20.0</td><td>None</td><td>None</td><td></td><td></td><td></td><td></td><td>false</td><td>None</td><td>0.4898790121078491</td><td>0.463555616558932</td><td>18</td><td></td><td>-18</td><td>true</td><td></td><td>None</td><td></td><td></td><td>None</td><td>various</td><td>None</td><td>2.0</td><td>1</td><td>440.044488251562086</td><td>None</td><td>2021-05-12T23:59:59</td><td>None</td><td></td><td>None</td><td>None</td><td>18</td><td>None</td><td>-18</td><td>nil</td><td>None</td><td>None</td><td>None</td><td>Active Region</td><td>None</td><td></td><td></td><td>None</td><td></td><td>-24.9348</td><td>39.5387190850828</td><td>18</td><td></td><td></td><td></td><td>POINT(-18 18)</td><td></td><td>None</td><td>None</td><td></td><td></td><td></td><td>visible</td><td>None</td><td>POLYGON((-20 17.51012,-16 17.51012,-16 18.48988,-20 18.48988,-20 17.51012))</td><td>km2</td><td>None</td><td></td><td>{&apos;ref_name&apos;: &apos;NASA Solar Monitor&apos;, &apos;ref_type&apos;: &apos;html&apos;, &apos;ref_url&apos;: &apos;http://www.solarmonitor.org/region.php?date=20210512%26region=12822&apos;} .. {&apos;ref_name&apos;: &apos;FRM_URL&apos;, &apos;ref_type&apos;: &apos;unknown&apos;, &apos;ref_url&apos;: &apos;N/A&apos;}</td></tr>\n",
       "<tr><td>...</td><td>...</td><td>...</td><td>...</td><td>...</td><td>...</td><td>...</td><td>...</td><td>...</td><td>...</td><td>...</td><td>...</td><td>...</td><td>...</td><td>...</td><td>...</td><td>...</td><td>...</td><td>...</td><td>...</td><td>...</td><td>...</td><td>...</td><td>...</td><td>...</td><td>...</td><td>...</td><td>...</td><td>...</td><td>...</td><td>...</td><td>...</td><td>...</td><td>...</td><td>...</td><td>...</td><td>...</td><td>...</td><td>...</td><td>...</td><td>...</td><td>...</td><td>...</td><td>...</td><td>...</td><td>...</td><td>...</td><td>...</td><td>...</td><td>...</td><td>...</td><td>...</td><td>...</td><td>...</td><td>...</td><td>...</td><td>...</td><td>...</td><td>...</td><td>...</td><td>...</td><td>...</td><td>...</td><td>...</td><td>...</td><td>...</td><td>...</td><td>...</td><td>...</td><td>...</td><td>...</td><td>...</td><td>...</td><td>...</td><td>...</td><td>...</td><td>...</td><td>...</td><td>...</td><td>...</td><td>...</td><td>...</td><td>...</td><td>...</td><td>...</td><td>...</td><td>...</td><td>...</td><td>...</td><td>...</td><td>...</td><td>...</td><td>...</td><td>...</td><td>...</td><td>...</td><td>...</td><td>...</td><td>...</td><td>...</td><td>...</td><td>...</td><td>...</td><td>...</td><td>...</td><td>...</td><td>...</td><td>...</td><td>...</td><td>...</td><td>...</td><td>...</td><td>...</td><td>...</td><td>...</td><td>...</td><td>...</td><td>...</td><td>...</td><td>...</td><td>...</td><td>...</td><td>...</td><td>...</td><td>...</td><td>...</td><td>...</td><td>...</td><td>...</td><td>...</td><td>...</td><td>...</td><td>...</td><td>...</td><td>...</td><td>...</td><td>...</td><td>...</td><td>...</td><td>...</td><td>...</td><td>...</td><td>...</td><td>...</td><td>...</td><td>...</td><td>...</td><td>...</td><td>...</td><td>...</td><td>...</td><td>...</td><td>...</td><td>...</td><td>...</td><td>...</td><td>...</td><td>...</td><td>...</td><td>...</td><td>...</td><td>...</td><td>...</td><td>...</td><td>...</td><td>...</td><td>...</td><td>...</td><td>...</td><td>...</td></tr>\n",
       "<tr><td></td><td>0</td><td>POLYGON((557.346624 332.225742,616.14072 331.007724,612.10362 346.961478,553.693812 348.175446,557.346624 332.225742))</td><td>None</td><td>true</td><td>POINT(-164.3535 20)</td><td>None</td><td>UTC-HGS-TOPO</td><td>None</td><td>POINT(585.407562 339.621672)</td><td>None</td><td></td><td>None</td><td></td><td>N/A</td><td>POINT(0.715033695874524 300.11997881081)</td><td>2021-05-27T00:00:00</td><td>BETA</td><td>AR</td><td>None</td><td>None</td><td>5e-05</td><td>N/A</td><td></td><td>None</td><td>false</td><td>None</td><td>true</td><td>None</td><td>None</td><td>None</td><td>None</td><td></td><td>0103000000010000000500000012C0CDE2C56A814057B5A4A39CC3744025AFCE31204183404F7633A31FB07440B1F9B836D42083402D5DC13662AF7540944C4EED8C4D81406D0377A0CEC2754012C0CDE2C56A814057B5A4A39CC37440</td><td>POLYGON((-166.8535 19.48434,-161.8535 19.48434,-161.8535 20.51566,-166.8535 20.51566,-166.8535 19.48434))</td><td>None</td><td></td><td>visible</td><td></td><td></td><td></td><td>SOL2021-05-27T00:00:00L196C070</td><td>None</td><td>1</td><td></td><td></td><td></td><td>http://www.swpc.noaa.gov/</td><td>None</td><td></td><td>None</td><td>None</td><td>NOAA SWPC Observer</td><td>760918848</td><td>NOAA SWPC</td><td>various</td><td>Note: Latitudinal extent not provided by SWPC and is calculated assuming area=lat_ext*long_ext.</td><td>None</td><td>None</td><td>20.51565933227539</td><td></td><td>None</td><td></td><td></td><td></td><td>19.48434066772461</td><td>NOAA Space Weather Prediction Center</td><td>POLYGON((0.685517 300.798519,0.738948 298.245914,0.743359 299.546063,0.691026 302.162629,0.685517 300.798519))</td><td></td><td>None</td><td>None</td><td>CSO</td><td></td><td>None</td><td></td><td></td><td>0.0909090902139765566</td><td></td><td></td><td>1</td><td>None</td><td>2021-05-27T07:00:13</td><td></td><td>None</td><td>deg deg</td><td>339.621672</td><td>585.407562</td><td>nil</td><td>5</td><td>2021-05-27T07:00:15</td><td>swpc_swpc</td><td>None</td><td>0.167722625013639659</td><td>None</td><td></td><td>None</td><td></td><td></td><td>cm</td><td>ivo://helio-informatics.org/AR_NOAASWPCObserver_20210527_070013_NOAA12824_20210527</td><td>SWPC</td><td>None</td><td></td><td>43.5</td><td>12824</td><td>None</td><td>38.5</td><td>None</td><td>None</td><td></td><td></td><td></td><td></td><td>false</td><td>None</td><td>0.5156620144844055</td><td>0.715033695874524</td><td>20</td><td></td><td>41</td><td>true</td><td></td><td>None</td><td></td><td></td><td>None</td><td>various</td><td>None</td><td>2.5</td><td>1</td><td>676.790140101685779</td><td>None</td><td>2021-05-27T23:59:59</td><td>None</td><td></td><td>None</td><td>None</td><td>20</td><td>None</td><td>41</td><td>nil</td><td>None</td><td>None</td><td>None</td><td>Active Region</td><td>None</td><td></td><td></td><td>None</td><td></td><td>-164.3535</td><td>300.11997881081</td><td>20</td><td></td><td></td><td></td><td>POINT(41 20)</td><td></td><td>None</td><td>None</td><td></td><td></td><td></td><td>visible</td><td>None</td><td>POLYGON((38.5 19.48434,43.5 19.48434,43.5 20.51566,38.5 20.51566,38.5 19.48434))</td><td>km2</td><td>None</td><td></td><td>{&apos;ref_name&apos;: &apos;NASA Solar Monitor&apos;, &apos;ref_type&apos;: &apos;html&apos;, &apos;ref_url&apos;: &apos;http://www.solarmonitor.org/region.php?date=20210527%26region=12824&apos;} .. {&apos;ref_name&apos;: &apos;FRM_URL&apos;, &apos;ref_type&apos;: &apos;unknown&apos;, &apos;ref_url&apos;: &apos;N/A&apos;}</td></tr>\n",
       "<tr><td></td><td>0</td><td>POLYGON((733.67634 388.60647,771.3753 387.026412,765.45072 401.91795,728.03952 403.49058,733.67634 388.60647))</td><td>None</td><td>true</td><td>POINT(-145.3535 24)</td><td>None</td><td>UTC-HGS-TOPO</td><td>None</td><td>POINT(750.38214 395.28501)</td><td>None</td><td></td><td>None</td><td></td><td>N/A</td><td>POINT(0.896054939979135 297.779287115261)</td><td>2021-05-27T00:00:00</td><td>BETA</td><td>AR</td><td>None</td><td>None</td><td>5e-05</td><td>N/A</td><td></td><td>None</td><td>false</td><td>None</td><td>true</td><td>None</td><td>None</td><td>None</td><td>None</td><td></td><td>01030000000100000005000000D027F22469ED86401500E319B44978408351499D001B88408D43FD2E6C3078403A5D16139BEB8740D0D556ECAF1E79404E9CDCEF50C0864026016A6AD9377940D027F22469ED86401500E319B4497840</td><td>POLYGON((-147.8535 23.504965,-142.8535 23.504965,-142.8535 24.495035,-147.8535 24.495035,-147.8535 23.504965))</td><td>None</td><td></td><td>visible</td><td></td><td></td><td></td><td>SOL2021-05-27T00:00:00L215C066</td><td>None</td><td>1</td><td></td><td></td><td></td><td>http://www.swpc.noaa.gov/</td><td>None</td><td></td><td>None</td><td>None</td><td>NOAA SWPC Observer</td><td>730482112</td><td>NOAA SWPC</td><td>various</td><td>Note: Latitudinal extent not provided by SWPC and is calculated assuming area=lat_ext*long_ext.</td><td>None</td><td>None</td><td>24.49503517150879</td><td></td><td>None</td><td></td><td></td><td></td><td>23.50496482849121</td><td>NOAA Space Weather Prediction Center</td><td>POLYGON((0.877153 297.908834,0.91179 296.644548,0.913407 297.702778,0.879409 298.995887,0.877153 297.908834))</td><td></td><td>None</td><td>None</td><td>DAI</td><td></td><td>None</td><td></td><td></td><td>0.0872727287463697099</td><td></td><td></td><td>1</td><td>None</td><td>2021-05-27T07:00:15</td><td></td><td>None</td><td>deg deg</td><td>395.28501</td><td>750.38214</td><td>nil</td><td>9</td><td>2021-05-27T07:00:16</td><td>swpc_swpc</td><td>None</td><td>0.114694659433067267</td><td>None</td><td></td><td>None</td><td></td><td></td><td>cm</td><td>ivo://helio-informatics.org/AR_NOAASWPCObserver_20210527_070015_NOAA12826_20210527</td><td>SWPC</td><td>None</td><td></td><td>62.5</td><td>12826</td><td>None</td><td>57.5</td><td>None</td><td>None</td><td></td><td></td><td></td><td></td><td>false</td><td>None</td><td>0.49503499269485474</td><td>0.896054939979135</td><td>24</td><td></td><td>60</td><td>true</td><td></td><td>None</td><td></td><td></td><td>None</td><td>various</td><td>None</td><td>2.5</td><td>1</td><td>848.129468395998856</td><td>None</td><td>2021-05-27T23:59:59</td><td>None</td><td></td><td>None</td><td>None</td><td>24</td><td>None</td><td>60</td><td>nil</td><td>None</td><td>None</td><td>None</td><td>Active Region</td><td>None</td><td></td><td></td><td>None</td><td></td><td>-145.3535</td><td>297.779287115261</td><td>24</td><td></td><td></td><td></td><td>POINT(60 24)</td><td></td><td>None</td><td>None</td><td></td><td></td><td></td><td>visible</td><td>None</td><td>POLYGON((57.5 23.504965,62.5 23.504965,62.5 24.495035,57.5 24.495035,57.5 23.504965))</td><td>km2</td><td>None</td><td></td><td>{&apos;ref_name&apos;: &apos;NASA Solar Monitor&apos;, &apos;ref_type&apos;: &apos;html&apos;, &apos;ref_url&apos;: &apos;http://www.solarmonitor.org/region.php?date=20210527%26region=12826&apos;} .. {&apos;ref_name&apos;: &apos;FRM_URL&apos;, &apos;ref_type&apos;: &apos;unknown&apos;, &apos;ref_url&apos;: &apos;N/A&apos;}</td></tr>\n",
       "<tr><td></td><td>0</td><td>POLYGON((824.57052 382.138554,845.17992 380.539758,837.61872 397.940916,817.19112 399.531498,824.57052 382.138554))</td><td>None</td><td>true</td><td>POINT(-144.58529 24)</td><td>None</td><td>UTC-HGS-TOPO</td><td>None</td><td>POINT(831.97686 390.062424)</td><td>None</td><td></td><td>None</td><td></td><td>N/A</td><td>POINT(0.970966127754916 295.118971696214)</td><td>2021-05-28T00:00:00</td><td>BETA</td><td>AR</td><td>None</td><td>None</td><td>5e-05</td><td>N/A</td><td></td><td>None</td><td>false</td><td>None</td><td>true</td><td>None</td><td>None</td><td>None</td><td>None</td><td></td><td>01030000000100000005000000B62DCA6C90C48940AE2B668437E277402C9FE57970698A4012DC48D9A2C877400DAB7823F32C8A408884EFFD0DDF7840E42CEC69878989403BFE0B0481F87840B62DCA6C90C48940AE2B668437E27740</td><td>POLYGON((-147.08529 23.42246,-142.08529 23.42246,-142.08529 24.57754,-147.08529 24.57754,-147.08529 23.42246))</td><td>None</td><td></td><td>visible</td><td></td><td></td><td></td><td>SOL2021-05-28T00:00:00L216C066</td><td>None</td><td>1</td><td></td><td></td><td></td><td>http://www.swpc.noaa.gov/</td><td>None</td><td></td><td>None</td><td>None</td><td>NOAA SWPC Observer</td><td>852229120</td><td>NOAA SWPC</td><td>various</td><td>Note: Latitudinal extent not provided by SWPC and is calculated assuming area=lat_ext*long_ext.</td><td>None</td><td>None</td><td>24.577539443969727</td><td></td><td>None</td><td></td><td></td><td></td><td>23.422460556030273</td><td>NOAA Space Weather Prediction Center</td><td>POLYGON((0.960335 294.86487,0.979442 294.239515,0.979911 295.411738,0.961195 296.054392,0.960335 294.86487))</td><td></td><td>None</td><td>None</td><td>DKO</td><td></td><td>None</td><td></td><td></td><td>0.101818182263055002</td><td></td><td></td><td>1</td><td>None</td><td>2021-05-28T07:00:19</td><td></td><td>None</td><td>deg deg</td><td>390.062424</td><td>831.97686</td><td>nil</td><td>9</td><td>2021-05-28T07:00:21</td><td>swpc_swpc</td><td>None</td><td>0.541314349546950124</td><td>None</td><td></td><td>None</td><td></td><td></td><td>cm</td><td>ivo://helio-informatics.org/AR_NOAASWPCObserver_20210528_070019_NOAA12826_20210528</td><td>SWPC</td><td>None</td><td></td><td>76.5</td><td>12826</td><td>None</td><td>71.5</td><td>None</td><td>None</td><td></td><td></td><td></td><td></td><td>false</td><td>None</td><td>0.5775409936904907</td><td>0.970966127754916</td><td>24</td><td></td><td>74</td><td>true</td><td></td><td>None</td><td></td><td></td><td>None</td><td>various</td><td>None</td><td>2.5</td><td>1</td><td>918.876591383312643</td><td>None</td><td>2021-05-28T23:59:59</td><td>None</td><td></td><td>None</td><td>None</td><td>24</td><td>None</td><td>74</td><td>nil</td><td>None</td><td>None</td><td>None</td><td>Active Region</td><td>None</td><td></td><td></td><td>None</td><td></td><td>-144.58529</td><td>295.118971696214</td><td>24</td><td></td><td></td><td></td><td>POINT(74 24)</td><td></td><td>None</td><td>None</td><td></td><td></td><td></td><td>visible</td><td>None</td><td>POLYGON((71.5 23.42246,76.5 23.42246,76.5 24.57754,71.5 24.57754,71.5 23.42246))</td><td>km2</td><td>None</td><td></td><td>{&apos;ref_name&apos;: &apos;NASA Solar Monitor&apos;, &apos;ref_type&apos;: &apos;html&apos;, &apos;ref_url&apos;: &apos;http://www.solarmonitor.org/region.php?date=20210528%26region=12826&apos;} .. {&apos;ref_name&apos;: &apos;FRM_URL&apos;, &apos;ref_type&apos;: &apos;unknown&apos;, &apos;ref_url&apos;: &apos;N/A&apos;}</td></tr>\n",
       "<tr><td></td><td>0</td><td>POLYGON((709.64496 327.35202,754.1694 325.967346,749.232 341.93898,704.9976 343.319502,709.64496 327.35202))</td><td>None</td><td>true</td><td>POINT(-163.58529 20)</td><td>None</td><td>UTC-HGS-TOPO</td><td>None</td><td>POINT(730.24074 334.668576)</td><td>None</td><td></td><td>None</td><td></td><td>N/A</td><td>POINT(0.848813825078367 294.621937495657)</td><td>2021-05-28T00:00:00</td><td>BETA</td><td>AR</td><td>None</td><td>None</td><td>5e-05</td><td>N/A</td><td></td><td>None</td><td>false</td><td>None</td><td>true</td><td>None</td><td>None</td><td>None</td><td>None</td><td></td><td>01030000000100000005000000D3D9C9E0282D86409B38B9DFA17574408A1F63EE5A918740AA9ECC3F7A5F744060E5D022DB6987409279E40F065F7540EB73B515FB0786401B1021AE1C757540D3D9C9E0282D86409B38B9DFA1757440</td><td>POLYGON((-166.08529 19.48434,-161.08529 19.48434,-161.08529 20.51566,-166.08529 20.51566,-166.08529 19.48434))</td><td>None</td><td></td><td>visible</td><td></td><td></td><td></td><td>SOL2021-05-28T00:00:00L197C070</td><td>None</td><td>1</td><td></td><td></td><td></td><td>http://www.swpc.noaa.gov/</td><td>None</td><td></td><td>None</td><td>None</td><td>NOAA SWPC Observer</td><td>760918848</td><td>NOAA SWPC</td><td>various</td><td>Note: Latitudinal extent not provided by SWPC and is calculated assuming area=lat_ext*long_ext.</td><td>None</td><td>None</td><td>20.51565933227539</td><td></td><td>None</td><td></td><td></td><td></td><td>19.48434066772461</td><td>NOAA Space Weather Prediction Center</td><td>POLYGON((0.825811 294.763397,0.868175 293.374982,0.870259 294.531291,0.828601 295.965141,0.825811 294.763397))</td><td></td><td>None</td><td>None</td><td>DHO</td><td></td><td>None</td><td></td><td></td><td>0.0909090902139765566</td><td></td><td></td><td>1</td><td>None</td><td>2021-05-28T07:00:16</td><td></td><td>None</td><td>deg deg</td><td>334.668576</td><td>730.24074</td><td>nil</td><td>5</td><td>2021-05-28T07:00:18</td><td>swpc_swpc</td><td>None</td><td>0.246809056635500679</td><td>None</td><td></td><td>None</td><td></td><td></td><td>cm</td><td>ivo://helio-informatics.org/AR_NOAASWPCObserver_20210528_070017_NOAA12824_20210528</td><td>SWPC</td><td>None</td><td></td><td>57.5</td><td>12824</td><td>None</td><td>52.5</td><td>None</td><td>None</td><td></td><td></td><td></td><td></td><td>false</td><td>None</td><td>0.5156620144844055</td><td>0.848813825078367</td><td>20</td><td></td><td>55</td><td>true</td><td></td><td>None</td><td></td><td></td><td>None</td><td>various</td><td>None</td><td>2.5</td><td>1</td><td>803.277407946728772</td><td>None</td><td>2021-05-28T23:59:59</td><td>None</td><td></td><td>None</td><td>None</td><td>20</td><td>None</td><td>55</td><td>nil</td><td>None</td><td>None</td><td>None</td><td>Active Region</td><td>None</td><td></td><td></td><td>None</td><td></td><td>-163.58529</td><td>294.621937495657</td><td>20</td><td></td><td></td><td></td><td>POINT(55 20)</td><td></td><td>None</td><td>None</td><td></td><td></td><td></td><td>visible</td><td>None</td><td>POLYGON((52.5 19.48434,57.5 19.48434,57.5 20.51566,52.5 20.51566,52.5 19.48434))</td><td>km2</td><td>None</td><td></td><td>{&apos;ref_name&apos;: &apos;NASA Solar Monitor&apos;, &apos;ref_type&apos;: &apos;html&apos;, &apos;ref_url&apos;: &apos;http://www.solarmonitor.org/region.php?date=20210528%26region=12824&apos;} .. {&apos;ref_name&apos;: &apos;FRM_URL&apos;, &apos;ref_type&apos;: &apos;unknown&apos;, &apos;ref_url&apos;: &apos;N/A&apos;}</td></tr>\n",
       "<tr><td></td><td>0</td><td>POLYGON((818.03622 307.181706,847.11612 305.76552,841.8732 321.852564,812.9715 323.265612,818.03622 307.181706))</td><td>None</td><td>true</td><td>POINT(-163.81748 19)</td><td>None</td><td>UTC-HGS-TOPO</td><td>None</td><td>POINT(830.8275 314.53527)</td><td>None</td><td></td><td>None</td><td></td><td>N/A</td><td>POINT(0.938891890334633 290.735699374423)</td><td>2021-05-29T00:00:00</td><td>BETA</td><td>AR</td><td>None</td><td>None</td><td>5e-05</td><td>N/A</td><td></td><td>None</td><td>false</td><td>None</td><td>true</td><td>None</td><td>None</td><td>None</td><td>None</td><td></td><td>01030000000100000005000000B01BB62D4A908940CBF78C44E83273404B9352D0ED788A40F146E6913F1C7340F0164850FC4E8A40F31B261AA41D744083C0CAA1C5678940CD565EF23F347440B01BB62D4A908940CBF78C44E8327340</td><td>POLYGON((-166.31748 18.48434,-161.31748 18.48434,-161.31748 19.51566,-166.31748 19.51566,-166.31748 18.48434))</td><td>None</td><td></td><td>visible</td><td></td><td></td><td></td><td>SOL2021-05-29T00:00:00L197C071</td><td>None</td><td>1</td><td></td><td></td><td></td><td>http://www.swpc.noaa.gov/</td><td>None</td><td></td><td>None</td><td>None</td><td>NOAA SWPC Observer</td><td>760918848</td><td>NOAA SWPC</td><td>various</td><td>Note: Latitudinal extent not provided by SWPC and is calculated assuming area=lat_ext*long_ext.</td><td>None</td><td>None</td><td>19.51565933227539</td><td></td><td>None</td><td></td><td></td><td></td><td>18.48434066772461</td><td>NOAA Space Weather Prediction Center</td><td>POLYGON((0.923501 290.581716,0.951825 289.846985,0.952553 290.922119,0.924636 291.684481,0.923501 290.581716))</td><td></td><td>None</td><td>None</td><td>DHO</td><td></td><td>None</td><td></td><td></td><td>0.0909090902139765566</td><td></td><td></td><td>1</td><td>None</td><td>2021-05-29T07:00:21</td><td></td><td>None</td><td>deg deg</td><td>314.53527</td><td>830.8275</td><td>nil</td><td>4</td><td>2021-05-29T07:00:22</td><td>swpc_swpc</td><td>None</td><td>0.409796409680667661</td><td>None</td><td></td><td>None</td><td></td><td></td><td>cm</td><td>ivo://helio-informatics.org/AR_NOAASWPCObserver_20210529_070021_NOAA12824_20210529</td><td>SWPC</td><td>None</td><td></td><td>70.5</td><td>12824</td><td>None</td><td>65.5</td><td>None</td><td>None</td><td></td><td></td><td></td><td></td><td>false</td><td>None</td><td>0.5156620144844055</td><td>0.938891890334633</td><td>19</td><td></td><td>68</td><td>true</td><td></td><td>None</td><td></td><td></td><td>None</td><td>various</td><td>None</td><td>2.5</td><td>1</td><td>888.373103391938002</td><td>None</td><td>2021-05-29T23:59:59</td><td>None</td><td></td><td>None</td><td>None</td><td>19</td><td>None</td><td>68</td><td>nil</td><td>None</td><td>None</td><td>None</td><td>Active Region</td><td>None</td><td></td><td></td><td>None</td><td></td><td>-163.81748</td><td>290.735699374423</td><td>19</td><td></td><td></td><td></td><td>POINT(68 19)</td><td></td><td>None</td><td>None</td><td></td><td></td><td></td><td>visible</td><td>None</td><td>POLYGON((65.5 18.48434,70.5 18.48434,70.5 19.51566,65.5 19.51566,65.5 18.48434))</td><td>km2</td><td>None</td><td></td><td>{&apos;ref_name&apos;: &apos;NASA Solar Monitor&apos;, &apos;ref_type&apos;: &apos;html&apos;, &apos;ref_url&apos;: &apos;http://www.solarmonitor.org/region.php?date=20210529%26region=12824&apos;} .. {&apos;ref_name&apos;: &apos;FRM_URL&apos;, &apos;ref_type&apos;: &apos;unknown&apos;, &apos;ref_url&apos;: &apos;N/A&apos;}</td></tr>\n",
       "<tr><td></td><td>0</td><td>POLYGON((869.62068 364.115112,874.02348 362.309958,867.81162 376.938936,863.43738 378.737688,869.62068 364.115112))</td><td>None</td><td>true</td><td>POINT(-144.81748 23)</td><td>None</td><td>UTC-HGS-TOPO</td><td>None</td><td>POINT(869.9469 370.539546)</td><td>None</td><td></td><td>None</td><td></td><td>N/A</td><td>POINT(0.999343918514928 293.070780581105)</td><td>2021-05-29T00:00:00</td><td>BETA</td><td>AR</td><td>None</td><td>None</td><td>5e-05</td><td>N/A</td><td></td><td>None</td><td>false</td><td>None</td><td>true</td><td>None</td><td>None</td><td>None</td><td>None</td><td></td><td>01030000000100000005000000406A1327F72C8B400936AE7FD7C17640E140481630508B4023128596F5A476403C66A0327E1E8B409850C1E1058F774065DF15C17FFB8A406DAAEE91CDAB7740406A1327F72C8B400936AE7FD7C17640</td><td>POLYGON((-147.81748 22.518715,-141.81748 22.518715,-141.81748 23.481285,-147.81748 23.481285,-147.81748 22.518715))</td><td>None</td><td></td><td>visible</td><td></td><td></td><td></td><td>SOL2021-05-29T00:00:00L216C067</td><td>None</td><td>1</td><td></td><td></td><td></td><td>http://www.swpc.noaa.gov/</td><td>None</td><td></td><td>None</td><td>None</td><td>NOAA SWPC Observer</td><td>852229120</td><td>NOAA SWPC</td><td>various</td><td>Note: Latitudinal extent not provided by SWPC and is calculated assuming area=lat_ext*long_ext.</td><td>None</td><td>None</td><td>23.481285095214844</td><td></td><td>None</td><td></td><td></td><td></td><td>22.518714904785156</td><td>NOAA Space Weather Prediction Center</td><td>POLYGON((0.996385 292.719337,0.999946 292.51553,0.999943 293.477992,0.996467 293.684151,0.996385 292.719337))</td><td></td><td>None</td><td>None</td><td>DKO</td><td></td><td>None</td><td></td><td></td><td>0.101818182263055002</td><td></td><td></td><td>1</td><td>None</td><td>2021-05-29T07:00:23</td><td></td><td>None</td><td>deg deg</td><td>370.539546</td><td>869.9469</td><td>nil</td><td>4</td><td>2021-05-29T07:00:24</td><td>swpc_swpc</td><td>None</td><td>0.387550781837752767</td><td>None</td><td></td><td>None</td><td></td><td></td><td>cm</td><td>ivo://helio-informatics.org/AR_NOAASWPCObserver_20210529_070023_NOAA12826_20210529</td><td>SWPC</td><td>None</td><td></td><td>90.0</td><td>12826</td><td>None</td><td>84.0</td><td>None</td><td>None</td><td></td><td></td><td></td><td></td><td>false</td><td>None</td><td>0.4812850058078766</td><td>0.999343918514928</td><td>23</td><td></td><td>87</td><td>true</td><td></td><td>None</td><td></td><td></td><td>None</td><td>various</td><td>None</td><td>3.0</td><td>1</td><td>945.572400173300366</td><td>None</td><td>2021-05-29T23:59:59</td><td>None</td><td></td><td>None</td><td>None</td><td>23</td><td>None</td><td>87</td><td>nil</td><td>None</td><td>None</td><td>None</td><td>Active Region</td><td>None</td><td></td><td></td><td>None</td><td></td><td>-144.81748</td><td>293.070780581105</td><td>23</td><td></td><td></td><td></td><td>POINT(87 23)</td><td></td><td>None</td><td>None</td><td></td><td></td><td></td><td>visible</td><td>None</td><td>POLYGON((84 22.518715,90 22.518715,90 23.481285,84 23.481285,84 22.518715))</td><td>km2</td><td>None</td><td></td><td>{&apos;ref_name&apos;: &apos;NASA Solar Monitor&apos;, &apos;ref_type&apos;: &apos;html&apos;, &apos;ref_url&apos;: &apos;http://www.solarmonitor.org/region.php?date=20210529%26region=12826&apos;} .. {&apos;ref_name&apos;: &apos;FRM_URL&apos;, &apos;ref_type&apos;: &apos;unknown&apos;, &apos;ref_url&apos;: &apos;N/A&apos;}</td></tr>\n",
       "<tr><td></td><td>0</td><td>POLYGON((879.0444 290.947218,890.79264 289.877478,887.66946 299.590992,875.96148 300.65988,879.0444 290.947218))</td><td>None</td><td>true</td><td>POINT(-166.05006 18)</td><td>None</td><td>UTC-HGS-TOPO</td><td>None</td><td>POINT(883.91964 295.274946)</td><td>None</td><td></td><td>None</td><td></td><td>N/A</td><td>POINT(0.985093634816389 288.471989384481)</td><td>2021-05-30T00:00:00</td><td>BETA</td><td>AR</td><td>None</td><td>None</td><td>5e-05</td><td>N/A</td><td></td><td>None</td><td>false</td><td>None</td><td>true</td><td>None</td><td>None</td><td>None</td><td>None</td><td></td><td>010300000001000000050000008A1F63EE5A788B40ECC20FCE272F724003ECA35357D68B405A0F5F260A1E7240D72FD80D5BBD8B402A0307B474B97240111E6D1CB15F8B408DB454DE8ECA72408A1F63EE5A788B40ECC20FCE272F7240</td><td>POLYGON((-168.05006 17.690604,-164.05006 17.690604,-164.05006 18.309396,-168.05006 18.309396,-168.05006 17.690604))</td><td>None</td><td></td><td>visible</td><td></td><td></td><td></td><td>SOL2021-05-30T00:00:00L194C072</td><td>None</td><td>1</td><td></td><td></td><td></td><td>http://www.swpc.noaa.gov/</td><td>None</td><td></td><td>None</td><td>None</td><td>NOAA SWPC Observer</td><td>365241056</td><td>NOAA SWPC</td><td>various</td><td>Note: Latitudinal extent not provided by SWPC and is calculated assuming area=lat_ext*long_ext.</td><td>None</td><td>None</td><td>18.309396743774414</td><td></td><td>None</td><td></td><td></td><td></td><td>17.690603256225586</td><td>NOAA Space Weather Prediction Center</td><td>POLYGON((0.97876 288.313576,0.990207 288.025676,0.990303 288.649686,0.978952 288.94397,0.97876 288.313576))</td><td></td><td>None</td><td>None</td><td>CAO</td><td></td><td>None</td><td></td><td></td><td>0.0436363643731848549</td><td></td><td></td><td>1</td><td>None</td><td>2021-05-30T07:00:21</td><td></td><td>None</td><td>deg deg</td><td>295.274946</td><td>883.91964</td><td>nil</td><td>4</td><td>2021-05-30T07:00:22</td><td>swpc_swpc</td><td>None</td><td>0.19766432481857435</td><td>None</td><td></td><td>None</td><td></td><td></td><td>cm</td><td>ivo://helio-informatics.org/AR_NOAASWPCObserver_20210530_070021_NOAA12824_20210530</td><td>SWPC</td><td>None</td><td></td><td>81.0</td><td>12824</td><td>None</td><td>77.0</td><td>None</td><td>None</td><td></td><td></td><td></td><td></td><td>false</td><td>None</td><td>0.30939701199531555</td><td>0.985093634816389</td><td>18</td><td></td><td>79</td><td>true</td><td></td><td>None</td><td></td><td></td><td>None</td><td>various</td><td>None</td><td>2.0</td><td>1</td><td>931.934130565584837</td><td>None</td><td>2021-05-30T23:59:59</td><td>None</td><td></td><td>None</td><td>None</td><td>18</td><td>None</td><td>79</td><td>nil</td><td>None</td><td>None</td><td>None</td><td>Active Region</td><td>None</td><td></td><td></td><td>None</td><td></td><td>-166.05006</td><td>288.471989384481</td><td>18</td><td></td><td></td><td></td><td>POINT(79 18)</td><td></td><td>None</td><td>None</td><td></td><td></td><td></td><td>visible</td><td>None</td><td>POLYGON((77 17.690604,81 17.690604,81 18.309396,77 18.309396,77 17.690604))</td><td>km2</td><td>None</td><td></td><td>{&apos;ref_name&apos;: &apos;NASA Solar Monitor&apos;, &apos;ref_type&apos;: &apos;html&apos;, &apos;ref_url&apos;: &apos;http://www.solarmonitor.org/region.php?date=20210530%26region=12824&apos;} .. {&apos;ref_name&apos;: &apos;FRM_URL&apos;, &apos;ref_type&apos;: &apos;unknown&apos;, &apos;ref_url&apos;: &apos;N/A&apos;}</td></tr>\n",
       "<tr><td></td><td>0</td><td>POLYGON((-658.8636 190.702494,-635.538 191.08266,-635.31486 192.755496,-658.6323 192.375276,-658.8636 190.702494))</td><td>None</td><td>true</td><td>POINT(70.94994 11)</td><td>None</td><td>UTC-HGS-TOPO</td><td>None</td><td>POINT(-647.187 191.730768)</td><td>None</td><td></td><td>None</td><td></td><td>N/A</td><td>POINT(0.713493021548481 73.4979453648394)</td><td>2021-05-30T00:00:00</td><td>BETA</td><td>AR</td><td>None</td><td>None</td><td>5e-05</td><td>N/A</td><td></td><td>None</td><td>false</td><td>None</td><td>true</td><td>None</td><td>None</td><td>None</td><td>None</td><td></td><td>010300000001000000050000009BE61DA7E89684C05C74B2D47AD66740FCA9F1D24DDC83C0FF959526A5E267408CD651D584DA83C04888F2052D186840166A4DF30E9584C0295FD042020C68409BE61DA7E89684C05C74B2D47AD66740</td><td>POLYGON((69.94994 10.948434,71.94994 10.948434,71.94994 11.051566,69.94994 11.051566,69.94994 10.948434))</td><td>None</td><td></td><td>visible</td><td></td><td></td><td></td><td>SOL2021-05-30T00:00:00L070C079</td><td>None</td><td>1</td><td></td><td></td><td></td><td>http://www.swpc.noaa.gov/</td><td>None</td><td></td><td>None</td><td>None</td><td>NOAA SWPC Observer</td><td>30436754</td><td>NOAA SWPC</td><td>various</td><td>Note: Latitudinal extent not provided by SWPC and is calculated assuming area=lat_ext*long_ext.</td><td>None</td><td>None</td><td>11.051566123962402</td><td></td><td>None</td><td></td><td></td><td></td><td>10.948433876037598</td><td>NOAA Space Weather Prediction Center</td><td>POLYGON((0.725033 73.857361,0.701498 73.26592,0.701783 73.122123,0.725292 73.717816,0.725033 73.857361))</td><td></td><td>None</td><td>None</td><td>BXO</td><td></td><td>None</td><td></td><td></td><td>0.00363636361811688459</td><td></td><td></td><td>1</td><td>None</td><td>2021-05-30T07:00:23</td><td></td><td>None</td><td>deg deg</td><td>191.730768</td><td>-647.187</td><td>nil</td><td>2</td><td>2021-05-30T07:00:25</td><td>swpc_swpc</td><td>None</td><td>0</td><td>None</td><td></td><td>None</td><td></td><td></td><td>cm</td><td>ivo://helio-informatics.org/AR_NOAASWPCObserver_20210530_070023_NOAA12827_20210530</td><td>SWPC</td><td>None</td><td></td><td>-43.0</td><td>12827</td><td>None</td><td>-45.0</td><td>None</td><td>None</td><td></td><td></td><td></td><td></td><td>false</td><td>None</td><td>0.05156619846820831</td><td>0.713493021548481</td><td>11</td><td></td><td>-44</td><td>true</td><td></td><td>None</td><td></td><td></td><td>None</td><td>various</td><td>None</td><td>1.0</td><td>1</td><td>674.990148348010962</td><td>None</td><td>2021-05-30T23:59:59</td><td>None</td><td></td><td>None</td><td>None</td><td>11</td><td>None</td><td>-44</td><td>nil</td><td>None</td><td>None</td><td>None</td><td>Active Region</td><td>None</td><td></td><td></td><td>None</td><td></td><td>70.94994</td><td>73.4979453648394</td><td>11</td><td></td><td></td><td></td><td>POINT(-44 11)</td><td></td><td>None</td><td>None</td><td></td><td></td><td></td><td>visible</td><td>None</td><td>POLYGON((-45 10.948434,-43 10.948434,-43 11.051566,-45 11.051566,-45 10.948434))</td><td>km2</td><td>None</td><td></td><td>{&apos;ref_name&apos;: &apos;NASA Solar Monitor&apos;, &apos;ref_type&apos;: &apos;html&apos;, &apos;ref_url&apos;: &apos;http://www.solarmonitor.org/region.php?date=20210530%26region=12827&apos;} .. {&apos;ref_name&apos;: &apos;FRM_URL&apos;, &apos;ref_type&apos;: &apos;unknown&apos;, &apos;ref_url&apos;: &apos;N/A&apos;}</td></tr>\n",
       "<tr><td></td><td>0</td><td>POLYGON((-487.211526 190.121526,-416.14353 190.702386,-415.792704 194.718966,-486.800868 194.13783,-487.211526 190.121526))</td><td>None</td><td>true</td><td>POINT(72.71699 11)</td><td>None</td><td>UTC-HGS-TOPO</td><td>None</td><td>POINT(-451.92345 192.432042)</td><td>None</td><td></td><td>None</td><td></td><td>N/A</td><td>POINT(0.519290286104125 66.9353692020553)</td><td>2021-05-31T00:00:00</td><td>BETA</td><td>AR</td><td>None</td><td>None</td><td>5e-05</td><td>N/A</td><td></td><td>None</td><td>false</td><td>None</td><td>true</td><td>None</td><td>None</td><td>None</td><td>None</td><td></td><td>010300000001000000050000000F44166962737EC0A3737E8AE3C36740EBFF1CE64B027AC0626534F279D6674089B663EAAEFC79C0F31DFCC4015768409BC6F65AD06C7EC00CCD751A694468400F44166962737EC0A3737E8AE3C36740</td><td>POLYGON((70.21699 10.87624,75.21699 10.87624,75.21699 11.12376,70.21699 11.12376,70.21699 10.87624))</td><td>None</td><td></td><td>visible</td><td></td><td></td><td></td><td>SOL2021-05-31T00:00:00L072C079</td><td>None</td><td>1</td><td></td><td></td><td></td><td>http://www.swpc.noaa.gov/</td><td>None</td><td></td><td>None</td><td>None</td><td>NOAA SWPC Observer</td><td>182620528</td><td>NOAA SWPC</td><td>various</td><td>Note: Latitudinal extent not provided by SWPC and is calculated assuming area=lat_ext*long_ext.</td><td>None</td><td>None</td><td>11.123759269714355</td><td></td><td>None</td><td></td><td></td><td></td><td>10.876240730285645</td><td>NOAA Space Weather Prediction Center</td><td>POLYGON((0.552915 68.683088,0.483949 65.379856,0.485397 64.905941,0.55407 68.25772,0.552915 68.683088))</td><td></td><td>None</td><td>None</td><td>CRO</td><td></td><td>None</td><td></td><td></td><td>0.0218181821865924275</td><td></td><td></td><td>1</td><td>None</td><td>2021-05-31T07:00:15</td><td></td><td>None</td><td>deg deg</td><td>192.432042</td><td>-451.92345</td><td>nil</td><td>5</td><td>2021-05-31T07:00:17</td><td>swpc_swpc</td><td>None</td><td>0</td><td>None</td><td></td><td>None</td><td></td><td></td><td>cm</td><td>ivo://helio-informatics.org/AR_NOAASWPCObserver_20210531_070015_NOAA12827_20210531</td><td>SWPC</td><td>None</td><td></td><td>-26.5</td><td>12827</td><td>None</td><td>-31.5</td><td>None</td><td>None</td><td></td><td></td><td></td><td></td><td>false</td><td>None</td><td>0.12375900149345398</td><td>0.519290286104125</td><td>11</td><td></td><td>-29</td><td>true</td><td></td><td>None</td><td></td><td></td><td>None</td><td>various</td><td>None</td><td>2.5</td><td>1</td><td>491.18723054268446</td><td>None</td><td>2021-05-31T23:59:59</td><td>None</td><td></td><td>None</td><td>None</td><td>11</td><td>None</td><td>-29</td><td>nil</td><td>None</td><td>None</td><td>None</td><td>Active Region</td><td>None</td><td></td><td></td><td>None</td><td></td><td>72.71699</td><td>66.9353692020553</td><td>11</td><td></td><td></td><td></td><td>POINT(-29 11)</td><td></td><td>None</td><td>None</td><td></td><td></td><td></td><td>visible</td><td>None</td><td>POLYGON((-31.5 10.87624,-26.5 10.87624,-26.5 11.12376,-31.5 11.12376,-31.5 10.87624))</td><td>km2</td><td>None</td><td></td><td>{&apos;ref_name&apos;: &apos;NASA Solar Monitor&apos;, &apos;ref_type&apos;: &apos;html&apos;, &apos;ref_url&apos;: &apos;http://www.solarmonitor.org/region.php?date=20210531%26region=12827&apos;} .. {&apos;ref_name&apos;: &apos;FRM_URL&apos;, &apos;ref_type&apos;: &apos;unknown&apos;, &apos;ref_url&apos;: &apos;N/A&apos;}</td></tr>\n",
       "<tr><td></td><td>0</td><td>POLYGON((-443.693808 -495.03573,-431.943078 -494.948586,-432.918966 -492.033966,-444.69621 -492.121416,-443.693808 -495.03573))</td><td>None</td><td>true</td><td>POINT(68.71699 -32)</td><td>None</td><td>UTC-HGS-TOPO</td><td>None</td><td>POINT(-438.330588 -493.535424)</td><td>None</td><td></td><td>None</td><td></td><td>N/A</td><td>POINT(0.69785043362424 138.390306801339)</td><td>2021-05-31T00:00:00</td><td>ALPHA</td><td>AR</td><td>None</td><td>None</td><td>5e-05</td><td>N/A</td><td></td><td>None</td><td>false</td><td>None</td><td>true</td><td>None</td><td>None</td><td>None</td><td>None</td><td></td><td>0103000000010000000500000040DB6AD619BB7BC0C7D79E5992F07EC03CF9F4D816FF7AC0187783682DEF7EC02D42B115B40E7BC0D1B2EE1F8BC07EC05FD218AD23CB7BC06153E751F1C17EC040DB6AD619BB7BC0C7D79E5992F07EC0</td><td>POLYGON((68.21699 -32.103133,69.21699 -32.103133,69.21699 -31.896867,68.21699 -31.896867,68.21699 -32.103133))</td><td>None</td><td></td><td>visible</td><td></td><td></td><td></td><td>SOL2021-05-31T00:00:00L068C122</td><td>None</td><td>1</td><td></td><td></td><td></td><td>http://www.swpc.noaa.gov/</td><td>None</td><td></td><td>None</td><td>None</td><td>NOAA SWPC Observer</td><td>30436754</td><td>NOAA SWPC</td><td>various</td><td>Note: Latitudinal extent not provided by SWPC and is calculated assuming area=lat_ext*long_ext.</td><td>None</td><td>None</td><td>-31.896867752075195</td><td></td><td>None</td><td></td><td></td><td></td><td>-32.10313415527344</td><td>NOAA Space Weather Prediction Center</td><td>POLYGON((0.702809 138.130558,0.694509 138.888702,0.692872 138.656878,0.701228 137.898052,0.702809 138.130558))</td><td></td><td>None</td><td>None</td><td>AXX</td><td></td><td>None</td><td></td><td></td><td>0.00363636361811688459</td><td></td><td></td><td>1</td><td>None</td><td>2021-05-31T07:00:17</td><td></td><td>None</td><td>deg deg</td><td>-493.535424</td><td>-438.330588</td><td>nil</td><td>2</td><td>2021-05-31T07:00:18</td><td>swpc_swpc</td><td>None</td><td>0</td><td>None</td><td></td><td>None</td><td></td><td></td><td>cm</td><td>ivo://helio-informatics.org/AR_NOAASWPCObserver_20210531_070017_NOAA12828_20210531</td><td>SWPC</td><td>None</td><td></td><td>-32.5</td><td>12828</td><td>None</td><td>-33.5</td><td>None</td><td>None</td><td></td><td></td><td></td><td></td><td>false</td><td>None</td><td>0.10313200205564499</td><td>0.69785043362424</td><td>-32</td><td></td><td>-33</td><td>true</td><td></td><td>None</td><td></td><td></td><td>None</td><td>various</td><td>None</td><td>0.5</td><td>1</td><td>660.084024287276293</td><td>None</td><td>2021-05-31T23:59:59</td><td>None</td><td></td><td>None</td><td>None</td><td>-32</td><td>None</td><td>-33</td><td>nil</td><td>None</td><td>None</td><td>None</td><td>Active Region</td><td>None</td><td></td><td></td><td>None</td><td></td><td>68.71699</td><td>138.390306801339</td><td>-32</td><td></td><td></td><td></td><td>POINT(-33 -32)</td><td></td><td>None</td><td>None</td><td></td><td></td><td></td><td>visible</td><td>None</td><td>POLYGON((-33.5 -32.103133,-32.5 -32.103133,-32.5 -31.896867,-33.5 -31.896867,-33.5 -32.103133))</td><td>km2</td><td>None</td><td></td><td>{&apos;ref_name&apos;: &apos;NASA Solar Monitor&apos;, &apos;ref_type&apos;: &apos;html&apos;, &apos;ref_url&apos;: &apos;http://www.solarmonitor.org/region.php?date=20210531%26region=12828&apos;} .. {&apos;ref_name&apos;: &apos;FRM_URL&apos;, &apos;ref_type&apos;: &apos;unknown&apos;, &apos;ref_url&apos;: &apos;N/A&apos;}</td></tr>\n",
       "</table></br>"
      ],
      "text/plain": [
       "<sunpy.net.fido_factory.UnifiedResponse object at 0x147decdc0>\n",
       "Results from 1 Provider:\n",
       "\n",
       "44 Results from the HEKClient:\n",
       "gs_thumburl ...\n",
       "----------- ...\n",
       "            ...\n",
       "            ...\n",
       "            ...\n",
       "            ...\n",
       "            ...\n",
       "            ...\n",
       "            ...\n",
       "            ...\n",
       "            ...\n",
       "            ...\n",
       "        ... ...\n",
       "            ...\n",
       "            ...\n",
       "            ...\n",
       "            ...\n",
       "            ...\n",
       "            ...\n",
       "            ...\n",
       "            ...\n",
       "            ...\n",
       "            ...\n",
       "            ...\n",
       "Length = 44 rows\n"
      ]
     },
     "execution_count": 43,
     "metadata": {},
     "output_type": "execute_result"
    }
   ],
   "source": [
    "result_hek"
   ]
  },
  {
   "cell_type": "markdown",
   "id": "429d96b8",
   "metadata": {},
   "source": [
    "As we can see the results from the HEK returns metadata with lots of columns, we can use the `.show()` to specify the columns we want to show. Lets just print all columns out first"
   ]
  },
  {
   "cell_type": "code",
   "execution_count": 44,
   "id": "dbaaa859",
   "metadata": {},
   "outputs": [
    {
     "data": {
      "text/plain": [
       "['SOL_standard',\n",
       " 'absnetcurrenthelicity',\n",
       " 'active',\n",
       " 'ar_axislength',\n",
       " 'ar_compactnesscls',\n",
       " 'ar_lengthunit',\n",
       " 'ar_mcintoshcls',\n",
       " 'ar_mtwilsoncls',\n",
       " 'ar_neutrallength',\n",
       " 'ar_noaaclass',\n",
       " 'ar_noaanum',\n",
       " 'ar_numspots',\n",
       " 'ar_penumbracls',\n",
       " 'ar_pilcurvature',\n",
       " 'ar_polarity',\n",
       " 'ar_spotarearaw',\n",
       " 'ar_spotarearawuncert',\n",
       " 'ar_spotarearawunit',\n",
       " 'ar_spotarearepr',\n",
       " 'ar_spotarearepruncert',\n",
       " 'ar_spotareareprunit',\n",
       " 'ar_sumnegsignedflux',\n",
       " 'ar_sumpossignedflux',\n",
       " 'ar_zurichcls',\n",
       " 'area_atdiskcenter',\n",
       " 'area_atdiskcenteruncert',\n",
       " 'area_raw',\n",
       " 'area_uncert',\n",
       " 'area_unit',\n",
       " 'bound_ccnsteps',\n",
       " 'bound_ccstartc1',\n",
       " 'bound_ccstartc2',\n",
       " 'bound_chaincode',\n",
       " 'boundbox_c1ll',\n",
       " 'boundbox_c1ur',\n",
       " 'boundbox_c2ll',\n",
       " 'boundbox_c2ur',\n",
       " 'chaincodetype',\n",
       " 'comment_count',\n",
       " 'concept',\n",
       " 'currentdensityunit',\n",
       " 'currenthelicityunit',\n",
       " 'currentunit',\n",
       " 'event_avg_rating',\n",
       " 'event_c1error',\n",
       " 'event_c2error',\n",
       " 'event_clippedspatial',\n",
       " 'event_clippedtemporal',\n",
       " 'event_coord1',\n",
       " 'event_coord2',\n",
       " 'event_coord3',\n",
       " 'event_coordsys',\n",
       " 'event_coordunit',\n",
       " 'event_description',\n",
       " 'event_endtime',\n",
       " 'event_expires',\n",
       " 'event_importance',\n",
       " 'event_importance_num_ratings',\n",
       " 'event_mapurl',\n",
       " 'event_maskurl',\n",
       " 'event_npixels',\n",
       " 'event_pixelunit',\n",
       " 'event_probability',\n",
       " 'event_score',\n",
       " 'event_starttime',\n",
       " 'event_testflag',\n",
       " 'event_title',\n",
       " 'event_type',\n",
       " 'eventtype',\n",
       " 'frm_contact',\n",
       " 'frm_daterun',\n",
       " 'frm_humanflag',\n",
       " 'frm_identifier',\n",
       " 'frm_institute',\n",
       " 'frm_name',\n",
       " 'frm_paramset',\n",
       " 'frm_specificid',\n",
       " 'frm_url',\n",
       " 'frm_versionnumber',\n",
       " 'gradientunit',\n",
       " 'gs_galleryid',\n",
       " 'gs_imageurl',\n",
       " 'gs_movieurl',\n",
       " 'gs_thumburl',\n",
       " 'gwill',\n",
       " 'gwillunit',\n",
       " 'hcr_checked',\n",
       " 'hgc_bbox',\n",
       " 'hgc_boundcc',\n",
       " 'hgc_coord',\n",
       " 'hgc_x',\n",
       " 'hgc_y',\n",
       " 'hgs_bbox',\n",
       " 'hgs_boundcc',\n",
       " 'hgs_coord',\n",
       " 'hgs_x',\n",
       " 'hgs_y',\n",
       " 'highsheararea',\n",
       " 'highshearareapercent',\n",
       " 'highshearareaunit',\n",
       " 'hpc_bbox',\n",
       " 'hpc_boundcc',\n",
       " 'hpc_coord',\n",
       " 'hpc_geom',\n",
       " 'hpc_radius',\n",
       " 'hpc_x',\n",
       " 'hpc_y',\n",
       " 'hrc_a',\n",
       " 'hrc_bbox',\n",
       " 'hrc_boundcc',\n",
       " 'hrc_coord',\n",
       " 'hrc_r',\n",
       " 'intenskurt',\n",
       " 'intensmax',\n",
       " 'intensmean',\n",
       " 'intensmedian',\n",
       " 'intensmin',\n",
       " 'intensskew',\n",
       " 'intenstotal',\n",
       " 'intensunit',\n",
       " 'intensvar',\n",
       " 'kb_archivdate',\n",
       " 'kb_archivid',\n",
       " 'kb_archivist',\n",
       " 'log_r_value',\n",
       " 'magfluxunit',\n",
       " 'maxmagfieldstrength',\n",
       " 'maxmagfieldstrengthunit',\n",
       " 'meancurrenthelicity',\n",
       " 'meanenergydensityunit',\n",
       " 'meangradienthorz',\n",
       " 'meangradienttotal',\n",
       " 'meangradientvert',\n",
       " 'meaninclinationgamma',\n",
       " 'meanphotoenergydensity',\n",
       " 'meanshearangle',\n",
       " 'meantwistalpha',\n",
       " 'meanvertcurrentdensity',\n",
       " 'noposition',\n",
       " 'obs_channelid',\n",
       " 'obs_dataprepurl',\n",
       " 'obs_firstprocessingdate',\n",
       " 'obs_includesnrt',\n",
       " 'obs_instrument',\n",
       " 'obs_lastprocessingdate',\n",
       " 'obs_levelnum',\n",
       " 'obs_meanwavel',\n",
       " 'obs_observatory',\n",
       " 'obs_title',\n",
       " 'obs_wavelunit',\n",
       " 'rasterscan',\n",
       " 'rasterscantype',\n",
       " 'refs',\n",
       " 'refs_orig',\n",
       " 'revision',\n",
       " 'savncpp',\n",
       " 'search_channelid',\n",
       " 'search_frm_name',\n",
       " 'search_instrument',\n",
       " 'search_observatory',\n",
       " 'sharp_noaa_ars',\n",
       " 'sum_overlap_scores',\n",
       " 'totalenergydensityunit',\n",
       " 'totalphotoenergy',\n",
       " 'totalphotoenergydensity',\n",
       " 'totalphotoenergyunit',\n",
       " 'twistunit',\n",
       " 'unsignedcurrenthelicity',\n",
       " 'unsignedflux',\n",
       " 'unsignedvertcurrent']"
      ]
     },
     "execution_count": 44,
     "metadata": {},
     "output_type": "execute_result"
    }
   ],
   "source": [
    "result_hek.all_colnames"
   ]
  },
  {
   "cell_type": "markdown",
   "id": "b2887eba",
   "metadata": {},
   "source": [
    "Now lets only print the time, NOAA active region number, active region area, number of spots, and the Hale class"
   ]
  },
  {
   "cell_type": "code",
   "execution_count": 45,
   "id": "fce30b30",
   "metadata": {},
   "outputs": [
    {
     "data": {
      "text/html": [
       "Results from 1 Provider:</br></br>44 Results from the HEKClient:</br><i>HEKTable length=44</i>\n",
       "<table id=\"table5501603600\" class=\"table-striped table-bordered table-condensed\">\n",
       "<thead><tr><th>event_starttime</th><th>ar_noaanum</th><th>area_atdiskcenter</th><th>ar_numspots</th><th>ar_mtwilsoncls</th></tr></thead>\n",
       "<thead><tr><th>str19</th><th>int64</th><th>int64</th><th>int64</th><th>str10</th></tr></thead>\n",
       "<tr><td>2021-05-01T00:00:00</td><td>12821</td><td>91310264</td><td>1</td><td>ALPHA</td></tr>\n",
       "<tr><td>2021-05-01T00:00:00</td><td>12820</td><td>60873508</td><td>3</td><td>BETA</td></tr>\n",
       "<tr><td>2021-05-01T00:00:00</td><td>12818</td><td>60873508</td><td>1</td><td>ALPHA</td></tr>\n",
       "<tr><td>2021-05-02T00:00:00</td><td>12818</td><td>30436754</td><td>1</td><td>ALPHA</td></tr>\n",
       "<tr><td>2021-05-08T00:00:00</td><td>12822</td><td>395677824</td><td>5</td><td>BETA</td></tr>\n",
       "<tr><td>2021-05-09T00:00:00</td><td>12822</td><td>547861568</td><td>7</td><td>BETA</td></tr>\n",
       "<tr><td>2021-05-10T00:00:00</td><td>12822</td><td>547861568</td><td>8</td><td>BETA-GAMMA</td></tr>\n",
       "<tr><td>2021-05-11T00:00:00</td><td>12822</td><td>395677824</td><td>10</td><td>BETA-GAMMA</td></tr>\n",
       "<tr><td>2021-05-11T00:00:00</td><td>12823</td><td>121747016</td><td>6</td><td>BETA</td></tr>\n",
       "<tr><td>2021-05-12T00:00:00</td><td>12822</td><td>578298368</td><td>9</td><td>BETA-DELTA</td></tr>\n",
       "<tr><td>...</td><td>...</td><td>...</td><td>...</td><td>...</td></tr>\n",
       "<tr><td>2021-05-27T00:00:00</td><td>12824</td><td>760918848</td><td>5</td><td>BETA</td></tr>\n",
       "<tr><td>2021-05-27T00:00:00</td><td>12826</td><td>730482112</td><td>9</td><td>BETA</td></tr>\n",
       "<tr><td>2021-05-28T00:00:00</td><td>12826</td><td>852229120</td><td>9</td><td>BETA</td></tr>\n",
       "<tr><td>2021-05-28T00:00:00</td><td>12824</td><td>760918848</td><td>5</td><td>BETA</td></tr>\n",
       "<tr><td>2021-05-29T00:00:00</td><td>12824</td><td>760918848</td><td>4</td><td>BETA</td></tr>\n",
       "<tr><td>2021-05-29T00:00:00</td><td>12826</td><td>852229120</td><td>4</td><td>BETA</td></tr>\n",
       "<tr><td>2021-05-30T00:00:00</td><td>12824</td><td>365241056</td><td>4</td><td>BETA</td></tr>\n",
       "<tr><td>2021-05-30T00:00:00</td><td>12827</td><td>30436754</td><td>2</td><td>BETA</td></tr>\n",
       "<tr><td>2021-05-31T00:00:00</td><td>12827</td><td>182620528</td><td>5</td><td>BETA</td></tr>\n",
       "<tr><td>2021-05-31T00:00:00</td><td>12828</td><td>30436754</td><td>2</td><td>ALPHA</td></tr>\n",
       "</table></br>"
      ],
      "text/plain": [
       "<sunpy.net.fido_factory.UnifiedResponse object at 0x147eb0040>\n",
       "Results from 1 Provider:\n",
       "\n",
       "44 Results from the HEKClient:\n",
       "  event_starttime   ar_noaanum area_atdiskcenter ar_numspots ar_mtwilsoncls\n",
       "------------------- ---------- ----------------- ----------- --------------\n",
       "2021-05-01T00:00:00      12821          91310264           1          ALPHA\n",
       "2021-05-01T00:00:00      12820          60873508           3           BETA\n",
       "2021-05-01T00:00:00      12818          60873508           1          ALPHA\n",
       "2021-05-02T00:00:00      12818          30436754           1          ALPHA\n",
       "2021-05-08T00:00:00      12822         395677824           5           BETA\n",
       "2021-05-09T00:00:00      12822         547861568           7           BETA\n",
       "2021-05-10T00:00:00      12822         547861568           8     BETA-GAMMA\n",
       "2021-05-11T00:00:00      12822         395677824          10     BETA-GAMMA\n",
       "2021-05-11T00:00:00      12823         121747016           6           BETA\n",
       "2021-05-12T00:00:00      12822         578298368           9     BETA-DELTA\n",
       "                ...        ...               ...         ...            ...\n",
       "2021-05-26T00:00:00      12826          60873508           8           BETA\n",
       "2021-05-27T00:00:00      12824         760918848           5           BETA\n",
       "2021-05-27T00:00:00      12826         730482112           9           BETA\n",
       "2021-05-28T00:00:00      12826         852229120           9           BETA\n",
       "2021-05-28T00:00:00      12824         760918848           5           BETA\n",
       "2021-05-29T00:00:00      12824         760918848           4           BETA\n",
       "2021-05-29T00:00:00      12826         852229120           4           BETA\n",
       "2021-05-30T00:00:00      12824         365241056           4           BETA\n",
       "2021-05-30T00:00:00      12827          30436754           2           BETA\n",
       "2021-05-31T00:00:00      12827         182620528           5           BETA\n",
       "2021-05-31T00:00:00      12828          30436754           2          ALPHA\n",
       "Length = 44 rows\n"
      ]
     },
     "execution_count": 45,
     "metadata": {},
     "output_type": "execute_result"
    }
   ],
   "source": [
    "result_hek.show(\"event_starttime\", \"ar_noaanum\", \"area_atdiskcenter\", \"ar_numspots\", \"ar_mtwilsoncls\")"
   ]
  },
  {
   "cell_type": "markdown",
   "id": "a9e1ccf5",
   "metadata": {},
   "source": [
    "We can also index the results table like before, using a dictionary like indexing"
   ]
  },
  {
   "cell_type": "code",
   "execution_count": 46,
   "id": "9526cea2",
   "metadata": {},
   "outputs": [],
   "source": [
    "interesting_columns=[\"event_starttime\", \"ar_noaanum\", \"area_atdiskcenter\", \"ar_numspots\", \"ar_mtwilsoncls\"]"
   ]
  },
  {
   "cell_type": "code",
   "execution_count": 47,
   "id": "299eab08",
   "metadata": {},
   "outputs": [
    {
     "data": {
      "text/html": [
       "<i>HEKTable length=44</i>\n",
       "<table id=\"table5501555088\" class=\"table-striped table-bordered table-condensed\">\n",
       "<thead><tr><th>event_starttime</th><th>ar_noaanum</th><th>area_atdiskcenter</th><th>ar_numspots</th><th>ar_mtwilsoncls</th></tr></thead>\n",
       "<thead><tr><th>str19</th><th>int64</th><th>int64</th><th>int64</th><th>str10</th></tr></thead>\n",
       "<tr><td>2021-05-01T00:00:00</td><td>12821</td><td>91310264</td><td>1</td><td>ALPHA</td></tr>\n",
       "<tr><td>2021-05-01T00:00:00</td><td>12820</td><td>60873508</td><td>3</td><td>BETA</td></tr>\n",
       "<tr><td>2021-05-01T00:00:00</td><td>12818</td><td>60873508</td><td>1</td><td>ALPHA</td></tr>\n",
       "<tr><td>2021-05-02T00:00:00</td><td>12818</td><td>30436754</td><td>1</td><td>ALPHA</td></tr>\n",
       "<tr><td>2021-05-08T00:00:00</td><td>12822</td><td>395677824</td><td>5</td><td>BETA</td></tr>\n",
       "<tr><td>2021-05-09T00:00:00</td><td>12822</td><td>547861568</td><td>7</td><td>BETA</td></tr>\n",
       "<tr><td>2021-05-10T00:00:00</td><td>12822</td><td>547861568</td><td>8</td><td>BETA-GAMMA</td></tr>\n",
       "<tr><td>2021-05-11T00:00:00</td><td>12822</td><td>395677824</td><td>10</td><td>BETA-GAMMA</td></tr>\n",
       "<tr><td>2021-05-11T00:00:00</td><td>12823</td><td>121747016</td><td>6</td><td>BETA</td></tr>\n",
       "<tr><td>2021-05-12T00:00:00</td><td>12822</td><td>578298368</td><td>9</td><td>BETA-DELTA</td></tr>\n",
       "<tr><td>...</td><td>...</td><td>...</td><td>...</td><td>...</td></tr>\n",
       "<tr><td>2021-05-27T00:00:00</td><td>12824</td><td>760918848</td><td>5</td><td>BETA</td></tr>\n",
       "<tr><td>2021-05-27T00:00:00</td><td>12826</td><td>730482112</td><td>9</td><td>BETA</td></tr>\n",
       "<tr><td>2021-05-28T00:00:00</td><td>12826</td><td>852229120</td><td>9</td><td>BETA</td></tr>\n",
       "<tr><td>2021-05-28T00:00:00</td><td>12824</td><td>760918848</td><td>5</td><td>BETA</td></tr>\n",
       "<tr><td>2021-05-29T00:00:00</td><td>12824</td><td>760918848</td><td>4</td><td>BETA</td></tr>\n",
       "<tr><td>2021-05-29T00:00:00</td><td>12826</td><td>852229120</td><td>4</td><td>BETA</td></tr>\n",
       "<tr><td>2021-05-30T00:00:00</td><td>12824</td><td>365241056</td><td>4</td><td>BETA</td></tr>\n",
       "<tr><td>2021-05-30T00:00:00</td><td>12827</td><td>30436754</td><td>2</td><td>BETA</td></tr>\n",
       "<tr><td>2021-05-31T00:00:00</td><td>12827</td><td>182620528</td><td>5</td><td>BETA</td></tr>\n",
       "<tr><td>2021-05-31T00:00:00</td><td>12828</td><td>30436754</td><td>2</td><td>ALPHA</td></tr>\n",
       "</table>"
      ],
      "text/plain": [
       "<sunpy.net.hek.hek.HEKTable object at 0x147eb1a30>\n",
       "  event_starttime   ar_noaanum area_atdiskcenter ar_numspots ar_mtwilsoncls\n",
       "------------------- ---------- ----------------- ----------- --------------\n",
       "2021-05-01T00:00:00      12821          91310264           1          ALPHA\n",
       "2021-05-01T00:00:00      12820          60873508           3           BETA\n",
       "2021-05-01T00:00:00      12818          60873508           1          ALPHA\n",
       "2021-05-02T00:00:00      12818          30436754           1          ALPHA\n",
       "2021-05-08T00:00:00      12822         395677824           5           BETA\n",
       "2021-05-09T00:00:00      12822         547861568           7           BETA\n",
       "2021-05-10T00:00:00      12822         547861568           8     BETA-GAMMA\n",
       "2021-05-11T00:00:00      12822         395677824          10     BETA-GAMMA\n",
       "2021-05-11T00:00:00      12823         121747016           6           BETA\n",
       "2021-05-12T00:00:00      12822         578298368           9     BETA-DELTA\n",
       "                ...        ...               ...         ...            ...\n",
       "2021-05-26T00:00:00      12826          60873508           8           BETA\n",
       "2021-05-27T00:00:00      12824         760918848           5           BETA\n",
       "2021-05-27T00:00:00      12826         730482112           9           BETA\n",
       "2021-05-28T00:00:00      12826         852229120           9           BETA\n",
       "2021-05-28T00:00:00      12824         760918848           5           BETA\n",
       "2021-05-29T00:00:00      12824         760918848           4           BETA\n",
       "2021-05-29T00:00:00      12826         852229120           4           BETA\n",
       "2021-05-30T00:00:00      12824         365241056           4           BETA\n",
       "2021-05-30T00:00:00      12827          30436754           2           BETA\n",
       "2021-05-31T00:00:00      12827         182620528           5           BETA\n",
       "2021-05-31T00:00:00      12828          30436754           2          ALPHA\n",
       "Length = 44 rows"
      ]
     },
     "execution_count": 47,
     "metadata": {},
     "output_type": "execute_result"
    }
   ],
   "source": [
    "result_hek[\"HEK\", interesting_columns]"
   ]
  },
  {
   "cell_type": "markdown",
   "id": "39a5d81b",
   "metadata": {},
   "source": [
    "#### Saving results\n",
    "\n",
    "We can then save these metadata results to a file, for example lets write it to a csv file"
   ]
  },
  {
   "cell_type": "code",
   "execution_count": 48,
   "id": "24bc830a",
   "metadata": {},
   "outputs": [
    {
     "name": "stderr",
     "output_type": "stream",
     "text": [
      "WARNING: AstropyDeprecationWarning: active_regions_may2021.csv already exists. Automatically overwriting ASCII files is deprecated. Use the argument 'overwrite=True' in the future. [astropy.io.ascii.ui]\n"
     ]
    }
   ],
   "source": [
    "result_hek[\"HEK\", interesting_columns].write(\"active_regions_may2021.csv\", format=\"csv\")"
   ]
  },
  {
   "cell_type": "markdown",
   "id": "04773af4",
   "metadata": {},
   "source": [
    "## 7. How Fido can be extended "
   ]
  },
  {
   "cell_type": "markdown",
   "id": "868e2c1b",
   "metadata": {},
   "source": [
    "Fido is designed to be extensible in such a way that new data and metadata sources can be easily added and supports, providing a similar unified workflow to retrieve new data sources. This can be done both inside sunpy code and outside in, for example, an affiliated package. \n",
    "\n",
    "So if there is a new datasource that you would like to see in sunpy core let us know! Or even better if you are building an instrument package why now use the Fido functionality to search and retrieve your data? Some examples of affiliated packages that have recently done this is `sunpy-soar` which provides interface to the Solar Orbiter archive (SOAR), and other sunpy affiliated packages such as `radiospectra`.\n",
    "\n",
    "To learn more about how to extend Fido please find more information here https://docs.sunpy.org/en/stable/dev_guide/contents/extending_fido.html\n"
   ]
  },
  {
   "cell_type": "code",
   "execution_count": null,
   "id": "c64a0dd6",
   "metadata": {},
   "outputs": [],
   "source": []
  }
 ],
 "metadata": {
  "kernelspec": {
   "display_name": "Python 3",
   "language": "python",
   "name": "python3"
  },
  "language_info": {
   "codemirror_mode": {
    "name": "ipython",
    "version": 3
   },
   "file_extension": ".py",
   "mimetype": "text/x-python",
   "name": "python",
   "nbconvert_exporter": "python",
   "pygments_lexer": "ipython3",
   "version": "3.9.4"
  }
 },
 "nbformat": 4,
 "nbformat_minor": 5
}
